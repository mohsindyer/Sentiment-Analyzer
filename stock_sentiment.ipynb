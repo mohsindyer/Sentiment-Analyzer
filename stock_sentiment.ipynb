{
  "nbformat": 4,
  "nbformat_minor": 0,
  "metadata": {
    "colab": {
      "name": "stock_sentiment",
      "provenance": []
    },
    "kernelspec": {
      "display_name": "Python 3",
      "language": "python",
      "name": "python3"
    },
    "language_info": {
      "codemirror_mode": {
        "name": "ipython",
        "version": 3
      },
      "file_extension": ".py",
      "mimetype": "text/x-python",
      "name": "python",
      "nbconvert_exporter": "python",
      "pygments_lexer": "ipython3",
      "version": "3.7.10"
    }
  },
  "cells": [
    {
      "cell_type": "markdown",
      "metadata": {
        "id": "laHyInXfKwtB"
      },
      "source": [
        "# Import required libraries:"
      ]
    },
    {
      "cell_type": "code",
      "metadata": {
        "id": "01TLyokvwFYk"
      },
      "source": [
        "import nltk\n",
        "from nltk.classify import NaiveBayesClassifier\n",
        "from nltk.corpus import subjectivity\n",
        "from nltk.sentiment.util import *\n",
        "from nltk.sentiment import SentimentAnalyzer\n",
        "from datetime import datetime\n",
        "from datetime import timedelta\n",
        "import pandas as pd"
      ],
      "execution_count": null,
      "outputs": []
    },
    {
      "cell_type": "markdown",
      "metadata": {
        "id": "nuzMb68cKwtG"
      },
      "source": [
        "## Reading and Analysing Dataset:"
      ]
    },
    {
      "cell_type": "code",
      "metadata": {
        "colab": {
          "base_uri": "https://localhost:8080/"
        },
        "id": "lRQfGhZXNTOi",
        "outputId": "e74274d0-a64d-4687-ac54-0723164358f5"
      },
      "source": [
        "from google.colab import drive\n",
        "drive.mount('/content/drive')"
      ],
      "execution_count": null,
      "outputs": [
        {
          "output_type": "stream",
          "text": [
            "Drive already mounted at /content/drive; to attempt to forcibly remount, call drive.mount(\"/content/drive\", force_remount=True).\n"
          ],
          "name": "stdout"
        }
      ]
    },
    {
      "cell_type": "code",
      "metadata": {
        "id": "qCQ4zD-AxpzU"
      },
      "source": [
        "data=pd.read_csv(\"/content/drive/MyDrive/SENG/data 2/stocks/stocks_FB.csv\")"
      ],
      "execution_count": null,
      "outputs": []
    },
    {
      "cell_type": "code",
      "metadata": {
        "colab": {
          "base_uri": "https://localhost:8080/",
          "height": 419
        },
        "id": "d_IwMUrOKwtH",
        "outputId": "e9b51520-5898-4052-aae0-efbe3da6d888"
      },
      "source": [
        "data"
      ],
      "execution_count": null,
      "outputs": [
        {
          "output_type": "execute_result",
          "data": {
            "text/html": [
              "<div>\n",
              "<style scoped>\n",
              "    .dataframe tbody tr th:only-of-type {\n",
              "        vertical-align: middle;\n",
              "    }\n",
              "\n",
              "    .dataframe tbody tr th {\n",
              "        vertical-align: top;\n",
              "    }\n",
              "\n",
              "    .dataframe thead th {\n",
              "        text-align: right;\n",
              "    }\n",
              "</style>\n",
              "<table border=\"1\" class=\"dataframe\">\n",
              "  <thead>\n",
              "    <tr style=\"text-align: right;\">\n",
              "      <th></th>\n",
              "      <th>Date</th>\n",
              "      <th>Title</th>\n",
              "      <th>Selftext</th>\n",
              "      <th>Upvote</th>\n",
              "      <th>Upvote Ratio</th>\n",
              "    </tr>\n",
              "  </thead>\n",
              "  <tbody>\n",
              "    <tr>\n",
              "      <th>0</th>\n",
              "      <td>2021-01-20 12:23:19</td>\n",
              "      <td>TikTok finally beat $FB in monthly time spent ...</td>\n",
              "      <td>It’s unlikely this has any major ramifications...</td>\n",
              "      <td>143</td>\n",
              "      <td>0.94</td>\n",
              "    </tr>\n",
              "    <tr>\n",
              "      <th>1</th>\n",
              "      <td>2021-03-05 16:17:39</td>\n",
              "      <td>Help with Facebook (FB)</td>\n",
              "      <td>I have seen many say FB is undervalued. It has...</td>\n",
              "      <td>3</td>\n",
              "      <td>0.80</td>\n",
              "    </tr>\n",
              "    <tr>\n",
              "      <th>2</th>\n",
              "      <td>2021-02-13 11:39:40</td>\n",
              "      <td>($FB) Facebook Undervalued</td>\n",
              "      <td>Facebook looks to be undervalued by up to 20% ...</td>\n",
              "      <td>16</td>\n",
              "      <td>0.70</td>\n",
              "    </tr>\n",
              "    <tr>\n",
              "      <th>3</th>\n",
              "      <td>2021-02-15 06:37:07</td>\n",
              "      <td>McDonalds, Apple, Microsoft &amp; FB?</td>\n",
              "      <td>I want to invest into more blue chips, and the...</td>\n",
              "      <td>13</td>\n",
              "      <td>0.90</td>\n",
              "    </tr>\n",
              "    <tr>\n",
              "      <th>4</th>\n",
              "      <td>2021-02-25 14:13:02</td>\n",
              "      <td>Thoughts on FB?</td>\n",
              "      <td>Just curious as to other peoples opinions on F...</td>\n",
              "      <td>5</td>\n",
              "      <td>0.78</td>\n",
              "    </tr>\n",
              "    <tr>\n",
              "      <th>...</th>\n",
              "      <td>...</td>\n",
              "      <td>...</td>\n",
              "      <td>...</td>\n",
              "      <td>...</td>\n",
              "      <td>...</td>\n",
              "    </tr>\n",
              "    <tr>\n",
              "      <th>238</th>\n",
              "      <td>2018-01-17 07:58:40</td>\n",
              "      <td>$FB 2018 outlook?</td>\n",
              "      <td>With all the changes Zuckerburg is doing to FB...</td>\n",
              "      <td>29</td>\n",
              "      <td>0.78</td>\n",
              "    </tr>\n",
              "    <tr>\n",
              "      <th>239</th>\n",
              "      <td>2019-08-08 05:44:32</td>\n",
              "      <td>A comprehensive analysis on Facebook ($FB)</td>\n",
              "      <td>NaN</td>\n",
              "      <td>11</td>\n",
              "      <td>0.92</td>\n",
              "    </tr>\n",
              "    <tr>\n",
              "      <th>240</th>\n",
              "      <td>2018-08-27 20:22:32</td>\n",
              "      <td>FB comeback?</td>\n",
              "      <td>Is FB set for a comeback?I have bought a few F...</td>\n",
              "      <td>9</td>\n",
              "      <td>0.73</td>\n",
              "    </tr>\n",
              "    <tr>\n",
              "      <th>241</th>\n",
              "      <td>2020-10-05 12:29:26</td>\n",
              "      <td>Do I need options in my portfolio?</td>\n",
              "      <td>Hello, I’m 19 years old and I just recently (a...</td>\n",
              "      <td>3</td>\n",
              "      <td>0.80</td>\n",
              "    </tr>\n",
              "    <tr>\n",
              "      <th>242</th>\n",
              "      <td>2020-09-29 13:33:28</td>\n",
              "      <td>Here is a Market Recap for today Tuesday, Sept...</td>\n",
              "      <td>**PsychoMarket Recap - Tuesday, September 29, ...</td>\n",
              "      <td>56</td>\n",
              "      <td>0.89</td>\n",
              "    </tr>\n",
              "  </tbody>\n",
              "</table>\n",
              "<p>243 rows × 5 columns</p>\n",
              "</div>"
            ],
            "text/plain": [
              "                    Date  ... Upvote Ratio\n",
              "0    2021-01-20 12:23:19  ...         0.94\n",
              "1    2021-03-05 16:17:39  ...         0.80\n",
              "2    2021-02-13 11:39:40  ...         0.70\n",
              "3    2021-02-15 06:37:07  ...         0.90\n",
              "4    2021-02-25 14:13:02  ...         0.78\n",
              "..                   ...  ...          ...\n",
              "238  2018-01-17 07:58:40  ...         0.78\n",
              "239  2019-08-08 05:44:32  ...         0.92\n",
              "240  2018-08-27 20:22:32  ...         0.73\n",
              "241  2020-10-05 12:29:26  ...         0.80\n",
              "242  2020-09-29 13:33:28  ...         0.89\n",
              "\n",
              "[243 rows x 5 columns]"
            ]
          },
          "metadata": {
            "tags": []
          },
          "execution_count": 78
        }
      ]
    },
    {
      "cell_type": "markdown",
      "metadata": {
        "id": "xOd7BRraKwtH"
      },
      "source": [
        "## Convert the Dataset into Required format:"
      ]
    },
    {
      "cell_type": "code",
      "metadata": {
        "id": "7wjVrsGRKwtI"
      },
      "source": [
        "data['Upvote']=data['Upvote'].astype(str)\n",
        "data['Upvote Ratio']=data['Upvote Ratio'].astype(str)"
      ],
      "execution_count": null,
      "outputs": []
    },
    {
      "cell_type": "code",
      "metadata": {
        "id": "MJaUqctGKwtJ"
      },
      "source": [
        "data=data[['Date', 'Title', 'Upvote', 'Upvote Ratio']]"
      ],
      "execution_count": null,
      "outputs": []
    },
    {
      "cell_type": "code",
      "metadata": {
        "id": "IS4xzcQwKwtJ"
      },
      "source": [
        "wsb_split =[]\n",
        "\n",
        "for i in range(data.shape[0]):\n",
        "    s=','.join(data.loc[i].values)\n",
        "    wsb_split.append(s)"
      ],
      "execution_count": null,
      "outputs": []
    },
    {
      "cell_type": "code",
      "metadata": {
        "colab": {
          "base_uri": "https://localhost:8080/"
        },
        "id": "Sae4R7RgyJsO",
        "outputId": "f75f7eb9-f5ee-4904-d3a2-4f11e536d1bb"
      },
      "source": [
        "date_test = (wsb_split[1]).split(\",\")\n",
        "print(date_test)\n",
        "date_test1 = date_test[0].split(\" \")\n",
        "print(date_test1[0])\n",
        "date_test2 = datetime.fromisoformat(date_test1[0])\n",
        "print(len(wsb_split))"
      ],
      "execution_count": null,
      "outputs": [
        {
          "output_type": "stream",
          "text": [
            "['2021-03-05 16:17:39', 'Help with Facebook (FB)', '3', '0.8']\n",
            "2021-03-05\n",
            "243\n"
          ],
          "name": "stdout"
        }
      ]
    },
    {
      "cell_type": "markdown",
      "metadata": {
        "id": "fjPOxQ6yKwtL"
      },
      "source": [
        "## sorting the posts based on dates the post is created:"
      ]
    },
    {
      "cell_type": "code",
      "metadata": {
        "colab": {
          "base_uri": "https://localhost:8080/"
        },
        "id": "p1GtGHBL6lHI",
        "outputId": "9da75827-8559-464b-f094-873492a8fc9c"
      },
      "source": [
        "date_format = \"%Y-%m-%d\"\n",
        "#takes a reddit posts and returns the datetime\n",
        "def _date(x):\n",
        "  date_time = (x.split(\",\"))[0]\n",
        "  date = (date_time.split(\" \"))[0]\n",
        "  a = datetime.strptime(date, date_format)\n",
        "  return a\n",
        "\n",
        "#if x is an earlier date than y then true\n",
        "#if x is equal or later then false\n",
        "def compare(x, y):\n",
        "  if(_date(x) < _date(y)):\n",
        "    return True\n",
        "  else:\n",
        "    return False\n",
        "\n",
        "#sorts reddit posts by date\n",
        "def sort_posts(posts):\n",
        "  sorted = posts\n",
        "  for i in range(1, len(posts)):\n",
        "    j = i\n",
        "    while(j>0):\n",
        "      if(sorted[j] == \"\"):\n",
        "        del sorted[j]\n",
        "        j = j - 1\n",
        "      elif(compare(sorted[j], sorted[j-1])):\n",
        "        tmp = sorted[j-1]\n",
        "        sorted[j-1] = sorted[j]\n",
        "        sorted[j] = tmp\n",
        "        j = j - 1\n",
        "      else:\n",
        "        j = j - 1\n",
        "  return sorted\n",
        "\n",
        "\n",
        "posts_sorted = sort_posts(wsb_split[1:]) \n",
        "print(posts_sorted)"
      ],
      "execution_count": null,
      "outputs": [
        {
          "output_type": "stream",
          "text": [
            "['2018-01-17 07:58:40,$FB 2018 outlook?,29,0.78', '2018-02-20 20:23:10,FB,40,0.83', '2018-03-19 06:36:02,will $FB ever be a $200 stock?,22,0.69', '2018-03-26 12:24:37,FB advertisers pulling out after $100 Billion loss,558,0.94', '2018-03-27 04:45:52,Buying FB at discount,72,0.77', '2018-03-31 17:21:56,Are there any high risk/reward stocks that are like NFLX, NVDA and FB five years ago?,10,0.66', '2018-04-12 05:22:36,Why is FB recovering so fast,186,0.89', '2018-05-01 10:44:37,FB announced today that they will start doing an online dating service to rival tinder.,324,0.91', '2018-05-20 18:48:25,In what order do you sell off these stocks? $FB, $AAPL, $AMD, $V (Visa), and $BA (Boeing)?,38,0.77', '2018-07-19 07:56:44,For being such a fast growth company, how does $FB have a relatively low PE?,13,0.68', '2018-07-25 14:47:49,How much are $fb puts expected to be increased by tommorow?,111,0.84', '2018-07-25 15:49:45,Are you going to buy FB at dip?,29,0.83', '2018-07-27 20:14:07,Will $FB recover?,16,0.75', '2018-07-29 16:19:23,Did you buy FB stock after the 20% plunge?,6,0.76', '2018-07-30 06:45:17,The best FB article I have read yet..,164,0.92', '2018-08-03 03:26:48,FB or MSFT?,24,0.72', \"2018-08-17 14:24:19,Aight boys, I need some insight to make sure I'm not reliving my past. BBRY vs FB,9,0.71\", '2018-08-27 20:22:32,FB comeback?,9,0.73', '2018-09-04 08:00:35,$FB has no debt, sitting on $40B in cash, and along with $GOOG, make up 3/5 of online advertising, yet continues to be downgraded by analysts. Why is that?,377,0.95', '2018-09-18 05:00:38,$FB: good time to buy more and lower avg costs? Or is that money better off somewhere else?,5,0.78', '2018-11-01 09:31:36,Why do people feel so comfortable holding FB long-term?,248,0.87', '2018-11-13 09:52:40,An argument for Facebook (FB),25,0.71', '2018-11-15 15:10:06,Why I think $FB will buy $SPOT soon.,14,0.68', '2018-11-20 16:47:02,Who would have thought for the past 3 months BABA and Tencent actually performs better than AMAZON and FB,153,0.91', '2018-12-31 16:21:33,I want to buy FB,5,0.68', '2019-01-09 08:09:55,Is it time to buy FB again?,7,0.71', '2019-01-09 06:25:00,[FB] Anyone remember the trader who bet $7mil on Facebook?,5,0.62', '2019-01-30 13:21:41,$FB BEATS EPS / Revenue,55,0.78', '2019-01-30 05:02:23,MSFT, FB, and V earning after market, any thought?,29,0.88', '2019-04-01 13:50:41,Facebook (FB) earnings 4/25 guesstimate thread,1,0.6', '2019-06-03 10:47:22,AMZN, FB, GOOGL,14,0.85', '2019-06-12 14:11:10,Sell FB?,0,0.4', '2019-07-24 07:23:41,Thoughts on TSLA and FB?,12,0.81', '2019-07-26 02:45:08,Facebook vs Amazon, FB has higher growth, more profit...FB PE = 31 vs AMZN = 80+,2,0.56', '2019-07-27 15:54:17,FACEBOOK $FB,3,0.67', '2019-08-08 05:44:32,A comprehensive analysis on Facebook ($FB),11,0.92', '2019-08-21 14:59:00,Opinion on FB,1,0.52', '2019-08-23 18:11:43,Thoughts on $FB,1,0.53', '2019-10-15 07:42:22,Keep holding or sell FB?,2,0.63', '2020-01-07 16:14:39,(FB)Facebook Stock Analysis 2020!? (Price Target),1,0.67', '2020-01-12 17:21:05,V or FB?,1,0.6', '2020-01-24 09:20:41,Will FB beat or underperform earning expectations next week?,1,0.6', '2020-01-30 19:35:35,Considering FB, LK, WBA, V, MMM, MO,3,0.72', '2020-01-30 19:35:09,V or FB,0,0.5', '2020-01-31 07:24:57,Why is FB down so much?,9,0.68', '2020-02-01 15:18:27,Thoughts on FB?,10,0.86', '2020-02-08 06:24:30,Is FB about to take a hit?,7,0.89', '2020-02-26 13:26:25,Is FB a good stock to buy during these troubled times?,3,0.71', '2020-02-28 15:26:00,I am tempted to buy FB,0,0.5', '2020-03-10 06:41:48,FB is a terrific buy,14,0.68', '2020-04-10 09:38:29,Sharing my top companies with you.,3017,0.95', '2020-04-13 17:15:55,ETF with largest exposure to Googl, Amzn, Fb, MSFT, V,0,0.5', '2020-04-15 09:24:49,$FB short-term play,1,1.0', '2020-04-24 12:12:10,How would an equal weighted GOOGL MSFT AAPL portfolio have performed vs. market?,914,0.94', '2020-04-27 09:30:38,Any Insight as to why FB suddenly dropped?,1,0.54', '2020-04-29 13:12:58,QCOM, MSFT and FB all SURGING AH after good earnings,13,0.68', '2020-04-29 08:20:12,Social Media Stock recommendations ? Pinterest v Twitter v FB?,3,1.0', '2020-05-04 16:20:12,FB hold or sell?,1,0.66', '2020-05-13 06:54:25,If you had to pick one stock to buy today from FB or DIS?,12,0.66', '2020-05-14 17:39:02,Pick 3 GOOGL, FB, AAPL, AMAZON, V, MA, MSFT,5,0.63', '2020-05-17 03:04:53,About to liquidate the 75% of the positions I bought since the March/April dip,834,0.94', '2020-05-20 08:41:02,Is FB a Buy right now?,0,0.5', '2020-05-21 12:38:40,Thoughts on FB with its all time high price,0,0.25', '2020-05-21 07:04:33,SHOP just hit $800 - ATH,432,0.96', '2020-06-05 11:56:51,Potential for more FB growth,1,0.67', '2020-06-08 21:11:23,Best stock long term? (AAPL, MSFT, FB, NFLX, TSLA, V, NVDA, BABA) vote!,3,0.71', '2020-06-15 13:01:36,What should an exit strategy for FB in long term portfolio?,0,0.5', '2020-06-16 15:01:56,$1K to spend for short term. TSLA, FB, MSFT?,3,0.67', '2020-06-25 15:22:43,Social Media stocks such as FB (Facebook), TWTR (Twitter), SNAP (Snapchat) etc. should be viewed the same way as casino stocks such as MGM, LVS (Las Vegas Sands).,0,0.5', '2020-06-26 09:34:30,FB and JPM,3,0.71', '2020-06-26 07:32:46,Sell mgm for fb or baba?,3,0.71', '2020-06-26 17:04:57,Where to go,2,0.67', '2020-06-27 11:08:11,Those holding $FB, what’s your plan for Monday?,5,0.72', '2020-06-28 10:58:53,Entry point for FB?,7,0.77', '2020-06-28 13:51:13,Starbucks suspends social media ads,561,0.94', '2020-07-01 07:46:46,Someone explain FB to me. Dozens of big companies pull ads but stock is climbing,0,0.5', '2020-07-07 09:15:31,(Insert Name Boycotts FB) - FB Reaches All Time High,0,0.4', '2020-07-10 10:24:03,Is it a good time to buy SNAP, TWTR, FB,1,0.57', '2020-07-11 23:27:45,Where to invest,0,0.33', '2020-07-19 19:30:14,2-3 Year Growth Stock Portfolio,2,0.66', '2020-07-23 11:14:55,What did you buy on this bloody Thursday?,29,0.67', '2020-07-24 04:14:43,Will all the AntiTrust issues against Amazon, FB, Apple, Google affect them in any way?,4,0.83', '2020-07-26 17:54:27,MSFT AND FB,3,0.71', '2020-07-30 13:32:16,AMZN & FB 🚀,27,0.84', \"2020-08-01 13:04:56,Watch FB next week. They're making a big announcement next week,0,0.4\", \"2020-08-01 13:04:52,Watch FB next week. They're making a big announcement next week,0,0.33\", '2020-08-02 08:50:12,FB/insta split — what happens to your shares?,2,0.75', '2020-08-03 04:21:03,FB, MSFT, AMZN/Top Tech Firms heavily favored ETF?,1,0.6', '2020-08-10 12:43:32,For Microsoft, TikTok could bring numerous problems that have been plaguing Facebook and Twitter for years,85,0.88', '2020-08-19 14:48:17,Next to $2T - Amazon or Microsoft or Google?,85,0.93', '2020-08-22 12:12:30,Tesla just surpassed Walmart in market value. Here are the 8 remaining S&P 500 companies worth more than Tesla.,707,0.97', '2020-08-26 13:12:58,FB,8,0.9', '2020-08-27 18:32:35,Are FB & NFLX the weakest of the Faangm for long term?,1,0.67', \"2020-08-27 18:58:08,How I applied Buffet's strategies to my own portfolio, +70% networth, beat SP500 by 40%,2171,0.84\", '2020-08-29 16:01:42,My Portfolio: Outperforming S&P 500 By 3x, For 5 Years (See Picture).,1297,0.94', '2020-08-30 03:55:28,Is FaceBook going to be a dominant force still in the years to come? or is it time to sell?,80,0.82', '2020-09-03 18:39:20,FB stock seems like it will start to underperform other tech,2,0.57', '2020-09-03 23:08:37,FB stock - Data Privacy - Reason to be concerned?,2,1.0', '2020-09-05 08:29:12,Wall Street Week Ahead for the trading week beginning September 7th, 2020,169,0.96', '2020-09-09 14:16:26,Market Recap for today Wed Sept 9 - Please enjoy!,220,0.98', '2020-09-10 03:21:33,2 reasons fears of a dot-com style tech bubble are overblown,18,0.75', '2020-09-17 13:09:01,Here is a MArket Recap for today, Sept 17, 2020. Please enjoy!,146,0.96', '2020-09-18 13:31:15,Here is a Market Recap I wrote for today Sept 18, 2020,128,0.98', '2020-09-18 04:01:29,Your honest opinions: is FANGAM overvalued? How would you rank the companies going forward?,18,0.77', '2020-09-22 13:46:35,Here is a Market Recap for today, Sept 22. Enjoy!,89,0.95', '2020-09-23 14:21:33,What future growth stocks are you looking at for the next ten years ?,13,0.76', '2020-09-23 13:25:17,Here is a Market Recap for today, Sept 23. What a crazy day!,89,0.96', '2020-09-25 13:07:35,Here is a Market Recap for today Friday, Sept 25. Please enjoy!,341,0.98', \"2020-09-27 08:36:58,What's your view on $FB?,13,0.61\", '2020-09-27 21:10:16,First Time Buying Individual Stocks Tmrw,0,0.21', '2020-09-28 08:16:36,What major companies do you think will have steady but significant gains/growth over the next 10-15 years?,13,0.73', '2020-09-29 13:33:28,Here is a Market Recap for today Tuesday, Sept 29. Please enjoy!,56,0.89', '2020-10-01 13:23:03,Here is a Market Recap for today Thursday, Oct 1. Please enjoy!,341,0.98', '2020-10-05 12:29:26,Do I need options in my portfolio?,3,0.8', '2020-10-07 08:23:09,GOOG lagging,22,0.81', '2020-10-07 15:07:39,Market Recap - Wed Oct 7 Please Enjoy!,106,0.94', '2020-10-12 13:30:22,Market Recap - Monday October 12 PLEASE ENJOY!!,153,0.98', '2020-10-16 21:36:49,If you can only pick 5 out of 12 stocks to invest long term, which 5 would you pick?,1,0.53', '2020-10-21 13:08:29,Here is a Market Recap for today Wed, Oct 21, 2020. Please enjoy!,86,0.97', '2020-10-22 13:04:21,Here is a Market Recap for today Thursday, October 22, 2020. Please enjoy!,155,0.94', '2020-10-22 13:38:58,Need help adjusting my stock portfolio please,5,0.68', '2020-10-24 06:40:01,Wall Street Week Ahead for the trading week beginning October 26th, 2020,98,0.96', '2020-10-25 22:30:09,FB, AAPL, AMZN, and GOOG report on Thursday.,22,0.89', '2020-10-27 13:09:48,Here is a Market Recap for today Tuesday, October 27, 2020. Please enjoy!,90,0.97', \"2020-10-28 14:15:46,What's on your watch list incase we have another crash? Here is mine.,60,0.82\", '2020-10-28 18:07:12,Pinterest’s pandemic surge continues, stock jumps more than 25% toward fresh record highs,60,0.97', '2020-10-28 13:16:45,Here is a Market Recap for today Wednesday, October 28, 2020. Please enjoy!,124,0.98', '2020-10-29 13:41:25,Here is a Market Recap for today Thursday, October 29, 2020. Please enjoy!,114,0.96', '2020-10-30 13:08:07,Here is a Market Recap for today Friday, October 30, 2020. What a crazy day, hope this helps a bit :),165,0.97', '2020-10-30 08:11:50,Morning Market Synopsis - Friday, Oct. 30, 2020,14,0.9', '2020-11-05 11:36:16,Want to throw in 5k in a single stock, where would you invest?,14,0.75', '2020-11-08 17:19:50,I used a web-scraper and Python to compile the average portfolio of the quarterly thread:,54,0.94', '2020-11-14 15:55:09,What’s everyone’s opinion on Palantir reporting to the public, government spending on their software. Especially in such a controversial field like data mining. Do you think it will have a negative impact on the company or stock? Public backlash or sort. Thank you.,1,0.54', \"2020-11-15 20:00:49,What is Reddit's opinion on investing in Blackrock Investments (BLK)?,15,0.9\", '2020-11-17 10:42:16,Robotics is the future. Aka the next big boom.,90,0.87', '2020-11-17 04:12:00,Buy Tesla stock? | Moderna vaccine news |Stock market news [11-17-2020],75,0.9', '2020-11-19 10:44:22,Facebook, Apple and Other Big Tech Stocks Aren’t Too Expensive. Here’s Why.,57,0.86', \"2020-11-22 17:02:27,I draw with crayons so you don't have to. Last week I closed up 1.9% for the week. Here are my plays this week: FB, KR, MSFT, NVDA, SHOP.,582,0.93\", \"2020-11-25 13:52:20,I draw with crayons so you don't have to. Update: current 'unrealized' gain this week of $1,900 or 3%,26,0.83\", '2020-11-26 18:55:21,Is Microsoft immune to big tech regulation?,8,0.83', '2020-11-27 15:37:25,How much of digital advertising is a bubble fueled by $GOOG, $FB, $AMZN?,7,0.9', '2020-11-29 04:16:13,The ACTUAL 15 most mentioned stocks on reddit,1775,0.97', \"2020-11-29 15:39:47,I draw with crayons so you don't have to. Last week I closed up $2,250 or 2.8%. Here's what's on the watchlist this week: CRM, TDOC, PTON, FSLY, PRPL, GME, RKT, GPS,67,0.83\", '2020-11-29 11:56:31,pendulum swinging the other way,8,0.8', '2020-12-06 11:01:02,question about buying cheaper fb call option and the reselling next day on open market,3,0.58', \"2020-12-07 08:00:44,Buying IPOs is stupid - here's why,7,0.69\", '2020-12-08 06:31:00,TESLA sell $5B in shares | Stock market news | Why stock market investors predict gains in 2021 |[12-08],29,0.88', '2020-12-09 14:15:20,Facebook - A Monopoly or A Misunderstanding,0,0.45', '2020-12-10 07:00:16,Will FB be worth more if it spun-off Instagram and Whatsapp?,1,0.67', '2020-12-10 05:24:12,Selling DoorDash after IPO? | AirBNB IPO NEXT | LULU, ADBE, COST, PLAY STOCK EARNINGS | STOCK MARKET NEWS [12-10],38,0.93', '2020-12-16 11:00:06,Changes to Calls/Puts Open Interest Holdings Tuesday, December 15 End of Day,1,0.67', '2020-12-21 01:42:00,Tesla To Account For 1.69% Of S&P 500 In Its Debut Today,76,0.95', '2020-12-21 01:01:37,What are your \"guaranteed growth\" stock buys for the future?,17,0.78', '2020-12-21 21:27:39,Congress has passed a $900 billion Covid relief bill, including stimulus checks up to $600,12,0.73', '2020-12-21 13:58:15,Top stocks holding 2020,6,1.0', '2020-12-22 13:38:22,Thoughts on FB stock price,5,0.86', '2020-12-22 05:02:17,Tips/suggestiosn for my portfolio? 30 years old, started investing 1 year ago,0,0.5', '2020-12-23 05:38:02,Will Trump Veto the Stimulus? | Direct IPOs | MRNA & BA | Stock Market News for Today [12-23],10,0.79', \"2020-12-24 11:35:36,My $112,000 climate change portfolio at the age of 19 & what I've learned,4200,0.77\", '2020-12-26 17:10:11,My Current Portfolio: Thinking of selling FB & VOO to add NET, IDXX, and more AVGO, MELI, TSLA. Thoughts?,15,0.81', '2020-12-27 08:09:41,Top picks for early 2021 gains - AMZN, FB, NVDA,9,0.78', '2020-12-27 21:33:27,Contributing to a portfolio monthly,4,0.63', '2020-12-29 12:45:29,What is over diverstified portfolio?,2,0.63', '2020-12-29 14:21:07,A lesson in the stock market?,3,0.71', '2020-12-30 07:33:34,What other sectors should I be looking at?,3,0.67', '2021-01-01 17:13:21,Long Term Sector Specific Portfolio,5,0.69', '2021-01-02 21:45:28,Trim my portfolio?,2,0.62', \"2021-01-06 00:32:32,Facebook vs Apple: What's the endgame?,5,0.67\", \"2021-01-07 05:31:48,Today's Pre-Market Movers & News [Thursday, January 7th, 2021],9,0.81\", '2021-01-08 05:35:07,Stock Market News for Today | TSLA vs FB | LMND SPIKES | APPLE CAR & other stock market news [01-08],27,0.95', '2021-01-08 11:02:45,What happens to a stock if a company like FB gets split?,2,0.6', \"2021-01-08 05:39:44,Today's Pre-Market Movers & News [Friday, January 8th, 2021],4,1.0\", '2021-01-09 11:15:01,House calls to break up large tech firms for being monopolistic: How will this affect share prices?,55,0.91', '2021-01-10 14:17:25,Selling my FB shares to get into Visa?,1,0.6', '2021-01-10 14:53:01,Own 13 stocks/ETFs. Too many to add yet another?,9,0.71', '2021-01-10 10:41:26,Bloody market week,0,0.17', '2021-01-12 15:41:31,Be Greedy When Others Are Fearful ($FB),4,0.75', '2021-01-12 10:17:40,Portfolio Advice,6,0.88', '2021-01-12 14:18:18,MSFT stuck at resistance —what to do ?,1,0.6', '2021-01-13 07:27:02,Anyone else holding the bag with Facebook (FB)?,4,0.67', '2021-01-13 04:09:35,MSFT, APPL, GOOGL - worth holding all of them?,44,0.82', '2021-01-14 12:34:05,FB, Snap, Twitter? Entry point? What do you think?,4,1.0', '2021-01-15 14:22:44,using/ understanding margin s,3,1.0', '2021-01-16 21:39:58,What stocks do you think will reach a $1 Trillion market cap or more by 2030?,23,0.77', '2021-01-16 03:26:12,#BShARP stocks will outperform #FAANG stocks in 2021 & beyond.,1,0.54', '2021-01-17 05:13:12,I created an algo that tracks the most hyped stocks on Reddit. Here are the results for this week,3801,0.97', '2021-01-17 00:32:22,The rotation portfolio,33,0.89', '2021-01-18 18:24:00,What do you guys think of the top tech companies for 2021?,6,0.76', '2021-01-18 13:16:49,Silver Spike/WM Holdings merger,11,0.88', '2021-01-19 22:19:47,What\\'s pinterest\\'s \"moat\"? Wouldn\\'t facebook or instagram just roll out a new section where artworks are featured?,3,0.67', '2021-01-19 14:45:53,adTech - MRAD ETF,2,1.0', \"2021-01-20 12:36:21,It's time to short some Facebook $FB,0,0.33\", \"2021-01-22 09:19:23,is it really 'too late',10,0.71\", '2021-01-23 06:54:18,Why would BlackBerry insiders be selling stock?,4,0.67', '2021-01-23 07:19:56,Wall Street Week Ahead for the trading week beginning January 25th, 2021,34,0.94', '2021-01-25 05:04:35,Stock Market News for Today | PLTR / GM / AAPL / TSLA / FB / MSFT & Other Stock Market News [01-25],25,0.87', '2021-01-27 13:15:30,Facebook earnings beat but stock down on advertising growth warning,55,0.93', '2021-01-29 19:34:36,What to make of the week & 3 buying opportunities NOT named GME, AMC and BB,29,0.8', '2021-01-30 06:15:18,Wall Street Week Ahead for the trading week beginning February 1st, 2021,28,0.9', '2021-01-31 04:32:17,I created an algo that tracks the most hyped stocks on Reddit. Here are the results for this week,454,0.98', '2021-02-02 13:28:42,Robinhood IPO - Where do they go from here?,7,0.78', '2021-02-02 15:49:00,ETF or growth stocks,7,0.9', \"2021-02-03 09:56:57,Let's be smart investors and go for value,3,0.64\", '2021-02-04 14:07:26,ACTIVISION/BLIZZARD (ATVI): Today’s earnings call and some unique numbers make this is an interesting stock I wish I had jumped on.,66,0.93', '2021-02-04 17:23:39,Livent (LTHM) is a Great Play on EV,43,0.96', '2021-02-07 07:26:20,$BB King – The Blacker the Berry, the Sweeter the Juice,1140,0.93', '2021-02-08 05:34:55,Tired of hearing about GME, AMC, & NOK? I handpicked the most popular posts, tickers, and DD from the last week. Here are the results!,6806,0.92', '2021-02-09 00:08:08,Impact of Apple iOS14 on personalized ads (FB, SNAP, SHOP),18,0.85', \"2021-02-10 19:32:35,Let's discuss the explosion in social audio apps. Clubhouse, $API, and the future of this tech,16,0.82\", '2021-02-11 17:50:38,Blackberry -- A Dormant Giant,4465,0.94', '2021-02-11 11:22:19,Amazon stock DD and reason to keep holding,25,0.85', '2021-02-13 11:39:40,($FB) Facebook Undervalued,16,0.7', '2021-02-13 08:10:32,Thoughts on SNAP,11,0.84', '2021-02-14 21:48:02,My first attempt at a stocks to watch list/DD,26,0.79', '2021-02-15 06:37:07,McDonalds, Apple, Microsoft & FB?,13,0.9', \"2021-02-16 05:33:26,(2/16) Tuesday's Pre-Market Stock Movers & News,28,0.9\", '2021-02-19 13:56:24,Here is a Market Recap for today Friday, February 19, 2021,33,0.94', '2021-02-22 17:36:51,Cathie Wood’s ARKInvest added 273k shares of $TSLA today and bunch of others,731,0.96', '2021-02-22 13:42:04,Here is a Market Recap for today Monday, February 22, 2021. Please enjoy!,184,0.96', '2021-02-22 17:37:59,Bull/Bear cases for these stocks?,16,0.84', '2021-02-22 18:13:25,$MNKKQ (Fingers Crossed),6,0.75', '2021-02-23 07:53:54,Is AAPL the biggest wuss?,0,0.32', '2021-02-25 14:13:02,Thoughts on FB?,5,0.78', '2021-02-25 13:17:22,Apple (AAPL) discussion,147,0.95', '2021-02-26 04:59:10,Friday 26 February 2021: A discount bot I have created.,27,0.66', '2021-02-26 13:33:33,Here is a Market Recap for today Friday, February 26, 2021. Enjoy!,41,0.94', '2021-02-26 21:08:00,Huge Amounts of Insider Selling the Past Few Weeks - Analysis and Insider Activity Attached,20,0.8', '2021-02-27 11:01:07,A Warning About ARK Funds,0,0.49', '2021-02-28 16:40:53,Reddit Mention Trends - Weekend Brief,12,0.74', '2021-02-28 00:01:35,How does Actively Managed ETF get money to buy stocks?,0,0.4', '2021-03-01 10:40:57,What 3 stocks would you pick if you had to pick 3 and throw the password away for 10 years?,87,0.9', '2021-03-01 13:38:55,Here is a Market Recap for today Monday, March 1 , 2021. Please enjoy!,638,0.98', '2021-03-05 16:17:39,Help with Facebook (FB),3,0.8', '2021-03-05 08:16:19,Begun, the Mortgage Wars have,93,0.95', \"2021-03-08 05:47:48,(3/8) Monday's Pre-Market Stock Movers & News,36,0.95\", '2021-03-10 23:30:22,Short Term Investing Advice,7,0.82', '2021-03-11 13:20:09,$BB Technical Analysis,167,0.86', '2021-03-11 13:37:24,What are your thoughts on PINS?,10,0.83', '2021-03-13 18:31:43,Is now a bad time to start putting money in the market?,9,0.61', '2021-03-13 17:54:06,Very bullish on SNAP,0,0.48', '2021-03-15 18:58:48,Advice on what to add to my portfolio needed 💵,10,0.86', \"2021-03-16 05:44:45,(3/16) Tuesday's Pre-Market Stock Movers & News,27,0.86\"]\n"
          ],
          "name": "stdout"
        }
      ]
    },
    {
      "cell_type": "markdown",
      "metadata": {
        "id": "6TTGMDEbKwtN"
      },
      "source": [
        "## Moving weekend posts to the Friday:"
      ]
    },
    {
      "cell_type": "code",
      "metadata": {
        "colab": {
          "base_uri": "https://localhost:8080/"
        },
        "id": "EbSyg9-8QGzd",
        "outputId": "17cfdc8f-df11-42be-e832-d0a8cce77371"
      },
      "source": [
        "def change_date(post, i):\n",
        "  post = post.split(\",\")\n",
        "  date = post[0]#.split(\" \")\n",
        "  print(date)\n",
        "  d = _date(date) - timedelta(days=i)\n",
        "  post[0] = d.strftime(date_format)\n",
        "  post = \",\".join(post)\n",
        "  return post\n",
        "\n",
        "\n",
        "print(change_date(posts_sorted[1], 2))\n",
        "\n",
        "#rolls weekend posts back onto friday\n",
        "for x in range(0, len(posts_sorted)):\n",
        "  if(_date(posts_sorted[x]).weekday() == 6):\n",
        "    posts_sorted[x] = change_date(posts_sorted[x], 2)\n",
        "  if(_date(posts_sorted[x]).weekday() == 5):\n",
        "    posts_sorted[x] = change_date(posts_sorted[x], 1)\n",
        "print(len(posts_sorted))"
      ],
      "execution_count": null,
      "outputs": [
        {
          "output_type": "stream",
          "text": [
            "2018-02-20 20:23:10\n",
            "2018-02-18,FB,40,0.83\n",
            "2018-03-31 17:21:56\n",
            "2018-05-20 18:48:25\n",
            "2018-07-29 16:19:23\n",
            "2019-07-27 15:54:17\n",
            "2020-01-12 17:21:05\n",
            "2020-02-01 15:18:27\n",
            "2020-02-08 06:24:30\n",
            "2020-05-17 03:04:53\n",
            "2020-06-27 11:08:11\n",
            "2020-06-28 10:58:53\n",
            "2020-06-28 13:51:13\n",
            "2020-07-11 23:27:45\n",
            "2020-07-19 19:30:14\n",
            "2020-07-26 17:54:27\n",
            "2020-08-01 13:04:56\n",
            "2020-08-01 13:04:52\n",
            "2020-08-02 08:50:12\n",
            "2020-08-22 12:12:30\n",
            "2020-08-29 16:01:42\n",
            "2020-08-30 03:55:28\n",
            "2020-09-05 08:29:12\n",
            "2020-09-27 08:36:58\n",
            "2020-09-27 21:10:16\n",
            "2020-10-24 06:40:01\n",
            "2020-10-25 22:30:09\n",
            "2020-11-08 17:19:50\n",
            "2020-11-14 15:55:09\n",
            "2020-11-15 20:00:49\n",
            "2020-11-22 17:02:27\n",
            "2020-11-29 04:16:13\n",
            "2020-11-29 15:39:47\n",
            "2020-11-29 11:56:31\n",
            "2020-12-06 11:01:02\n",
            "2020-12-26 17:10:11\n",
            "2020-12-27 08:09:41\n",
            "2020-12-27 21:33:27\n",
            "2021-01-02 21:45:28\n",
            "2021-01-09 11:15:01\n",
            "2021-01-10 14:17:25\n",
            "2021-01-10 14:53:01\n",
            "2021-01-10 10:41:26\n",
            "2021-01-16 21:39:58\n",
            "2021-01-16 03:26:12\n",
            "2021-01-17 05:13:12\n",
            "2021-01-17 00:32:22\n",
            "2021-01-23 06:54:18\n",
            "2021-01-23 07:19:56\n",
            "2021-01-30 06:15:18\n",
            "2021-01-31 04:32:17\n",
            "2021-02-07 07:26:20\n",
            "2021-02-13 11:39:40\n",
            "2021-02-13 08:10:32\n",
            "2021-02-14 21:48:02\n",
            "2021-02-27 11:01:07\n",
            "2021-02-28 16:40:53\n",
            "2021-02-28 00:01:35\n",
            "2021-03-13 18:31:43\n",
            "2021-03-13 17:54:06\n",
            "242\n"
          ],
          "name": "stdout"
        }
      ]
    },
    {
      "cell_type": "code",
      "metadata": {
        "colab": {
          "base_uri": "https://localhost:8080/"
        },
        "id": "xv9l_je-Hos0",
        "outputId": "36ba4e14-cd80-42f5-cc3d-13e2d034f196"
      },
      "source": [
        "print(\"first: \")\n",
        "print(posts_sorted[1])\n",
        "print(\"last: \")\n",
        "print(len(posts_sorted))\n",
        "print(posts_sorted[(len(posts_sorted) - 1)])"
      ],
      "execution_count": null,
      "outputs": [
        {
          "output_type": "stream",
          "text": [
            "first: \n",
            "2018-02-20 20:23:10,FB,40,0.83\n",
            "last: \n",
            "242\n",
            "2021-03-16 05:44:45,(3/16) Tuesday's Pre-Market Stock Movers & News,27,0.86\n"
          ],
          "name": "stdout"
        }
      ]
    },
    {
      "cell_type": "code",
      "metadata": {
        "id": "Vj7c8k6zPV-A"
      },
      "source": [
        "#returns the title of a reddit posts\n",
        "def get_title(post):\n",
        "    split1 = (post.split(\",\"))[1]\n",
        "    return split1"
      ],
      "execution_count": null,
      "outputs": []
    },
    {
      "cell_type": "markdown",
      "metadata": {
        "id": "vUxe5P--KwtQ"
      },
      "source": [
        "## Importing sentimental anlyzer library from nltk:"
      ]
    },
    {
      "cell_type": "code",
      "metadata": {
        "colab": {
          "base_uri": "https://localhost:8080/"
        },
        "id": "038FfLNiRbpd",
        "outputId": "3399ed40-30ed-415e-e247-dedec01a9f4f"
      },
      "source": [
        "from nltk.sentiment.vader import SentimentIntensityAnalyzer as SIA\n",
        "nltk.download('vader_lexicon')\n",
        "sia = SIA()"
      ],
      "execution_count": null,
      "outputs": [
        {
          "output_type": "stream",
          "text": [
            "[nltk_data] Downloading package vader_lexicon to /root/nltk_data...\n",
            "[nltk_data]   Package vader_lexicon is already up-to-date!\n"
          ],
          "name": "stdout"
        }
      ]
    },
    {
      "cell_type": "markdown",
      "metadata": {
        "id": "Nna5d4dtKwtR"
      },
      "source": [
        "## getting sentiment scores to the corresponding post on that particular date:"
      ]
    },
    {
      "cell_type": "code",
      "metadata": {
        "id": "KUu46iUwN7g_"
      },
      "source": [
        "#import datetime\n",
        "\n",
        "#pre averaged dates and scores\n",
        "dates = []\n",
        "titles = []\n",
        "scores = []\n",
        "\n",
        "#populates arrays above\n",
        "for i in range(0, (len(posts_sorted) - 1)):\n",
        "  dates.append(_date(posts_sorted[i]))\n",
        "  titles.append(get_title(posts_sorted[i]))\n",
        "  scores.append(sia.polarity_scores(titles[i])[\"compound\"])\n",
        "\n",
        "first =_date(posts_sorted[0])\n",
        "last = _date(posts_sorted[(len(posts_sorted)-1)])\n",
        "diff = last - first\n",
        "\n",
        "#post averaged dates and scores\n",
        "dates_ = []\n",
        "scores_ = []\n",
        "scores_sum = []\n",
        "num_posts = []\n",
        "\n",
        "#populates dates\n",
        "for i in range(0,diff.days):\n",
        "  #print((first + timedelta(days=i)).weekday())\n",
        "  if((first + timedelta(days=i)).weekday() != 5):\n",
        "    if((first + timedelta(days=i)).weekday() != 6):\n",
        "      dates_.append(first + timedelta(days=i))\n",
        "\n",
        "\n",
        "for d in dates_:\n",
        "  num = 0\n",
        "  sum = 0\n",
        "  for d2 in dates:\n",
        "    if(d == d2):\n",
        "      num = num + 1\n",
        "      sum = sum + scores[(dates.index(d2))]\n",
        "  if(num == 0):\n",
        "    #scores_sum.append(score[len(scores)]+0)\n",
        "    scores_.append(0)\n",
        "    num_posts.append(0)\n",
        "  else:\n",
        "    #scores_sum.append(scores_[len(scores)]+(sum/num))\n",
        "    scores_.append(sum/num)\n",
        "    num_posts.append(num)"
      ],
      "execution_count": null,
      "outputs": []
    },
    {
      "cell_type": "code",
      "metadata": {
        "colab": {
          "base_uri": "https://localhost:8080/"
        },
        "id": "WtVgjfBtSh28",
        "outputId": "41ca6ff1-770d-4a94-efb6-d5650c898c3a"
      },
      "source": [
        "print(num_posts)\n",
        "print(len(num_posts))\n",
        "print(scores_)\n",
        "print(len(scores_))\n",
        "print(dates_)\n",
        "print(len(dates_))\n",
        "print(dates)\n",
        "print(len(dates))"
      ],
      "execution_count": null,
      "outputs": [
        {
          "output_type": "stream",
          "text": [
            "[1, 0, 0, 0, 0, 0, 0, 0, 0, 0, 0, 0, 0, 0, 0, 0, 0, 0, 0, 0, 0, 0, 0, 0, 1, 0, 0, 0, 0, 0, 0, 0, 0, 0, 0, 0, 0, 0, 0, 0, 0, 0, 0, 1, 0, 0, 0, 0, 1, 1, 0, 0, 1, 0, 0, 0, 0, 0, 0, 0, 0, 1, 0, 0, 0, 0, 0, 0, 0, 0, 0, 0, 0, 0, 1, 0, 0, 0, 0, 0, 0, 0, 0, 0, 0, 0, 0, 1, 0, 0, 0, 0, 0, 0, 0, 0, 0, 0, 0, 0, 0, 0, 0, 0, 0, 0, 0, 0, 0, 0, 0, 0, 0, 0, 0, 0, 0, 0, 0, 0, 0, 0, 0, 0, 0, 0, 0, 0, 0, 0, 0, 1, 0, 0, 0, 2, 0, 2, 1, 0, 0, 0, 1, 0, 0, 0, 0, 0, 0, 0, 0, 0, 1, 0, 0, 0, 0, 0, 1, 0, 0, 0, 0, 0, 1, 0, 0, 0, 0, 0, 0, 0, 0, 0, 1, 0, 0, 0, 0, 0, 0, 0, 0, 0, 0, 0, 0, 0, 0, 0, 0, 0, 0, 0, 0, 0, 0, 0, 0, 0, 0, 0, 0, 0, 0, 0, 1, 0, 0, 0, 0, 0, 0, 0, 1, 0, 1, 0, 0, 1, 0, 0, 0, 0, 0, 0, 0, 0, 0, 0, 0, 0, 0, 0, 0, 0, 0, 0, 0, 0, 0, 0, 0, 0, 0, 0, 0, 0, 1, 0, 0, 0, 0, 0, 0, 2, 0, 0, 0, 0, 0, 0, 0, 0, 0, 0, 0, 0, 0, 0, 2, 0, 0, 0, 0, 0, 0, 0, 0, 0, 0, 0, 0, 0, 0, 0, 0, 0, 0, 0, 0, 0, 0, 0, 0, 0, 0, 0, 0, 0, 0, 0, 0, 0, 0, 0, 0, 0, 0, 0, 0, 0, 0, 1, 0, 0, 0, 0, 0, 0, 0, 0, 0, 0, 0, 0, 0, 0, 0, 0, 0, 0, 0, 0, 0, 0, 0, 0, 0, 0, 0, 0, 0, 0, 0, 0, 0, 0, 0, 0, 0, 0, 0, 0, 0, 0, 0, 0, 1, 0, 0, 0, 0, 0, 0, 1, 0, 0, 0, 0, 0, 0, 0, 0, 0, 0, 0, 0, 0, 0, 0, 0, 0, 0, 0, 0, 0, 0, 0, 0, 0, 0, 0, 0, 0, 1, 0, 2, 0, 0, 0, 0, 0, 0, 0, 0, 1, 0, 0, 0, 0, 0, 0, 0, 0, 1, 0, 1, 0, 0, 0, 0, 0, 0, 0, 0, 0, 0, 0, 0, 0, 0, 0, 0, 0, 0, 0, 0, 0, 0, 0, 0, 0, 0, 0, 0, 0, 0, 0, 0, 0, 0, 0, 0, 1, 0, 0, 0, 0, 0, 0, 0, 0, 0, 0, 0, 0, 0, 0, 0, 0, 0, 0, 0, 0, 0, 0, 0, 0, 0, 0, 0, 0, 0, 0, 0, 0, 0, 0, 0, 0, 0, 0, 0, 0, 0, 0, 0, 0, 0, 0, 0, 0, 0, 0, 0, 0, 0, 0, 0, 0, 0, 0, 0, 1, 0, 0, 1, 0, 0, 0, 0, 0, 0, 0, 0, 0, 1, 0, 0, 0, 2, 2, 0, 0, 0, 0, 1, 0, 0, 0, 0, 0, 0, 0, 0, 0, 0, 0, 0, 1, 0, 1, 0, 0, 0, 0, 0, 0, 1, 0, 0, 0, 0, 0, 0, 0, 0, 0, 0, 0, 0, 0, 0, 0, 0, 0, 0, 0, 0, 0, 0, 1, 1, 0, 1, 0, 0, 0, 0, 0, 0, 1, 1, 0, 2, 0, 0, 1, 0, 0, 0, 0, 0, 0, 1, 1, 1, 0, 0, 1, 2, 0, 0, 0, 0, 0, 0, 0, 0, 0, 0, 1, 1, 0, 0, 0, 0, 1, 1, 0, 0, 0, 0, 0, 0, 1, 6, 0, 0, 1, 0, 0, 0, 1, 0, 0, 2, 0, 0, 0, 0, 1, 0, 0, 0, 1, 2, 0, 0, 0, 1, 3, 1, 0, 0, 0, 0, 1, 0, 0, 0, 0, 0, 0, 1, 0, 1, 0, 0, 1, 2, 2, 0, 0, 0, 2, 1, 0, 0, 1, 1, 0, 0, 0, 0, 1, 2, 0, 1, 2, 0, 3, 1, 1, 0, 1, 0, 1, 0, 2, 0, 0, 1, 0, 0, 0, 1, 0, 0, 1, 2, 2, 0, 1, 3, 1, 2, 0, 0, 0, 1, 1, 0, 0, 0, 0, 2, 0, 2, 0, 1, 1, 0, 0, 1, 1, 4, 0, 0, 0, 0, 1, 1, 1, 1, 2, 0, 0, 0, 1, 0, 0, 4, 2, 1, 1, 3, 0, 2, 1, 0, 2, 0, 0, 1, 1, 7, 0, 3, 2, 1, 5, 2, 2, 1, 0, 3, 1, 0, 1, 0, 3, 0, 2, 1, 2, 1, 1, 1, 1, 2, 3, 1, 1, 0, 0, 1, 4, 1, 0, 2, 6, 2, 0, 0, 0, 2, 1, 0, 1, 2, 2, 1]\n",
            "824\n",
            "[0.0, 0, 0, 0, 0, 0, 0, 0, 0, 0, 0, 0, 0, 0, 0, 0, 0, 0, 0, 0, 0, 0, 0, 0, 0.0, 0, 0, 0, 0, 0, 0, 0, 0, 0, 0, 0, 0, 0, 0, 0, 0, 0, 0, 0.0, 0, 0, 0, 0, -0.3182, 0.0, 0, 0, 0.3612, 0, 0, 0, 0, 0, 0, 0, 0, 0.0, 0, 0, 0, 0, 0, 0, 0, 0, 0, 0, 0, 0, 0.0, 0, 0, 0, 0, 0, 0, 0, 0, 0, 0, 0, 0, 0.0, 0, 0, 0, 0, 0, 0, 0, 0, 0, 0, 0, 0, 0, 0, 0, 0, 0, 0, 0, 0, 0, 0, 0, 0, 0, 0, 0, 0, 0, 0, 0, 0, 0, 0, 0, 0, 0, 0, 0, 0, 0, 0, 0, 0.3818, 0, 0, 0, 0.2732, 0, 0.0, 0.6369, 0, 0, 0, 0.0, 0, 0, 0, 0, 0, 0, 0, 0, 0, 0.0, 0, 0, 0, 0, 0, 0.0, 0, 0, 0, 0, 0, -0.5719, 0, 0, 0, 0, 0, 0, 0, 0, 0, 0.5693, 0, 0, 0, 0, 0, 0, 0, 0, 0, 0, 0, 0, 0, 0, 0, 0, 0, 0, 0, 0, 0, 0, 0, 0, 0, 0, 0, 0, 0, 0, 0, 0.6418, 0, 0, 0, 0, 0, 0, 0, -0.3612, 0, 0.0, 0, 0, 0.6523, 0, 0, 0, 0, 0, 0, 0, 0, 0, 0, 0, 0, 0, 0, 0, 0, 0, 0, 0, 0, 0, 0, 0, 0, 0, 0, 0, 0, 0.0772, 0, 0, 0, 0, 0, 0, 0.0, 0, 0, 0, 0, 0, 0, 0, 0, 0, 0, 0, 0, 0, 0, 0.0, 0, 0, 0, 0, 0, 0, 0, 0, 0, 0, 0, 0, 0, 0, 0, 0, 0, 0, 0, 0, 0, 0, 0, 0, 0, 0, 0, 0, 0, 0, 0, 0, 0, 0, 0, 0, 0, 0, 0, 0, 0, 0, 0.0, 0, 0, 0, 0, 0, 0, 0, 0, 0, 0, 0, 0, 0, 0, 0, 0, 0, 0, 0, 0, 0, 0, 0, 0, 0, 0, 0, 0, 0, 0, 0, 0, 0, 0, 0, 0, 0, 0, 0, 0, 0, 0, 0, 0, 0.0, 0, 0, 0, 0, 0, 0, 0.0, 0, 0, 0, 0, 0, 0, 0, 0, 0, 0, 0, 0, 0, 0, 0, 0, 0, 0, 0, 0, 0, 0, 0, 0, 0, 0, 0, 0, 0, 0.0, 0, 0.1779, 0, 0, 0, 0, 0, 0, 0, 0, 0.25, 0, 0, 0, 0, 0, 0, 0, 0, 0.0, 0, 0.0, 0, 0, 0, 0, 0, 0, 0, 0, 0, 0, 0, 0, 0, 0, 0, 0, 0, 0, 0, 0, 0, 0, 0, 0, 0, 0, 0, 0, 0, 0, 0, 0, 0, 0, 0, 0, 0.0, 0, 0, 0, 0, 0, 0, 0, 0, 0, 0, 0, 0, 0, 0, 0, 0, 0, 0, 0, 0, 0, 0, 0, 0, 0, 0, 0, 0, 0, 0, 0, 0, 0, 0, 0, 0, 0, 0, 0, 0, 0, 0, 0, 0, 0, 0, 0, 0, 0, 0, 0, 0, 0, 0, 0, 0, 0, 0, 0, 0.0, 0, 0, 0.0, 0, 0, 0, 0, 0, 0, 0, 0, 0, 0.0, 0, 0, 0, 0.0, 0.0, 0, 0, 0, 0, 0.0, 0, 0, 0, 0, 0, 0, 0, 0, 0, 0, 0, 0, -0.0258, 0, 0.0, 0, 0, 0, 0, 0, 0, 0.4767, 0, 0, 0, 0, 0, 0, 0, 0, 0, 0, 0, 0, 0, 0, 0, 0, 0, 0, 0, 0, 0, 0, 0.5574, 0.0, 0, 0.34, 0, 0, 0, 0, 0, 0, 0.0, 0.0, 0, 0.0, 0, 0, 0.0, 0, 0, 0, 0, 0, 0, 0.0, 0.0, 0.0, 0, 0, 0.0, 0.0, 0, 0, 0, 0, 0, 0, 0, 0, 0, 0, 0.4364, 0.6369, 0, 0, 0, 0, 0.0, 0.0, 0, 0, 0, 0, 0, 0, 0.0, 0.0, 0, 0, 0.0, 0, 0, 0, -0.296, 0, 0, 0.4404, 0, 0, 0, 0, 0.3818, 0, 0, 0, -0.5228, 0.1779, 0, 0, 0, 0.0, 0.0, 0.0, 0, 0, 0, 0, 0.0, 0, 0, 0, 0, 0, 0, 0.1779, 0, 0.5106, 0, 0, 0.0, -0.5106, 0.0, 0, 0, 0, 0.3612, 0.0, 0, 0, 0.6996, -0.4215, 0, 0, 0, 0, 0.0, 0.0, 0, 0.0, 0.3818, 0, 0.0, 0.296, 0.0, 0, 0.0, 0, 0.0, 0, -0.2732, 0, 0, 0.8201, 0, 0, 0, 0.0, 0, 0, 0.0, 0.0, 0.0, 0, 0.0, -0.4019, 0.0, 0.0, 0, 0, 0, 0.0772, 0.0, 0, 0, 0, 0, 0.0, 0, 0.0, 0, 0.0, 0.25, 0, 0, 0.5267, 0.296, 0.0, 0, 0, 0, 0, 0.0, -0.5267, 0.5574, -0.4215, 0.2263, 0, 0, 0, 0.4588, 0, 0, 0.0, 0.0, 0.0, 0.0, 0.0, 0, 0.0, 0.0, 0, 0.0, 0, 0, 0.0, 0.0, 0.0, 0, -0.6705, 0.0, 0.0, 0.0, 0.2023, 0.0, 0.0, 0, 0.0, 0.0, 0, 0.0772, 0, 0.3818, 0, 0.0, 0.6249, 0.6597, 0.0, -0.4404, 0.0, 0.0, 0.0, 0.0, 0.0, 0.0, 0, 0, 0.0, 0.296, 0.0, 0, 0.0, 0.25, 0.0, 0, 0, 0, 0.4019, 0.0, 0, 0.0, 0.0, -0.5423, 0.0]\n",
            "824\n",
            "[datetime.datetime(2018, 1, 17, 0, 0), datetime.datetime(2018, 1, 18, 0, 0), datetime.datetime(2018, 1, 19, 0, 0), datetime.datetime(2018, 1, 22, 0, 0), datetime.datetime(2018, 1, 23, 0, 0), datetime.datetime(2018, 1, 24, 0, 0), datetime.datetime(2018, 1, 25, 0, 0), datetime.datetime(2018, 1, 26, 0, 0), datetime.datetime(2018, 1, 29, 0, 0), datetime.datetime(2018, 1, 30, 0, 0), datetime.datetime(2018, 1, 31, 0, 0), datetime.datetime(2018, 2, 1, 0, 0), datetime.datetime(2018, 2, 2, 0, 0), datetime.datetime(2018, 2, 5, 0, 0), datetime.datetime(2018, 2, 6, 0, 0), datetime.datetime(2018, 2, 7, 0, 0), datetime.datetime(2018, 2, 8, 0, 0), datetime.datetime(2018, 2, 9, 0, 0), datetime.datetime(2018, 2, 12, 0, 0), datetime.datetime(2018, 2, 13, 0, 0), datetime.datetime(2018, 2, 14, 0, 0), datetime.datetime(2018, 2, 15, 0, 0), datetime.datetime(2018, 2, 16, 0, 0), datetime.datetime(2018, 2, 19, 0, 0), datetime.datetime(2018, 2, 20, 0, 0), datetime.datetime(2018, 2, 21, 0, 0), datetime.datetime(2018, 2, 22, 0, 0), datetime.datetime(2018, 2, 23, 0, 0), datetime.datetime(2018, 2, 26, 0, 0), datetime.datetime(2018, 2, 27, 0, 0), datetime.datetime(2018, 2, 28, 0, 0), datetime.datetime(2018, 3, 1, 0, 0), datetime.datetime(2018, 3, 2, 0, 0), datetime.datetime(2018, 3, 5, 0, 0), datetime.datetime(2018, 3, 6, 0, 0), datetime.datetime(2018, 3, 7, 0, 0), datetime.datetime(2018, 3, 8, 0, 0), datetime.datetime(2018, 3, 9, 0, 0), datetime.datetime(2018, 3, 12, 0, 0), datetime.datetime(2018, 3, 13, 0, 0), datetime.datetime(2018, 3, 14, 0, 0), datetime.datetime(2018, 3, 15, 0, 0), datetime.datetime(2018, 3, 16, 0, 0), datetime.datetime(2018, 3, 19, 0, 0), datetime.datetime(2018, 3, 20, 0, 0), datetime.datetime(2018, 3, 21, 0, 0), datetime.datetime(2018, 3, 22, 0, 0), datetime.datetime(2018, 3, 23, 0, 0), datetime.datetime(2018, 3, 26, 0, 0), datetime.datetime(2018, 3, 27, 0, 0), datetime.datetime(2018, 3, 28, 0, 0), datetime.datetime(2018, 3, 29, 0, 0), datetime.datetime(2018, 3, 30, 0, 0), datetime.datetime(2018, 4, 2, 0, 0), datetime.datetime(2018, 4, 3, 0, 0), datetime.datetime(2018, 4, 4, 0, 0), datetime.datetime(2018, 4, 5, 0, 0), datetime.datetime(2018, 4, 6, 0, 0), datetime.datetime(2018, 4, 9, 0, 0), datetime.datetime(2018, 4, 10, 0, 0), datetime.datetime(2018, 4, 11, 0, 0), datetime.datetime(2018, 4, 12, 0, 0), datetime.datetime(2018, 4, 13, 0, 0), datetime.datetime(2018, 4, 16, 0, 0), datetime.datetime(2018, 4, 17, 0, 0), datetime.datetime(2018, 4, 18, 0, 0), datetime.datetime(2018, 4, 19, 0, 0), datetime.datetime(2018, 4, 20, 0, 0), datetime.datetime(2018, 4, 23, 0, 0), datetime.datetime(2018, 4, 24, 0, 0), datetime.datetime(2018, 4, 25, 0, 0), datetime.datetime(2018, 4, 26, 0, 0), datetime.datetime(2018, 4, 27, 0, 0), datetime.datetime(2018, 4, 30, 0, 0), datetime.datetime(2018, 5, 1, 0, 0), datetime.datetime(2018, 5, 2, 0, 0), datetime.datetime(2018, 5, 3, 0, 0), datetime.datetime(2018, 5, 4, 0, 0), datetime.datetime(2018, 5, 7, 0, 0), datetime.datetime(2018, 5, 8, 0, 0), datetime.datetime(2018, 5, 9, 0, 0), datetime.datetime(2018, 5, 10, 0, 0), datetime.datetime(2018, 5, 11, 0, 0), datetime.datetime(2018, 5, 14, 0, 0), datetime.datetime(2018, 5, 15, 0, 0), datetime.datetime(2018, 5, 16, 0, 0), datetime.datetime(2018, 5, 17, 0, 0), datetime.datetime(2018, 5, 18, 0, 0), datetime.datetime(2018, 5, 21, 0, 0), datetime.datetime(2018, 5, 22, 0, 0), datetime.datetime(2018, 5, 23, 0, 0), datetime.datetime(2018, 5, 24, 0, 0), datetime.datetime(2018, 5, 25, 0, 0), datetime.datetime(2018, 5, 28, 0, 0), datetime.datetime(2018, 5, 29, 0, 0), datetime.datetime(2018, 5, 30, 0, 0), datetime.datetime(2018, 5, 31, 0, 0), datetime.datetime(2018, 6, 1, 0, 0), datetime.datetime(2018, 6, 4, 0, 0), datetime.datetime(2018, 6, 5, 0, 0), datetime.datetime(2018, 6, 6, 0, 0), datetime.datetime(2018, 6, 7, 0, 0), datetime.datetime(2018, 6, 8, 0, 0), datetime.datetime(2018, 6, 11, 0, 0), datetime.datetime(2018, 6, 12, 0, 0), datetime.datetime(2018, 6, 13, 0, 0), datetime.datetime(2018, 6, 14, 0, 0), datetime.datetime(2018, 6, 15, 0, 0), datetime.datetime(2018, 6, 18, 0, 0), datetime.datetime(2018, 6, 19, 0, 0), datetime.datetime(2018, 6, 20, 0, 0), datetime.datetime(2018, 6, 21, 0, 0), datetime.datetime(2018, 6, 22, 0, 0), datetime.datetime(2018, 6, 25, 0, 0), datetime.datetime(2018, 6, 26, 0, 0), datetime.datetime(2018, 6, 27, 0, 0), datetime.datetime(2018, 6, 28, 0, 0), datetime.datetime(2018, 6, 29, 0, 0), datetime.datetime(2018, 7, 2, 0, 0), datetime.datetime(2018, 7, 3, 0, 0), datetime.datetime(2018, 7, 4, 0, 0), datetime.datetime(2018, 7, 5, 0, 0), datetime.datetime(2018, 7, 6, 0, 0), datetime.datetime(2018, 7, 9, 0, 0), datetime.datetime(2018, 7, 10, 0, 0), datetime.datetime(2018, 7, 11, 0, 0), datetime.datetime(2018, 7, 12, 0, 0), datetime.datetime(2018, 7, 13, 0, 0), datetime.datetime(2018, 7, 16, 0, 0), datetime.datetime(2018, 7, 17, 0, 0), datetime.datetime(2018, 7, 18, 0, 0), datetime.datetime(2018, 7, 19, 0, 0), datetime.datetime(2018, 7, 20, 0, 0), datetime.datetime(2018, 7, 23, 0, 0), datetime.datetime(2018, 7, 24, 0, 0), datetime.datetime(2018, 7, 25, 0, 0), datetime.datetime(2018, 7, 26, 0, 0), datetime.datetime(2018, 7, 27, 0, 0), datetime.datetime(2018, 7, 30, 0, 0), datetime.datetime(2018, 7, 31, 0, 0), datetime.datetime(2018, 8, 1, 0, 0), datetime.datetime(2018, 8, 2, 0, 0), datetime.datetime(2018, 8, 3, 0, 0), datetime.datetime(2018, 8, 6, 0, 0), datetime.datetime(2018, 8, 7, 0, 0), datetime.datetime(2018, 8, 8, 0, 0), datetime.datetime(2018, 8, 9, 0, 0), datetime.datetime(2018, 8, 10, 0, 0), datetime.datetime(2018, 8, 13, 0, 0), datetime.datetime(2018, 8, 14, 0, 0), datetime.datetime(2018, 8, 15, 0, 0), datetime.datetime(2018, 8, 16, 0, 0), datetime.datetime(2018, 8, 17, 0, 0), datetime.datetime(2018, 8, 20, 0, 0), datetime.datetime(2018, 8, 21, 0, 0), datetime.datetime(2018, 8, 22, 0, 0), datetime.datetime(2018, 8, 23, 0, 0), datetime.datetime(2018, 8, 24, 0, 0), datetime.datetime(2018, 8, 27, 0, 0), datetime.datetime(2018, 8, 28, 0, 0), datetime.datetime(2018, 8, 29, 0, 0), datetime.datetime(2018, 8, 30, 0, 0), datetime.datetime(2018, 8, 31, 0, 0), datetime.datetime(2018, 9, 3, 0, 0), datetime.datetime(2018, 9, 4, 0, 0), datetime.datetime(2018, 9, 5, 0, 0), datetime.datetime(2018, 9, 6, 0, 0), datetime.datetime(2018, 9, 7, 0, 0), datetime.datetime(2018, 9, 10, 0, 0), datetime.datetime(2018, 9, 11, 0, 0), datetime.datetime(2018, 9, 12, 0, 0), datetime.datetime(2018, 9, 13, 0, 0), datetime.datetime(2018, 9, 14, 0, 0), datetime.datetime(2018, 9, 17, 0, 0), datetime.datetime(2018, 9, 18, 0, 0), datetime.datetime(2018, 9, 19, 0, 0), datetime.datetime(2018, 9, 20, 0, 0), datetime.datetime(2018, 9, 21, 0, 0), datetime.datetime(2018, 9, 24, 0, 0), datetime.datetime(2018, 9, 25, 0, 0), datetime.datetime(2018, 9, 26, 0, 0), datetime.datetime(2018, 9, 27, 0, 0), datetime.datetime(2018, 9, 28, 0, 0), datetime.datetime(2018, 10, 1, 0, 0), datetime.datetime(2018, 10, 2, 0, 0), datetime.datetime(2018, 10, 3, 0, 0), datetime.datetime(2018, 10, 4, 0, 0), datetime.datetime(2018, 10, 5, 0, 0), datetime.datetime(2018, 10, 8, 0, 0), datetime.datetime(2018, 10, 9, 0, 0), datetime.datetime(2018, 10, 10, 0, 0), datetime.datetime(2018, 10, 11, 0, 0), datetime.datetime(2018, 10, 12, 0, 0), datetime.datetime(2018, 10, 15, 0, 0), datetime.datetime(2018, 10, 16, 0, 0), datetime.datetime(2018, 10, 17, 0, 0), datetime.datetime(2018, 10, 18, 0, 0), datetime.datetime(2018, 10, 19, 0, 0), datetime.datetime(2018, 10, 22, 0, 0), datetime.datetime(2018, 10, 23, 0, 0), datetime.datetime(2018, 10, 24, 0, 0), datetime.datetime(2018, 10, 25, 0, 0), datetime.datetime(2018, 10, 26, 0, 0), datetime.datetime(2018, 10, 29, 0, 0), datetime.datetime(2018, 10, 30, 0, 0), datetime.datetime(2018, 10, 31, 0, 0), datetime.datetime(2018, 11, 1, 0, 0), datetime.datetime(2018, 11, 2, 0, 0), datetime.datetime(2018, 11, 5, 0, 0), datetime.datetime(2018, 11, 6, 0, 0), datetime.datetime(2018, 11, 7, 0, 0), datetime.datetime(2018, 11, 8, 0, 0), datetime.datetime(2018, 11, 9, 0, 0), datetime.datetime(2018, 11, 12, 0, 0), datetime.datetime(2018, 11, 13, 0, 0), datetime.datetime(2018, 11, 14, 0, 0), datetime.datetime(2018, 11, 15, 0, 0), datetime.datetime(2018, 11, 16, 0, 0), datetime.datetime(2018, 11, 19, 0, 0), datetime.datetime(2018, 11, 20, 0, 0), datetime.datetime(2018, 11, 21, 0, 0), datetime.datetime(2018, 11, 22, 0, 0), datetime.datetime(2018, 11, 23, 0, 0), datetime.datetime(2018, 11, 26, 0, 0), datetime.datetime(2018, 11, 27, 0, 0), datetime.datetime(2018, 11, 28, 0, 0), datetime.datetime(2018, 11, 29, 0, 0), datetime.datetime(2018, 11, 30, 0, 0), datetime.datetime(2018, 12, 3, 0, 0), datetime.datetime(2018, 12, 4, 0, 0), datetime.datetime(2018, 12, 5, 0, 0), datetime.datetime(2018, 12, 6, 0, 0), datetime.datetime(2018, 12, 7, 0, 0), datetime.datetime(2018, 12, 10, 0, 0), datetime.datetime(2018, 12, 11, 0, 0), datetime.datetime(2018, 12, 12, 0, 0), datetime.datetime(2018, 12, 13, 0, 0), datetime.datetime(2018, 12, 14, 0, 0), datetime.datetime(2018, 12, 17, 0, 0), datetime.datetime(2018, 12, 18, 0, 0), datetime.datetime(2018, 12, 19, 0, 0), datetime.datetime(2018, 12, 20, 0, 0), datetime.datetime(2018, 12, 21, 0, 0), datetime.datetime(2018, 12, 24, 0, 0), datetime.datetime(2018, 12, 25, 0, 0), datetime.datetime(2018, 12, 26, 0, 0), datetime.datetime(2018, 12, 27, 0, 0), datetime.datetime(2018, 12, 28, 0, 0), datetime.datetime(2018, 12, 31, 0, 0), datetime.datetime(2019, 1, 1, 0, 0), datetime.datetime(2019, 1, 2, 0, 0), datetime.datetime(2019, 1, 3, 0, 0), datetime.datetime(2019, 1, 4, 0, 0), datetime.datetime(2019, 1, 7, 0, 0), datetime.datetime(2019, 1, 8, 0, 0), datetime.datetime(2019, 1, 9, 0, 0), datetime.datetime(2019, 1, 10, 0, 0), datetime.datetime(2019, 1, 11, 0, 0), datetime.datetime(2019, 1, 14, 0, 0), datetime.datetime(2019, 1, 15, 0, 0), datetime.datetime(2019, 1, 16, 0, 0), datetime.datetime(2019, 1, 17, 0, 0), datetime.datetime(2019, 1, 18, 0, 0), datetime.datetime(2019, 1, 21, 0, 0), datetime.datetime(2019, 1, 22, 0, 0), datetime.datetime(2019, 1, 23, 0, 0), datetime.datetime(2019, 1, 24, 0, 0), datetime.datetime(2019, 1, 25, 0, 0), datetime.datetime(2019, 1, 28, 0, 0), datetime.datetime(2019, 1, 29, 0, 0), datetime.datetime(2019, 1, 30, 0, 0), datetime.datetime(2019, 1, 31, 0, 0), datetime.datetime(2019, 2, 1, 0, 0), datetime.datetime(2019, 2, 4, 0, 0), datetime.datetime(2019, 2, 5, 0, 0), datetime.datetime(2019, 2, 6, 0, 0), datetime.datetime(2019, 2, 7, 0, 0), datetime.datetime(2019, 2, 8, 0, 0), datetime.datetime(2019, 2, 11, 0, 0), datetime.datetime(2019, 2, 12, 0, 0), datetime.datetime(2019, 2, 13, 0, 0), datetime.datetime(2019, 2, 14, 0, 0), datetime.datetime(2019, 2, 15, 0, 0), datetime.datetime(2019, 2, 18, 0, 0), datetime.datetime(2019, 2, 19, 0, 0), datetime.datetime(2019, 2, 20, 0, 0), datetime.datetime(2019, 2, 21, 0, 0), datetime.datetime(2019, 2, 22, 0, 0), datetime.datetime(2019, 2, 25, 0, 0), datetime.datetime(2019, 2, 26, 0, 0), datetime.datetime(2019, 2, 27, 0, 0), datetime.datetime(2019, 2, 28, 0, 0), datetime.datetime(2019, 3, 1, 0, 0), datetime.datetime(2019, 3, 4, 0, 0), datetime.datetime(2019, 3, 5, 0, 0), datetime.datetime(2019, 3, 6, 0, 0), datetime.datetime(2019, 3, 7, 0, 0), datetime.datetime(2019, 3, 8, 0, 0), datetime.datetime(2019, 3, 11, 0, 0), datetime.datetime(2019, 3, 12, 0, 0), datetime.datetime(2019, 3, 13, 0, 0), datetime.datetime(2019, 3, 14, 0, 0), datetime.datetime(2019, 3, 15, 0, 0), datetime.datetime(2019, 3, 18, 0, 0), datetime.datetime(2019, 3, 19, 0, 0), datetime.datetime(2019, 3, 20, 0, 0), datetime.datetime(2019, 3, 21, 0, 0), datetime.datetime(2019, 3, 22, 0, 0), datetime.datetime(2019, 3, 25, 0, 0), datetime.datetime(2019, 3, 26, 0, 0), datetime.datetime(2019, 3, 27, 0, 0), datetime.datetime(2019, 3, 28, 0, 0), datetime.datetime(2019, 3, 29, 0, 0), datetime.datetime(2019, 4, 1, 0, 0), datetime.datetime(2019, 4, 2, 0, 0), datetime.datetime(2019, 4, 3, 0, 0), datetime.datetime(2019, 4, 4, 0, 0), datetime.datetime(2019, 4, 5, 0, 0), datetime.datetime(2019, 4, 8, 0, 0), datetime.datetime(2019, 4, 9, 0, 0), datetime.datetime(2019, 4, 10, 0, 0), datetime.datetime(2019, 4, 11, 0, 0), datetime.datetime(2019, 4, 12, 0, 0), datetime.datetime(2019, 4, 15, 0, 0), datetime.datetime(2019, 4, 16, 0, 0), datetime.datetime(2019, 4, 17, 0, 0), datetime.datetime(2019, 4, 18, 0, 0), datetime.datetime(2019, 4, 19, 0, 0), datetime.datetime(2019, 4, 22, 0, 0), datetime.datetime(2019, 4, 23, 0, 0), datetime.datetime(2019, 4, 24, 0, 0), datetime.datetime(2019, 4, 25, 0, 0), datetime.datetime(2019, 4, 26, 0, 0), datetime.datetime(2019, 4, 29, 0, 0), datetime.datetime(2019, 4, 30, 0, 0), datetime.datetime(2019, 5, 1, 0, 0), datetime.datetime(2019, 5, 2, 0, 0), datetime.datetime(2019, 5, 3, 0, 0), datetime.datetime(2019, 5, 6, 0, 0), datetime.datetime(2019, 5, 7, 0, 0), datetime.datetime(2019, 5, 8, 0, 0), datetime.datetime(2019, 5, 9, 0, 0), datetime.datetime(2019, 5, 10, 0, 0), datetime.datetime(2019, 5, 13, 0, 0), datetime.datetime(2019, 5, 14, 0, 0), datetime.datetime(2019, 5, 15, 0, 0), datetime.datetime(2019, 5, 16, 0, 0), datetime.datetime(2019, 5, 17, 0, 0), datetime.datetime(2019, 5, 20, 0, 0), datetime.datetime(2019, 5, 21, 0, 0), datetime.datetime(2019, 5, 22, 0, 0), datetime.datetime(2019, 5, 23, 0, 0), datetime.datetime(2019, 5, 24, 0, 0), datetime.datetime(2019, 5, 27, 0, 0), datetime.datetime(2019, 5, 28, 0, 0), datetime.datetime(2019, 5, 29, 0, 0), datetime.datetime(2019, 5, 30, 0, 0), datetime.datetime(2019, 5, 31, 0, 0), datetime.datetime(2019, 6, 3, 0, 0), datetime.datetime(2019, 6, 4, 0, 0), datetime.datetime(2019, 6, 5, 0, 0), datetime.datetime(2019, 6, 6, 0, 0), datetime.datetime(2019, 6, 7, 0, 0), datetime.datetime(2019, 6, 10, 0, 0), datetime.datetime(2019, 6, 11, 0, 0), datetime.datetime(2019, 6, 12, 0, 0), datetime.datetime(2019, 6, 13, 0, 0), datetime.datetime(2019, 6, 14, 0, 0), datetime.datetime(2019, 6, 17, 0, 0), datetime.datetime(2019, 6, 18, 0, 0), datetime.datetime(2019, 6, 19, 0, 0), datetime.datetime(2019, 6, 20, 0, 0), datetime.datetime(2019, 6, 21, 0, 0), datetime.datetime(2019, 6, 24, 0, 0), datetime.datetime(2019, 6, 25, 0, 0), datetime.datetime(2019, 6, 26, 0, 0), datetime.datetime(2019, 6, 27, 0, 0), datetime.datetime(2019, 6, 28, 0, 0), datetime.datetime(2019, 7, 1, 0, 0), datetime.datetime(2019, 7, 2, 0, 0), datetime.datetime(2019, 7, 3, 0, 0), datetime.datetime(2019, 7, 4, 0, 0), datetime.datetime(2019, 7, 5, 0, 0), datetime.datetime(2019, 7, 8, 0, 0), datetime.datetime(2019, 7, 9, 0, 0), datetime.datetime(2019, 7, 10, 0, 0), datetime.datetime(2019, 7, 11, 0, 0), datetime.datetime(2019, 7, 12, 0, 0), datetime.datetime(2019, 7, 15, 0, 0), datetime.datetime(2019, 7, 16, 0, 0), datetime.datetime(2019, 7, 17, 0, 0), datetime.datetime(2019, 7, 18, 0, 0), datetime.datetime(2019, 7, 19, 0, 0), datetime.datetime(2019, 7, 22, 0, 0), datetime.datetime(2019, 7, 23, 0, 0), datetime.datetime(2019, 7, 24, 0, 0), datetime.datetime(2019, 7, 25, 0, 0), datetime.datetime(2019, 7, 26, 0, 0), datetime.datetime(2019, 7, 29, 0, 0), datetime.datetime(2019, 7, 30, 0, 0), datetime.datetime(2019, 7, 31, 0, 0), datetime.datetime(2019, 8, 1, 0, 0), datetime.datetime(2019, 8, 2, 0, 0), datetime.datetime(2019, 8, 5, 0, 0), datetime.datetime(2019, 8, 6, 0, 0), datetime.datetime(2019, 8, 7, 0, 0), datetime.datetime(2019, 8, 8, 0, 0), datetime.datetime(2019, 8, 9, 0, 0), datetime.datetime(2019, 8, 12, 0, 0), datetime.datetime(2019, 8, 13, 0, 0), datetime.datetime(2019, 8, 14, 0, 0), datetime.datetime(2019, 8, 15, 0, 0), datetime.datetime(2019, 8, 16, 0, 0), datetime.datetime(2019, 8, 19, 0, 0), datetime.datetime(2019, 8, 20, 0, 0), datetime.datetime(2019, 8, 21, 0, 0), datetime.datetime(2019, 8, 22, 0, 0), datetime.datetime(2019, 8, 23, 0, 0), datetime.datetime(2019, 8, 26, 0, 0), datetime.datetime(2019, 8, 27, 0, 0), datetime.datetime(2019, 8, 28, 0, 0), datetime.datetime(2019, 8, 29, 0, 0), datetime.datetime(2019, 8, 30, 0, 0), datetime.datetime(2019, 9, 2, 0, 0), datetime.datetime(2019, 9, 3, 0, 0), datetime.datetime(2019, 9, 4, 0, 0), datetime.datetime(2019, 9, 5, 0, 0), datetime.datetime(2019, 9, 6, 0, 0), datetime.datetime(2019, 9, 9, 0, 0), datetime.datetime(2019, 9, 10, 0, 0), datetime.datetime(2019, 9, 11, 0, 0), datetime.datetime(2019, 9, 12, 0, 0), datetime.datetime(2019, 9, 13, 0, 0), datetime.datetime(2019, 9, 16, 0, 0), datetime.datetime(2019, 9, 17, 0, 0), datetime.datetime(2019, 9, 18, 0, 0), datetime.datetime(2019, 9, 19, 0, 0), datetime.datetime(2019, 9, 20, 0, 0), datetime.datetime(2019, 9, 23, 0, 0), datetime.datetime(2019, 9, 24, 0, 0), datetime.datetime(2019, 9, 25, 0, 0), datetime.datetime(2019, 9, 26, 0, 0), datetime.datetime(2019, 9, 27, 0, 0), datetime.datetime(2019, 9, 30, 0, 0), datetime.datetime(2019, 10, 1, 0, 0), datetime.datetime(2019, 10, 2, 0, 0), datetime.datetime(2019, 10, 3, 0, 0), datetime.datetime(2019, 10, 4, 0, 0), datetime.datetime(2019, 10, 7, 0, 0), datetime.datetime(2019, 10, 8, 0, 0), datetime.datetime(2019, 10, 9, 0, 0), datetime.datetime(2019, 10, 10, 0, 0), datetime.datetime(2019, 10, 11, 0, 0), datetime.datetime(2019, 10, 14, 0, 0), datetime.datetime(2019, 10, 15, 0, 0), datetime.datetime(2019, 10, 16, 0, 0), datetime.datetime(2019, 10, 17, 0, 0), datetime.datetime(2019, 10, 18, 0, 0), datetime.datetime(2019, 10, 21, 0, 0), datetime.datetime(2019, 10, 22, 0, 0), datetime.datetime(2019, 10, 23, 0, 0), datetime.datetime(2019, 10, 24, 0, 0), datetime.datetime(2019, 10, 25, 0, 0), datetime.datetime(2019, 10, 28, 0, 0), datetime.datetime(2019, 10, 29, 0, 0), datetime.datetime(2019, 10, 30, 0, 0), datetime.datetime(2019, 10, 31, 0, 0), datetime.datetime(2019, 11, 1, 0, 0), datetime.datetime(2019, 11, 4, 0, 0), datetime.datetime(2019, 11, 5, 0, 0), datetime.datetime(2019, 11, 6, 0, 0), datetime.datetime(2019, 11, 7, 0, 0), datetime.datetime(2019, 11, 8, 0, 0), datetime.datetime(2019, 11, 11, 0, 0), datetime.datetime(2019, 11, 12, 0, 0), datetime.datetime(2019, 11, 13, 0, 0), datetime.datetime(2019, 11, 14, 0, 0), datetime.datetime(2019, 11, 15, 0, 0), datetime.datetime(2019, 11, 18, 0, 0), datetime.datetime(2019, 11, 19, 0, 0), datetime.datetime(2019, 11, 20, 0, 0), datetime.datetime(2019, 11, 21, 0, 0), datetime.datetime(2019, 11, 22, 0, 0), datetime.datetime(2019, 11, 25, 0, 0), datetime.datetime(2019, 11, 26, 0, 0), datetime.datetime(2019, 11, 27, 0, 0), datetime.datetime(2019, 11, 28, 0, 0), datetime.datetime(2019, 11, 29, 0, 0), datetime.datetime(2019, 12, 2, 0, 0), datetime.datetime(2019, 12, 3, 0, 0), datetime.datetime(2019, 12, 4, 0, 0), datetime.datetime(2019, 12, 5, 0, 0), datetime.datetime(2019, 12, 6, 0, 0), datetime.datetime(2019, 12, 9, 0, 0), datetime.datetime(2019, 12, 10, 0, 0), datetime.datetime(2019, 12, 11, 0, 0), datetime.datetime(2019, 12, 12, 0, 0), datetime.datetime(2019, 12, 13, 0, 0), datetime.datetime(2019, 12, 16, 0, 0), datetime.datetime(2019, 12, 17, 0, 0), datetime.datetime(2019, 12, 18, 0, 0), datetime.datetime(2019, 12, 19, 0, 0), datetime.datetime(2019, 12, 20, 0, 0), datetime.datetime(2019, 12, 23, 0, 0), datetime.datetime(2019, 12, 24, 0, 0), datetime.datetime(2019, 12, 25, 0, 0), datetime.datetime(2019, 12, 26, 0, 0), datetime.datetime(2019, 12, 27, 0, 0), datetime.datetime(2019, 12, 30, 0, 0), datetime.datetime(2019, 12, 31, 0, 0), datetime.datetime(2020, 1, 1, 0, 0), datetime.datetime(2020, 1, 2, 0, 0), datetime.datetime(2020, 1, 3, 0, 0), datetime.datetime(2020, 1, 6, 0, 0), datetime.datetime(2020, 1, 7, 0, 0), datetime.datetime(2020, 1, 8, 0, 0), datetime.datetime(2020, 1, 9, 0, 0), datetime.datetime(2020, 1, 10, 0, 0), datetime.datetime(2020, 1, 13, 0, 0), datetime.datetime(2020, 1, 14, 0, 0), datetime.datetime(2020, 1, 15, 0, 0), datetime.datetime(2020, 1, 16, 0, 0), datetime.datetime(2020, 1, 17, 0, 0), datetime.datetime(2020, 1, 20, 0, 0), datetime.datetime(2020, 1, 21, 0, 0), datetime.datetime(2020, 1, 22, 0, 0), datetime.datetime(2020, 1, 23, 0, 0), datetime.datetime(2020, 1, 24, 0, 0), datetime.datetime(2020, 1, 27, 0, 0), datetime.datetime(2020, 1, 28, 0, 0), datetime.datetime(2020, 1, 29, 0, 0), datetime.datetime(2020, 1, 30, 0, 0), datetime.datetime(2020, 1, 31, 0, 0), datetime.datetime(2020, 2, 3, 0, 0), datetime.datetime(2020, 2, 4, 0, 0), datetime.datetime(2020, 2, 5, 0, 0), datetime.datetime(2020, 2, 6, 0, 0), datetime.datetime(2020, 2, 7, 0, 0), datetime.datetime(2020, 2, 10, 0, 0), datetime.datetime(2020, 2, 11, 0, 0), datetime.datetime(2020, 2, 12, 0, 0), datetime.datetime(2020, 2, 13, 0, 0), datetime.datetime(2020, 2, 14, 0, 0), datetime.datetime(2020, 2, 17, 0, 0), datetime.datetime(2020, 2, 18, 0, 0), datetime.datetime(2020, 2, 19, 0, 0), datetime.datetime(2020, 2, 20, 0, 0), datetime.datetime(2020, 2, 21, 0, 0), datetime.datetime(2020, 2, 24, 0, 0), datetime.datetime(2020, 2, 25, 0, 0), datetime.datetime(2020, 2, 26, 0, 0), datetime.datetime(2020, 2, 27, 0, 0), datetime.datetime(2020, 2, 28, 0, 0), datetime.datetime(2020, 3, 2, 0, 0), datetime.datetime(2020, 3, 3, 0, 0), datetime.datetime(2020, 3, 4, 0, 0), datetime.datetime(2020, 3, 5, 0, 0), datetime.datetime(2020, 3, 6, 0, 0), datetime.datetime(2020, 3, 9, 0, 0), datetime.datetime(2020, 3, 10, 0, 0), datetime.datetime(2020, 3, 11, 0, 0), datetime.datetime(2020, 3, 12, 0, 0), datetime.datetime(2020, 3, 13, 0, 0), datetime.datetime(2020, 3, 16, 0, 0), datetime.datetime(2020, 3, 17, 0, 0), datetime.datetime(2020, 3, 18, 0, 0), datetime.datetime(2020, 3, 19, 0, 0), datetime.datetime(2020, 3, 20, 0, 0), datetime.datetime(2020, 3, 23, 0, 0), datetime.datetime(2020, 3, 24, 0, 0), datetime.datetime(2020, 3, 25, 0, 0), datetime.datetime(2020, 3, 26, 0, 0), datetime.datetime(2020, 3, 27, 0, 0), datetime.datetime(2020, 3, 30, 0, 0), datetime.datetime(2020, 3, 31, 0, 0), datetime.datetime(2020, 4, 1, 0, 0), datetime.datetime(2020, 4, 2, 0, 0), datetime.datetime(2020, 4, 3, 0, 0), datetime.datetime(2020, 4, 6, 0, 0), datetime.datetime(2020, 4, 7, 0, 0), datetime.datetime(2020, 4, 8, 0, 0), datetime.datetime(2020, 4, 9, 0, 0), datetime.datetime(2020, 4, 10, 0, 0), datetime.datetime(2020, 4, 13, 0, 0), datetime.datetime(2020, 4, 14, 0, 0), datetime.datetime(2020, 4, 15, 0, 0), datetime.datetime(2020, 4, 16, 0, 0), datetime.datetime(2020, 4, 17, 0, 0), datetime.datetime(2020, 4, 20, 0, 0), datetime.datetime(2020, 4, 21, 0, 0), datetime.datetime(2020, 4, 22, 0, 0), datetime.datetime(2020, 4, 23, 0, 0), datetime.datetime(2020, 4, 24, 0, 0), datetime.datetime(2020, 4, 27, 0, 0), datetime.datetime(2020, 4, 28, 0, 0), datetime.datetime(2020, 4, 29, 0, 0), datetime.datetime(2020, 4, 30, 0, 0), datetime.datetime(2020, 5, 1, 0, 0), datetime.datetime(2020, 5, 4, 0, 0), datetime.datetime(2020, 5, 5, 0, 0), datetime.datetime(2020, 5, 6, 0, 0), datetime.datetime(2020, 5, 7, 0, 0), datetime.datetime(2020, 5, 8, 0, 0), datetime.datetime(2020, 5, 11, 0, 0), datetime.datetime(2020, 5, 12, 0, 0), datetime.datetime(2020, 5, 13, 0, 0), datetime.datetime(2020, 5, 14, 0, 0), datetime.datetime(2020, 5, 15, 0, 0), datetime.datetime(2020, 5, 18, 0, 0), datetime.datetime(2020, 5, 19, 0, 0), datetime.datetime(2020, 5, 20, 0, 0), datetime.datetime(2020, 5, 21, 0, 0), datetime.datetime(2020, 5, 22, 0, 0), datetime.datetime(2020, 5, 25, 0, 0), datetime.datetime(2020, 5, 26, 0, 0), datetime.datetime(2020, 5, 27, 0, 0), datetime.datetime(2020, 5, 28, 0, 0), datetime.datetime(2020, 5, 29, 0, 0), datetime.datetime(2020, 6, 1, 0, 0), datetime.datetime(2020, 6, 2, 0, 0), datetime.datetime(2020, 6, 3, 0, 0), datetime.datetime(2020, 6, 4, 0, 0), datetime.datetime(2020, 6, 5, 0, 0), datetime.datetime(2020, 6, 8, 0, 0), datetime.datetime(2020, 6, 9, 0, 0), datetime.datetime(2020, 6, 10, 0, 0), datetime.datetime(2020, 6, 11, 0, 0), datetime.datetime(2020, 6, 12, 0, 0), datetime.datetime(2020, 6, 15, 0, 0), datetime.datetime(2020, 6, 16, 0, 0), datetime.datetime(2020, 6, 17, 0, 0), datetime.datetime(2020, 6, 18, 0, 0), datetime.datetime(2020, 6, 19, 0, 0), datetime.datetime(2020, 6, 22, 0, 0), datetime.datetime(2020, 6, 23, 0, 0), datetime.datetime(2020, 6, 24, 0, 0), datetime.datetime(2020, 6, 25, 0, 0), datetime.datetime(2020, 6, 26, 0, 0), datetime.datetime(2020, 6, 29, 0, 0), datetime.datetime(2020, 6, 30, 0, 0), datetime.datetime(2020, 7, 1, 0, 0), datetime.datetime(2020, 7, 2, 0, 0), datetime.datetime(2020, 7, 3, 0, 0), datetime.datetime(2020, 7, 6, 0, 0), datetime.datetime(2020, 7, 7, 0, 0), datetime.datetime(2020, 7, 8, 0, 0), datetime.datetime(2020, 7, 9, 0, 0), datetime.datetime(2020, 7, 10, 0, 0), datetime.datetime(2020, 7, 13, 0, 0), datetime.datetime(2020, 7, 14, 0, 0), datetime.datetime(2020, 7, 15, 0, 0), datetime.datetime(2020, 7, 16, 0, 0), datetime.datetime(2020, 7, 17, 0, 0), datetime.datetime(2020, 7, 20, 0, 0), datetime.datetime(2020, 7, 21, 0, 0), datetime.datetime(2020, 7, 22, 0, 0), datetime.datetime(2020, 7, 23, 0, 0), datetime.datetime(2020, 7, 24, 0, 0), datetime.datetime(2020, 7, 27, 0, 0), datetime.datetime(2020, 7, 28, 0, 0), datetime.datetime(2020, 7, 29, 0, 0), datetime.datetime(2020, 7, 30, 0, 0), datetime.datetime(2020, 7, 31, 0, 0), datetime.datetime(2020, 8, 3, 0, 0), datetime.datetime(2020, 8, 4, 0, 0), datetime.datetime(2020, 8, 5, 0, 0), datetime.datetime(2020, 8, 6, 0, 0), datetime.datetime(2020, 8, 7, 0, 0), datetime.datetime(2020, 8, 10, 0, 0), datetime.datetime(2020, 8, 11, 0, 0), datetime.datetime(2020, 8, 12, 0, 0), datetime.datetime(2020, 8, 13, 0, 0), datetime.datetime(2020, 8, 14, 0, 0), datetime.datetime(2020, 8, 17, 0, 0), datetime.datetime(2020, 8, 18, 0, 0), datetime.datetime(2020, 8, 19, 0, 0), datetime.datetime(2020, 8, 20, 0, 0), datetime.datetime(2020, 8, 21, 0, 0), datetime.datetime(2020, 8, 24, 0, 0), datetime.datetime(2020, 8, 25, 0, 0), datetime.datetime(2020, 8, 26, 0, 0), datetime.datetime(2020, 8, 27, 0, 0), datetime.datetime(2020, 8, 28, 0, 0), datetime.datetime(2020, 8, 31, 0, 0), datetime.datetime(2020, 9, 1, 0, 0), datetime.datetime(2020, 9, 2, 0, 0), datetime.datetime(2020, 9, 3, 0, 0), datetime.datetime(2020, 9, 4, 0, 0), datetime.datetime(2020, 9, 7, 0, 0), datetime.datetime(2020, 9, 8, 0, 0), datetime.datetime(2020, 9, 9, 0, 0), datetime.datetime(2020, 9, 10, 0, 0), datetime.datetime(2020, 9, 11, 0, 0), datetime.datetime(2020, 9, 14, 0, 0), datetime.datetime(2020, 9, 15, 0, 0), datetime.datetime(2020, 9, 16, 0, 0), datetime.datetime(2020, 9, 17, 0, 0), datetime.datetime(2020, 9, 18, 0, 0), datetime.datetime(2020, 9, 21, 0, 0), datetime.datetime(2020, 9, 22, 0, 0), datetime.datetime(2020, 9, 23, 0, 0), datetime.datetime(2020, 9, 24, 0, 0), datetime.datetime(2020, 9, 25, 0, 0), datetime.datetime(2020, 9, 28, 0, 0), datetime.datetime(2020, 9, 29, 0, 0), datetime.datetime(2020, 9, 30, 0, 0), datetime.datetime(2020, 10, 1, 0, 0), datetime.datetime(2020, 10, 2, 0, 0), datetime.datetime(2020, 10, 5, 0, 0), datetime.datetime(2020, 10, 6, 0, 0), datetime.datetime(2020, 10, 7, 0, 0), datetime.datetime(2020, 10, 8, 0, 0), datetime.datetime(2020, 10, 9, 0, 0), datetime.datetime(2020, 10, 12, 0, 0), datetime.datetime(2020, 10, 13, 0, 0), datetime.datetime(2020, 10, 14, 0, 0), datetime.datetime(2020, 10, 15, 0, 0), datetime.datetime(2020, 10, 16, 0, 0), datetime.datetime(2020, 10, 19, 0, 0), datetime.datetime(2020, 10, 20, 0, 0), datetime.datetime(2020, 10, 21, 0, 0), datetime.datetime(2020, 10, 22, 0, 0), datetime.datetime(2020, 10, 23, 0, 0), datetime.datetime(2020, 10, 26, 0, 0), datetime.datetime(2020, 10, 27, 0, 0), datetime.datetime(2020, 10, 28, 0, 0), datetime.datetime(2020, 10, 29, 0, 0), datetime.datetime(2020, 10, 30, 0, 0), datetime.datetime(2020, 11, 2, 0, 0), datetime.datetime(2020, 11, 3, 0, 0), datetime.datetime(2020, 11, 4, 0, 0), datetime.datetime(2020, 11, 5, 0, 0), datetime.datetime(2020, 11, 6, 0, 0), datetime.datetime(2020, 11, 9, 0, 0), datetime.datetime(2020, 11, 10, 0, 0), datetime.datetime(2020, 11, 11, 0, 0), datetime.datetime(2020, 11, 12, 0, 0), datetime.datetime(2020, 11, 13, 0, 0), datetime.datetime(2020, 11, 16, 0, 0), datetime.datetime(2020, 11, 17, 0, 0), datetime.datetime(2020, 11, 18, 0, 0), datetime.datetime(2020, 11, 19, 0, 0), datetime.datetime(2020, 11, 20, 0, 0), datetime.datetime(2020, 11, 23, 0, 0), datetime.datetime(2020, 11, 24, 0, 0), datetime.datetime(2020, 11, 25, 0, 0), datetime.datetime(2020, 11, 26, 0, 0), datetime.datetime(2020, 11, 27, 0, 0), datetime.datetime(2020, 11, 30, 0, 0), datetime.datetime(2020, 12, 1, 0, 0), datetime.datetime(2020, 12, 2, 0, 0), datetime.datetime(2020, 12, 3, 0, 0), datetime.datetime(2020, 12, 4, 0, 0), datetime.datetime(2020, 12, 7, 0, 0), datetime.datetime(2020, 12, 8, 0, 0), datetime.datetime(2020, 12, 9, 0, 0), datetime.datetime(2020, 12, 10, 0, 0), datetime.datetime(2020, 12, 11, 0, 0), datetime.datetime(2020, 12, 14, 0, 0), datetime.datetime(2020, 12, 15, 0, 0), datetime.datetime(2020, 12, 16, 0, 0), datetime.datetime(2020, 12, 17, 0, 0), datetime.datetime(2020, 12, 18, 0, 0), datetime.datetime(2020, 12, 21, 0, 0), datetime.datetime(2020, 12, 22, 0, 0), datetime.datetime(2020, 12, 23, 0, 0), datetime.datetime(2020, 12, 24, 0, 0), datetime.datetime(2020, 12, 25, 0, 0), datetime.datetime(2020, 12, 28, 0, 0), datetime.datetime(2020, 12, 29, 0, 0), datetime.datetime(2020, 12, 30, 0, 0), datetime.datetime(2020, 12, 31, 0, 0), datetime.datetime(2021, 1, 1, 0, 0), datetime.datetime(2021, 1, 4, 0, 0), datetime.datetime(2021, 1, 5, 0, 0), datetime.datetime(2021, 1, 6, 0, 0), datetime.datetime(2021, 1, 7, 0, 0), datetime.datetime(2021, 1, 8, 0, 0), datetime.datetime(2021, 1, 11, 0, 0), datetime.datetime(2021, 1, 12, 0, 0), datetime.datetime(2021, 1, 13, 0, 0), datetime.datetime(2021, 1, 14, 0, 0), datetime.datetime(2021, 1, 15, 0, 0), datetime.datetime(2021, 1, 18, 0, 0), datetime.datetime(2021, 1, 19, 0, 0), datetime.datetime(2021, 1, 20, 0, 0), datetime.datetime(2021, 1, 21, 0, 0), datetime.datetime(2021, 1, 22, 0, 0), datetime.datetime(2021, 1, 25, 0, 0), datetime.datetime(2021, 1, 26, 0, 0), datetime.datetime(2021, 1, 27, 0, 0), datetime.datetime(2021, 1, 28, 0, 0), datetime.datetime(2021, 1, 29, 0, 0), datetime.datetime(2021, 2, 1, 0, 0), datetime.datetime(2021, 2, 2, 0, 0), datetime.datetime(2021, 2, 3, 0, 0), datetime.datetime(2021, 2, 4, 0, 0), datetime.datetime(2021, 2, 5, 0, 0), datetime.datetime(2021, 2, 8, 0, 0), datetime.datetime(2021, 2, 9, 0, 0), datetime.datetime(2021, 2, 10, 0, 0), datetime.datetime(2021, 2, 11, 0, 0), datetime.datetime(2021, 2, 12, 0, 0), datetime.datetime(2021, 2, 15, 0, 0), datetime.datetime(2021, 2, 16, 0, 0), datetime.datetime(2021, 2, 17, 0, 0), datetime.datetime(2021, 2, 18, 0, 0), datetime.datetime(2021, 2, 19, 0, 0), datetime.datetime(2021, 2, 22, 0, 0), datetime.datetime(2021, 2, 23, 0, 0), datetime.datetime(2021, 2, 24, 0, 0), datetime.datetime(2021, 2, 25, 0, 0), datetime.datetime(2021, 2, 26, 0, 0), datetime.datetime(2021, 3, 1, 0, 0), datetime.datetime(2021, 3, 2, 0, 0), datetime.datetime(2021, 3, 3, 0, 0), datetime.datetime(2021, 3, 4, 0, 0), datetime.datetime(2021, 3, 5, 0, 0), datetime.datetime(2021, 3, 8, 0, 0), datetime.datetime(2021, 3, 9, 0, 0), datetime.datetime(2021, 3, 10, 0, 0), datetime.datetime(2021, 3, 11, 0, 0), datetime.datetime(2021, 3, 12, 0, 0), datetime.datetime(2021, 3, 15, 0, 0)]\n",
            "824\n",
            "[datetime.datetime(2018, 1, 17, 0, 0), datetime.datetime(2018, 2, 20, 0, 0), datetime.datetime(2018, 3, 19, 0, 0), datetime.datetime(2018, 3, 26, 0, 0), datetime.datetime(2018, 3, 27, 0, 0), datetime.datetime(2018, 3, 30, 0, 0), datetime.datetime(2018, 4, 12, 0, 0), datetime.datetime(2018, 5, 1, 0, 0), datetime.datetime(2018, 5, 18, 0, 0), datetime.datetime(2018, 7, 19, 0, 0), datetime.datetime(2018, 7, 25, 0, 0), datetime.datetime(2018, 7, 25, 0, 0), datetime.datetime(2018, 7, 27, 0, 0), datetime.datetime(2018, 7, 27, 0, 0), datetime.datetime(2018, 7, 30, 0, 0), datetime.datetime(2018, 8, 3, 0, 0), datetime.datetime(2018, 8, 17, 0, 0), datetime.datetime(2018, 8, 27, 0, 0), datetime.datetime(2018, 9, 4, 0, 0), datetime.datetime(2018, 9, 18, 0, 0), datetime.datetime(2018, 11, 1, 0, 0), datetime.datetime(2018, 11, 13, 0, 0), datetime.datetime(2018, 11, 15, 0, 0), datetime.datetime(2018, 11, 20, 0, 0), datetime.datetime(2018, 12, 31, 0, 0), datetime.datetime(2019, 1, 9, 0, 0), datetime.datetime(2019, 1, 9, 0, 0), datetime.datetime(2019, 1, 30, 0, 0), datetime.datetime(2019, 1, 30, 0, 0), datetime.datetime(2019, 4, 1, 0, 0), datetime.datetime(2019, 6, 3, 0, 0), datetime.datetime(2019, 6, 12, 0, 0), datetime.datetime(2019, 7, 24, 0, 0), datetime.datetime(2019, 7, 26, 0, 0), datetime.datetime(2019, 7, 26, 0, 0), datetime.datetime(2019, 8, 8, 0, 0), datetime.datetime(2019, 8, 21, 0, 0), datetime.datetime(2019, 8, 23, 0, 0), datetime.datetime(2019, 10, 15, 0, 0), datetime.datetime(2020, 1, 7, 0, 0), datetime.datetime(2020, 1, 10, 0, 0), datetime.datetime(2020, 1, 24, 0, 0), datetime.datetime(2020, 1, 30, 0, 0), datetime.datetime(2020, 1, 30, 0, 0), datetime.datetime(2020, 1, 31, 0, 0), datetime.datetime(2020, 1, 31, 0, 0), datetime.datetime(2020, 2, 7, 0, 0), datetime.datetime(2020, 2, 26, 0, 0), datetime.datetime(2020, 2, 28, 0, 0), datetime.datetime(2020, 3, 10, 0, 0), datetime.datetime(2020, 4, 10, 0, 0), datetime.datetime(2020, 4, 13, 0, 0), datetime.datetime(2020, 4, 15, 0, 0), datetime.datetime(2020, 4, 24, 0, 0), datetime.datetime(2020, 4, 27, 0, 0), datetime.datetime(2020, 4, 29, 0, 0), datetime.datetime(2020, 4, 29, 0, 0), datetime.datetime(2020, 5, 4, 0, 0), datetime.datetime(2020, 5, 13, 0, 0), datetime.datetime(2020, 5, 14, 0, 0), datetime.datetime(2020, 5, 15, 0, 0), datetime.datetime(2020, 5, 20, 0, 0), datetime.datetime(2020, 5, 21, 0, 0), datetime.datetime(2020, 5, 21, 0, 0), datetime.datetime(2020, 6, 5, 0, 0), datetime.datetime(2020, 6, 8, 0, 0), datetime.datetime(2020, 6, 15, 0, 0), datetime.datetime(2020, 6, 16, 0, 0), datetime.datetime(2020, 6, 25, 0, 0), datetime.datetime(2020, 6, 26, 0, 0), datetime.datetime(2020, 6, 26, 0, 0), datetime.datetime(2020, 6, 26, 0, 0), datetime.datetime(2020, 6, 26, 0, 0), datetime.datetime(2020, 6, 26, 0, 0), datetime.datetime(2020, 6, 26, 0, 0), datetime.datetime(2020, 7, 1, 0, 0), datetime.datetime(2020, 7, 7, 0, 0), datetime.datetime(2020, 7, 10, 0, 0), datetime.datetime(2020, 7, 10, 0, 0), datetime.datetime(2020, 7, 17, 0, 0), datetime.datetime(2020, 7, 23, 0, 0), datetime.datetime(2020, 7, 24, 0, 0), datetime.datetime(2020, 7, 24, 0, 0), datetime.datetime(2020, 7, 30, 0, 0), datetime.datetime(2020, 7, 31, 0, 0), datetime.datetime(2020, 7, 31, 0, 0), datetime.datetime(2020, 7, 31, 0, 0), datetime.datetime(2020, 8, 3, 0, 0), datetime.datetime(2020, 8, 10, 0, 0), datetime.datetime(2020, 8, 19, 0, 0), datetime.datetime(2020, 8, 21, 0, 0), datetime.datetime(2020, 8, 26, 0, 0), datetime.datetime(2020, 8, 27, 0, 0), datetime.datetime(2020, 8, 27, 0, 0), datetime.datetime(2020, 8, 28, 0, 0), datetime.datetime(2020, 8, 28, 0, 0), datetime.datetime(2020, 9, 3, 0, 0), datetime.datetime(2020, 9, 3, 0, 0), datetime.datetime(2020, 9, 4, 0, 0), datetime.datetime(2020, 9, 9, 0, 0), datetime.datetime(2020, 9, 10, 0, 0), datetime.datetime(2020, 9, 17, 0, 0), datetime.datetime(2020, 9, 18, 0, 0), datetime.datetime(2020, 9, 18, 0, 0), datetime.datetime(2020, 9, 22, 0, 0), datetime.datetime(2020, 9, 23, 0, 0), datetime.datetime(2020, 9, 23, 0, 0), datetime.datetime(2020, 9, 25, 0, 0), datetime.datetime(2020, 9, 25, 0, 0), datetime.datetime(2020, 9, 25, 0, 0), datetime.datetime(2020, 9, 28, 0, 0), datetime.datetime(2020, 9, 29, 0, 0), datetime.datetime(2020, 10, 1, 0, 0), datetime.datetime(2020, 10, 5, 0, 0), datetime.datetime(2020, 10, 7, 0, 0), datetime.datetime(2020, 10, 7, 0, 0), datetime.datetime(2020, 10, 12, 0, 0), datetime.datetime(2020, 10, 16, 0, 0), datetime.datetime(2020, 10, 21, 0, 0), datetime.datetime(2020, 10, 22, 0, 0), datetime.datetime(2020, 10, 22, 0, 0), datetime.datetime(2020, 10, 23, 0, 0), datetime.datetime(2020, 10, 23, 0, 0), datetime.datetime(2020, 10, 27, 0, 0), datetime.datetime(2020, 10, 28, 0, 0), datetime.datetime(2020, 10, 28, 0, 0), datetime.datetime(2020, 10, 28, 0, 0), datetime.datetime(2020, 10, 29, 0, 0), datetime.datetime(2020, 10, 30, 0, 0), datetime.datetime(2020, 10, 30, 0, 0), datetime.datetime(2020, 11, 5, 0, 0), datetime.datetime(2020, 11, 6, 0, 0), datetime.datetime(2020, 11, 13, 0, 0), datetime.datetime(2020, 11, 13, 0, 0), datetime.datetime(2020, 11, 17, 0, 0), datetime.datetime(2020, 11, 17, 0, 0), datetime.datetime(2020, 11, 19, 0, 0), datetime.datetime(2020, 11, 20, 0, 0), datetime.datetime(2020, 11, 25, 0, 0), datetime.datetime(2020, 11, 26, 0, 0), datetime.datetime(2020, 11, 27, 0, 0), datetime.datetime(2020, 11, 27, 0, 0), datetime.datetime(2020, 11, 27, 0, 0), datetime.datetime(2020, 11, 27, 0, 0), datetime.datetime(2020, 12, 4, 0, 0), datetime.datetime(2020, 12, 7, 0, 0), datetime.datetime(2020, 12, 8, 0, 0), datetime.datetime(2020, 12, 9, 0, 0), datetime.datetime(2020, 12, 10, 0, 0), datetime.datetime(2020, 12, 10, 0, 0), datetime.datetime(2020, 12, 16, 0, 0), datetime.datetime(2020, 12, 21, 0, 0), datetime.datetime(2020, 12, 21, 0, 0), datetime.datetime(2020, 12, 21, 0, 0), datetime.datetime(2020, 12, 21, 0, 0), datetime.datetime(2020, 12, 22, 0, 0), datetime.datetime(2020, 12, 22, 0, 0), datetime.datetime(2020, 12, 23, 0, 0), datetime.datetime(2020, 12, 24, 0, 0), datetime.datetime(2020, 12, 25, 0, 0), datetime.datetime(2020, 12, 25, 0, 0), datetime.datetime(2020, 12, 25, 0, 0), datetime.datetime(2020, 12, 29, 0, 0), datetime.datetime(2020, 12, 29, 0, 0), datetime.datetime(2020, 12, 30, 0, 0), datetime.datetime(2021, 1, 1, 0, 0), datetime.datetime(2021, 1, 1, 0, 0), datetime.datetime(2021, 1, 6, 0, 0), datetime.datetime(2021, 1, 7, 0, 0), datetime.datetime(2021, 1, 8, 0, 0), datetime.datetime(2021, 1, 8, 0, 0), datetime.datetime(2021, 1, 8, 0, 0), datetime.datetime(2021, 1, 8, 0, 0), datetime.datetime(2021, 1, 8, 0, 0), datetime.datetime(2021, 1, 8, 0, 0), datetime.datetime(2021, 1, 8, 0, 0), datetime.datetime(2021, 1, 12, 0, 0), datetime.datetime(2021, 1, 12, 0, 0), datetime.datetime(2021, 1, 12, 0, 0), datetime.datetime(2021, 1, 13, 0, 0), datetime.datetime(2021, 1, 13, 0, 0), datetime.datetime(2021, 1, 14, 0, 0), datetime.datetime(2021, 1, 15, 0, 0), datetime.datetime(2021, 1, 15, 0, 0), datetime.datetime(2021, 1, 15, 0, 0), datetime.datetime(2021, 1, 15, 0, 0), datetime.datetime(2021, 1, 15, 0, 0), datetime.datetime(2021, 1, 18, 0, 0), datetime.datetime(2021, 1, 18, 0, 0), datetime.datetime(2021, 1, 19, 0, 0), datetime.datetime(2021, 1, 19, 0, 0), datetime.datetime(2021, 1, 20, 0, 0), datetime.datetime(2021, 1, 22, 0, 0), datetime.datetime(2021, 1, 22, 0, 0), datetime.datetime(2021, 1, 22, 0, 0), datetime.datetime(2021, 1, 25, 0, 0), datetime.datetime(2021, 1, 27, 0, 0), datetime.datetime(2021, 1, 29, 0, 0), datetime.datetime(2021, 1, 29, 0, 0), datetime.datetime(2021, 1, 29, 0, 0), datetime.datetime(2021, 2, 2, 0, 0), datetime.datetime(2021, 2, 2, 0, 0), datetime.datetime(2021, 2, 3, 0, 0), datetime.datetime(2021, 2, 4, 0, 0), datetime.datetime(2021, 2, 4, 0, 0), datetime.datetime(2021, 2, 5, 0, 0), datetime.datetime(2021, 2, 8, 0, 0), datetime.datetime(2021, 2, 9, 0, 0), datetime.datetime(2021, 2, 10, 0, 0), datetime.datetime(2021, 2, 11, 0, 0), datetime.datetime(2021, 2, 11, 0, 0), datetime.datetime(2021, 2, 12, 0, 0), datetime.datetime(2021, 2, 12, 0, 0), datetime.datetime(2021, 2, 12, 0, 0), datetime.datetime(2021, 2, 15, 0, 0), datetime.datetime(2021, 2, 16, 0, 0), datetime.datetime(2021, 2, 19, 0, 0), datetime.datetime(2021, 2, 22, 0, 0), datetime.datetime(2021, 2, 22, 0, 0), datetime.datetime(2021, 2, 22, 0, 0), datetime.datetime(2021, 2, 22, 0, 0), datetime.datetime(2021, 2, 23, 0, 0), datetime.datetime(2021, 2, 25, 0, 0), datetime.datetime(2021, 2, 25, 0, 0), datetime.datetime(2021, 2, 26, 0, 0), datetime.datetime(2021, 2, 26, 0, 0), datetime.datetime(2021, 2, 26, 0, 0), datetime.datetime(2021, 2, 26, 0, 0), datetime.datetime(2021, 2, 26, 0, 0), datetime.datetime(2021, 2, 26, 0, 0), datetime.datetime(2021, 3, 1, 0, 0), datetime.datetime(2021, 3, 1, 0, 0), datetime.datetime(2021, 3, 5, 0, 0), datetime.datetime(2021, 3, 5, 0, 0), datetime.datetime(2021, 3, 8, 0, 0), datetime.datetime(2021, 3, 10, 0, 0), datetime.datetime(2021, 3, 11, 0, 0), datetime.datetime(2021, 3, 11, 0, 0), datetime.datetime(2021, 3, 12, 0, 0), datetime.datetime(2021, 3, 12, 0, 0), datetime.datetime(2021, 3, 15, 0, 0)]\n",
            "241\n"
          ],
          "name": "stdout"
        }
      ]
    },
    {
      "cell_type": "code",
      "metadata": {
        "colab": {
          "base_uri": "https://localhost:8080/"
        },
        "id": "pvfsR30wf_Z6",
        "outputId": "f5c3cb27-954c-46be-8e66-76d5f10f68b0"
      },
      "source": [
        "!pip install yfinance"
      ],
      "execution_count": null,
      "outputs": [
        {
          "output_type": "stream",
          "text": [
            "Requirement already satisfied: yfinance in /usr/local/lib/python3.7/dist-packages (0.1.55)\n",
            "Requirement already satisfied: multitasking>=0.0.7 in /usr/local/lib/python3.7/dist-packages (from yfinance) (0.0.9)\n",
            "Requirement already satisfied: requests>=2.20 in /usr/local/lib/python3.7/dist-packages (from yfinance) (2.23.0)\n",
            "Requirement already satisfied: lxml>=4.5.1 in /usr/local/lib/python3.7/dist-packages (from yfinance) (4.6.3)\n",
            "Requirement already satisfied: pandas>=0.24 in /usr/local/lib/python3.7/dist-packages (from yfinance) (1.1.5)\n",
            "Requirement already satisfied: numpy>=1.15 in /usr/local/lib/python3.7/dist-packages (from yfinance) (1.19.5)\n",
            "Requirement already satisfied: certifi>=2017.4.17 in /usr/local/lib/python3.7/dist-packages (from requests>=2.20->yfinance) (2020.12.5)\n",
            "Requirement already satisfied: idna<3,>=2.5 in /usr/local/lib/python3.7/dist-packages (from requests>=2.20->yfinance) (2.10)\n",
            "Requirement already satisfied: urllib3!=1.25.0,!=1.25.1,<1.26,>=1.21.1 in /usr/local/lib/python3.7/dist-packages (from requests>=2.20->yfinance) (1.24.3)\n",
            "Requirement already satisfied: chardet<4,>=3.0.2 in /usr/local/lib/python3.7/dist-packages (from requests>=2.20->yfinance) (3.0.4)\n",
            "Requirement already satisfied: python-dateutil>=2.7.3 in /usr/local/lib/python3.7/dist-packages (from pandas>=0.24->yfinance) (2.8.1)\n",
            "Requirement already satisfied: pytz>=2017.2 in /usr/local/lib/python3.7/dist-packages (from pandas>=0.24->yfinance) (2018.9)\n",
            "Requirement already satisfied: six>=1.5 in /usr/local/lib/python3.7/dist-packages (from python-dateutil>=2.7.3->pandas>=0.24->yfinance) (1.15.0)\n"
          ],
          "name": "stdout"
        }
      ]
    },
    {
      "cell_type": "markdown",
      "metadata": {
        "id": "GUFP6M-jKwtU"
      },
      "source": [
        "## Reading the Stock prices Data using yfinance library:"
      ]
    },
    {
      "cell_type": "code",
      "metadata": {
        "id": "WlVjhqu2gCHB"
      },
      "source": [
        "import warnings\n",
        "warnings.filterwarnings('ignore')\n",
        "\n",
        "import yfinance as yf\n",
        "import pandas as pd\n",
        "import numpy as np"
      ],
      "execution_count": null,
      "outputs": []
    },
    {
      "cell_type": "code",
      "metadata": {
        "colab": {
          "base_uri": "https://localhost:8080/",
          "height": 235
        },
        "id": "L_sIGcKFKwtV",
        "outputId": "8e7e460e-7130-4f73-cc26-972ce04c5234"
      },
      "source": [
        "googl = yf.Ticker('FB')\n",
        "googl_df = googl.history(period='max')\n",
        "\n",
        "googl_df.head()"
      ],
      "execution_count": null,
      "outputs": [
        {
          "output_type": "execute_result",
          "data": {
            "text/html": [
              "<div>\n",
              "<style scoped>\n",
              "    .dataframe tbody tr th:only-of-type {\n",
              "        vertical-align: middle;\n",
              "    }\n",
              "\n",
              "    .dataframe tbody tr th {\n",
              "        vertical-align: top;\n",
              "    }\n",
              "\n",
              "    .dataframe thead th {\n",
              "        text-align: right;\n",
              "    }\n",
              "</style>\n",
              "<table border=\"1\" class=\"dataframe\">\n",
              "  <thead>\n",
              "    <tr style=\"text-align: right;\">\n",
              "      <th></th>\n",
              "      <th>Open</th>\n",
              "      <th>High</th>\n",
              "      <th>Low</th>\n",
              "      <th>Close</th>\n",
              "      <th>Volume</th>\n",
              "      <th>Dividends</th>\n",
              "      <th>Stock Splits</th>\n",
              "    </tr>\n",
              "    <tr>\n",
              "      <th>Date</th>\n",
              "      <th></th>\n",
              "      <th></th>\n",
              "      <th></th>\n",
              "      <th></th>\n",
              "      <th></th>\n",
              "      <th></th>\n",
              "      <th></th>\n",
              "    </tr>\n",
              "  </thead>\n",
              "  <tbody>\n",
              "    <tr>\n",
              "      <th>2012-05-18</th>\n",
              "      <td>42.049999</td>\n",
              "      <td>45.000000</td>\n",
              "      <td>38.000000</td>\n",
              "      <td>38.230000</td>\n",
              "      <td>573576400</td>\n",
              "      <td>0</td>\n",
              "      <td>0</td>\n",
              "    </tr>\n",
              "    <tr>\n",
              "      <th>2012-05-21</th>\n",
              "      <td>36.529999</td>\n",
              "      <td>36.660000</td>\n",
              "      <td>33.000000</td>\n",
              "      <td>34.029999</td>\n",
              "      <td>168192700</td>\n",
              "      <td>0</td>\n",
              "      <td>0</td>\n",
              "    </tr>\n",
              "    <tr>\n",
              "      <th>2012-05-22</th>\n",
              "      <td>32.610001</td>\n",
              "      <td>33.590000</td>\n",
              "      <td>30.940001</td>\n",
              "      <td>31.000000</td>\n",
              "      <td>101786600</td>\n",
              "      <td>0</td>\n",
              "      <td>0</td>\n",
              "    </tr>\n",
              "    <tr>\n",
              "      <th>2012-05-23</th>\n",
              "      <td>31.370001</td>\n",
              "      <td>32.500000</td>\n",
              "      <td>31.360001</td>\n",
              "      <td>32.000000</td>\n",
              "      <td>73600000</td>\n",
              "      <td>0</td>\n",
              "      <td>0</td>\n",
              "    </tr>\n",
              "    <tr>\n",
              "      <th>2012-05-24</th>\n",
              "      <td>32.950001</td>\n",
              "      <td>33.209999</td>\n",
              "      <td>31.770000</td>\n",
              "      <td>33.029999</td>\n",
              "      <td>50237200</td>\n",
              "      <td>0</td>\n",
              "      <td>0</td>\n",
              "    </tr>\n",
              "  </tbody>\n",
              "</table>\n",
              "</div>"
            ],
            "text/plain": [
              "                 Open       High        Low  ...     Volume  Dividends  Stock Splits\n",
              "Date                                         ...                                    \n",
              "2012-05-18  42.049999  45.000000  38.000000  ...  573576400          0             0\n",
              "2012-05-21  36.529999  36.660000  33.000000  ...  168192700          0             0\n",
              "2012-05-22  32.610001  33.590000  30.940001  ...  101786600          0             0\n",
              "2012-05-23  31.370001  32.500000  31.360001  ...   73600000          0             0\n",
              "2012-05-24  32.950001  33.209999  31.770000  ...   50237200          0             0\n",
              "\n",
              "[5 rows x 7 columns]"
            ]
          },
          "metadata": {
            "tags": []
          },
          "execution_count": 92
        }
      ]
    },
    {
      "cell_type": "code",
      "metadata": {
        "colab": {
          "base_uri": "https://localhost:8080/"
        },
        "id": "UvFKQyLPKwtV",
        "outputId": "f389a272-7887-4906-b54b-98cf4fe6eea6"
      },
      "source": [
        "googl_df.info()"
      ],
      "execution_count": null,
      "outputs": [
        {
          "output_type": "stream",
          "text": [
            "<class 'pandas.core.frame.DataFrame'>\n",
            "DatetimeIndex: 2224 entries, 2012-05-18 to 2021-03-22\n",
            "Data columns (total 7 columns):\n",
            " #   Column        Non-Null Count  Dtype  \n",
            "---  ------        --------------  -----  \n",
            " 0   Open          2224 non-null   float64\n",
            " 1   High          2224 non-null   float64\n",
            " 2   Low           2224 non-null   float64\n",
            " 3   Close         2224 non-null   float64\n",
            " 4   Volume        2224 non-null   int64  \n",
            " 5   Dividends     2224 non-null   int64  \n",
            " 6   Stock Splits  2224 non-null   int64  \n",
            "dtypes: float64(4), int64(3)\n",
            "memory usage: 139.0 KB\n"
          ],
          "name": "stdout"
        }
      ]
    },
    {
      "cell_type": "code",
      "metadata": {
        "colab": {
          "base_uri": "https://localhost:8080/"
        },
        "id": "6C6GnJnOKwtW",
        "outputId": "f33524be-ffca-45f3-cc42-68393cd3dcf8"
      },
      "source": [
        "print(num_posts)\n",
        "print(len(num_posts))\n",
        "print(scores_)\n",
        "print(len(scores_))\n",
        "print(dates_)\n",
        "print(len(dates_))\n"
      ],
      "execution_count": null,
      "outputs": [
        {
          "output_type": "stream",
          "text": [
            "[1, 0, 0, 0, 0, 0, 0, 0, 0, 0, 0, 0, 0, 0, 0, 0, 0, 0, 0, 0, 0, 0, 0, 0, 1, 0, 0, 0, 0, 0, 0, 0, 0, 0, 0, 0, 0, 0, 0, 0, 0, 0, 0, 1, 0, 0, 0, 0, 1, 1, 0, 0, 1, 0, 0, 0, 0, 0, 0, 0, 0, 1, 0, 0, 0, 0, 0, 0, 0, 0, 0, 0, 0, 0, 1, 0, 0, 0, 0, 0, 0, 0, 0, 0, 0, 0, 0, 1, 0, 0, 0, 0, 0, 0, 0, 0, 0, 0, 0, 0, 0, 0, 0, 0, 0, 0, 0, 0, 0, 0, 0, 0, 0, 0, 0, 0, 0, 0, 0, 0, 0, 0, 0, 0, 0, 0, 0, 0, 0, 0, 0, 1, 0, 0, 0, 2, 0, 2, 1, 0, 0, 0, 1, 0, 0, 0, 0, 0, 0, 0, 0, 0, 1, 0, 0, 0, 0, 0, 1, 0, 0, 0, 0, 0, 1, 0, 0, 0, 0, 0, 0, 0, 0, 0, 1, 0, 0, 0, 0, 0, 0, 0, 0, 0, 0, 0, 0, 0, 0, 0, 0, 0, 0, 0, 0, 0, 0, 0, 0, 0, 0, 0, 0, 0, 0, 0, 1, 0, 0, 0, 0, 0, 0, 0, 1, 0, 1, 0, 0, 1, 0, 0, 0, 0, 0, 0, 0, 0, 0, 0, 0, 0, 0, 0, 0, 0, 0, 0, 0, 0, 0, 0, 0, 0, 0, 0, 0, 0, 1, 0, 0, 0, 0, 0, 0, 2, 0, 0, 0, 0, 0, 0, 0, 0, 0, 0, 0, 0, 0, 0, 2, 0, 0, 0, 0, 0, 0, 0, 0, 0, 0, 0, 0, 0, 0, 0, 0, 0, 0, 0, 0, 0, 0, 0, 0, 0, 0, 0, 0, 0, 0, 0, 0, 0, 0, 0, 0, 0, 0, 0, 0, 0, 0, 1, 0, 0, 0, 0, 0, 0, 0, 0, 0, 0, 0, 0, 0, 0, 0, 0, 0, 0, 0, 0, 0, 0, 0, 0, 0, 0, 0, 0, 0, 0, 0, 0, 0, 0, 0, 0, 0, 0, 0, 0, 0, 0, 0, 0, 1, 0, 0, 0, 0, 0, 0, 1, 0, 0, 0, 0, 0, 0, 0, 0, 0, 0, 0, 0, 0, 0, 0, 0, 0, 0, 0, 0, 0, 0, 0, 0, 0, 0, 0, 0, 0, 1, 0, 2, 0, 0, 0, 0, 0, 0, 0, 0, 1, 0, 0, 0, 0, 0, 0, 0, 0, 1, 0, 1, 0, 0, 0, 0, 0, 0, 0, 0, 0, 0, 0, 0, 0, 0, 0, 0, 0, 0, 0, 0, 0, 0, 0, 0, 0, 0, 0, 0, 0, 0, 0, 0, 0, 0, 0, 0, 1, 0, 0, 0, 0, 0, 0, 0, 0, 0, 0, 0, 0, 0, 0, 0, 0, 0, 0, 0, 0, 0, 0, 0, 0, 0, 0, 0, 0, 0, 0, 0, 0, 0, 0, 0, 0, 0, 0, 0, 0, 0, 0, 0, 0, 0, 0, 0, 0, 0, 0, 0, 0, 0, 0, 0, 0, 0, 0, 0, 1, 0, 0, 1, 0, 0, 0, 0, 0, 0, 0, 0, 0, 1, 0, 0, 0, 2, 2, 0, 0, 0, 0, 1, 0, 0, 0, 0, 0, 0, 0, 0, 0, 0, 0, 0, 1, 0, 1, 0, 0, 0, 0, 0, 0, 1, 0, 0, 0, 0, 0, 0, 0, 0, 0, 0, 0, 0, 0, 0, 0, 0, 0, 0, 0, 0, 0, 0, 1, 1, 0, 1, 0, 0, 0, 0, 0, 0, 1, 1, 0, 2, 0, 0, 1, 0, 0, 0, 0, 0, 0, 1, 1, 1, 0, 0, 1, 2, 0, 0, 0, 0, 0, 0, 0, 0, 0, 0, 1, 1, 0, 0, 0, 0, 1, 1, 0, 0, 0, 0, 0, 0, 1, 6, 0, 0, 1, 0, 0, 0, 1, 0, 0, 2, 0, 0, 0, 0, 1, 0, 0, 0, 1, 2, 0, 0, 0, 1, 3, 1, 0, 0, 0, 0, 1, 0, 0, 0, 0, 0, 0, 1, 0, 1, 0, 0, 1, 2, 2, 0, 0, 0, 2, 1, 0, 0, 1, 1, 0, 0, 0, 0, 1, 2, 0, 1, 2, 0, 3, 1, 1, 0, 1, 0, 1, 0, 2, 0, 0, 1, 0, 0, 0, 1, 0, 0, 1, 2, 2, 0, 1, 3, 1, 2, 0, 0, 0, 1, 1, 0, 0, 0, 0, 2, 0, 2, 0, 1, 1, 0, 0, 1, 1, 4, 0, 0, 0, 0, 1, 1, 1, 1, 2, 0, 0, 0, 1, 0, 0, 4, 2, 1, 1, 3, 0, 2, 1, 0, 2, 0, 0, 1, 1, 7, 0, 3, 2, 1, 5, 2, 2, 1, 0, 3, 1, 0, 1, 0, 3, 0, 2, 1, 2, 1, 1, 1, 1, 2, 3, 1, 1, 0, 0, 1, 4, 1, 0, 2, 6, 2, 0, 0, 0, 2, 1, 0, 1, 2, 2, 1]\n",
            "824\n",
            "[0.0, 0, 0, 0, 0, 0, 0, 0, 0, 0, 0, 0, 0, 0, 0, 0, 0, 0, 0, 0, 0, 0, 0, 0, 0.0, 0, 0, 0, 0, 0, 0, 0, 0, 0, 0, 0, 0, 0, 0, 0, 0, 0, 0, 0.0, 0, 0, 0, 0, -0.3182, 0.0, 0, 0, 0.3612, 0, 0, 0, 0, 0, 0, 0, 0, 0.0, 0, 0, 0, 0, 0, 0, 0, 0, 0, 0, 0, 0, 0.0, 0, 0, 0, 0, 0, 0, 0, 0, 0, 0, 0, 0, 0.0, 0, 0, 0, 0, 0, 0, 0, 0, 0, 0, 0, 0, 0, 0, 0, 0, 0, 0, 0, 0, 0, 0, 0, 0, 0, 0, 0, 0, 0, 0, 0, 0, 0, 0, 0, 0, 0, 0, 0, 0, 0, 0, 0, 0.3818, 0, 0, 0, 0.2732, 0, 0.0, 0.6369, 0, 0, 0, 0.0, 0, 0, 0, 0, 0, 0, 0, 0, 0, 0.0, 0, 0, 0, 0, 0, 0.0, 0, 0, 0, 0, 0, -0.5719, 0, 0, 0, 0, 0, 0, 0, 0, 0, 0.5693, 0, 0, 0, 0, 0, 0, 0, 0, 0, 0, 0, 0, 0, 0, 0, 0, 0, 0, 0, 0, 0, 0, 0, 0, 0, 0, 0, 0, 0, 0, 0, 0.6418, 0, 0, 0, 0, 0, 0, 0, -0.3612, 0, 0.0, 0, 0, 0.6523, 0, 0, 0, 0, 0, 0, 0, 0, 0, 0, 0, 0, 0, 0, 0, 0, 0, 0, 0, 0, 0, 0, 0, 0, 0, 0, 0, 0, 0.0772, 0, 0, 0, 0, 0, 0, 0.0, 0, 0, 0, 0, 0, 0, 0, 0, 0, 0, 0, 0, 0, 0, 0.0, 0, 0, 0, 0, 0, 0, 0, 0, 0, 0, 0, 0, 0, 0, 0, 0, 0, 0, 0, 0, 0, 0, 0, 0, 0, 0, 0, 0, 0, 0, 0, 0, 0, 0, 0, 0, 0, 0, 0, 0, 0, 0, 0.0, 0, 0, 0, 0, 0, 0, 0, 0, 0, 0, 0, 0, 0, 0, 0, 0, 0, 0, 0, 0, 0, 0, 0, 0, 0, 0, 0, 0, 0, 0, 0, 0, 0, 0, 0, 0, 0, 0, 0, 0, 0, 0, 0, 0, 0.0, 0, 0, 0, 0, 0, 0, 0.0, 0, 0, 0, 0, 0, 0, 0, 0, 0, 0, 0, 0, 0, 0, 0, 0, 0, 0, 0, 0, 0, 0, 0, 0, 0, 0, 0, 0, 0, 0.0, 0, 0.1779, 0, 0, 0, 0, 0, 0, 0, 0, 0.25, 0, 0, 0, 0, 0, 0, 0, 0, 0.0, 0, 0.0, 0, 0, 0, 0, 0, 0, 0, 0, 0, 0, 0, 0, 0, 0, 0, 0, 0, 0, 0, 0, 0, 0, 0, 0, 0, 0, 0, 0, 0, 0, 0, 0, 0, 0, 0, 0, 0.0, 0, 0, 0, 0, 0, 0, 0, 0, 0, 0, 0, 0, 0, 0, 0, 0, 0, 0, 0, 0, 0, 0, 0, 0, 0, 0, 0, 0, 0, 0, 0, 0, 0, 0, 0, 0, 0, 0, 0, 0, 0, 0, 0, 0, 0, 0, 0, 0, 0, 0, 0, 0, 0, 0, 0, 0, 0, 0, 0, 0.0, 0, 0, 0.0, 0, 0, 0, 0, 0, 0, 0, 0, 0, 0.0, 0, 0, 0, 0.0, 0.0, 0, 0, 0, 0, 0.0, 0, 0, 0, 0, 0, 0, 0, 0, 0, 0, 0, 0, -0.0258, 0, 0.0, 0, 0, 0, 0, 0, 0, 0.4767, 0, 0, 0, 0, 0, 0, 0, 0, 0, 0, 0, 0, 0, 0, 0, 0, 0, 0, 0, 0, 0, 0, 0.5574, 0.0, 0, 0.34, 0, 0, 0, 0, 0, 0, 0.0, 0.0, 0, 0.0, 0, 0, 0.0, 0, 0, 0, 0, 0, 0, 0.0, 0.0, 0.0, 0, 0, 0.0, 0.0, 0, 0, 0, 0, 0, 0, 0, 0, 0, 0, 0.4364, 0.6369, 0, 0, 0, 0, 0.0, 0.0, 0, 0, 0, 0, 0, 0, 0.0, 0.0, 0, 0, 0.0, 0, 0, 0, -0.296, 0, 0, 0.4404, 0, 0, 0, 0, 0.3818, 0, 0, 0, -0.5228, 0.1779, 0, 0, 0, 0.0, 0.0, 0.0, 0, 0, 0, 0, 0.0, 0, 0, 0, 0, 0, 0, 0.1779, 0, 0.5106, 0, 0, 0.0, -0.5106, 0.0, 0, 0, 0, 0.3612, 0.0, 0, 0, 0.6996, -0.4215, 0, 0, 0, 0, 0.0, 0.0, 0, 0.0, 0.3818, 0, 0.0, 0.296, 0.0, 0, 0.0, 0, 0.0, 0, -0.2732, 0, 0, 0.8201, 0, 0, 0, 0.0, 0, 0, 0.0, 0.0, 0.0, 0, 0.0, -0.4019, 0.0, 0.0, 0, 0, 0, 0.0772, 0.0, 0, 0, 0, 0, 0.0, 0, 0.0, 0, 0.0, 0.25, 0, 0, 0.5267, 0.296, 0.0, 0, 0, 0, 0, 0.0, -0.5267, 0.5574, -0.4215, 0.2263, 0, 0, 0, 0.4588, 0, 0, 0.0, 0.0, 0.0, 0.0, 0.0, 0, 0.0, 0.0, 0, 0.0, 0, 0, 0.0, 0.0, 0.0, 0, -0.6705, 0.0, 0.0, 0.0, 0.2023, 0.0, 0.0, 0, 0.0, 0.0, 0, 0.0772, 0, 0.3818, 0, 0.0, 0.6249, 0.6597, 0.0, -0.4404, 0.0, 0.0, 0.0, 0.0, 0.0, 0.0, 0, 0, 0.0, 0.296, 0.0, 0, 0.0, 0.25, 0.0, 0, 0, 0, 0.4019, 0.0, 0, 0.0, 0.0, -0.5423, 0.0]\n",
            "824\n",
            "[datetime.datetime(2018, 1, 17, 0, 0), datetime.datetime(2018, 1, 18, 0, 0), datetime.datetime(2018, 1, 19, 0, 0), datetime.datetime(2018, 1, 22, 0, 0), datetime.datetime(2018, 1, 23, 0, 0), datetime.datetime(2018, 1, 24, 0, 0), datetime.datetime(2018, 1, 25, 0, 0), datetime.datetime(2018, 1, 26, 0, 0), datetime.datetime(2018, 1, 29, 0, 0), datetime.datetime(2018, 1, 30, 0, 0), datetime.datetime(2018, 1, 31, 0, 0), datetime.datetime(2018, 2, 1, 0, 0), datetime.datetime(2018, 2, 2, 0, 0), datetime.datetime(2018, 2, 5, 0, 0), datetime.datetime(2018, 2, 6, 0, 0), datetime.datetime(2018, 2, 7, 0, 0), datetime.datetime(2018, 2, 8, 0, 0), datetime.datetime(2018, 2, 9, 0, 0), datetime.datetime(2018, 2, 12, 0, 0), datetime.datetime(2018, 2, 13, 0, 0), datetime.datetime(2018, 2, 14, 0, 0), datetime.datetime(2018, 2, 15, 0, 0), datetime.datetime(2018, 2, 16, 0, 0), datetime.datetime(2018, 2, 19, 0, 0), datetime.datetime(2018, 2, 20, 0, 0), datetime.datetime(2018, 2, 21, 0, 0), datetime.datetime(2018, 2, 22, 0, 0), datetime.datetime(2018, 2, 23, 0, 0), datetime.datetime(2018, 2, 26, 0, 0), datetime.datetime(2018, 2, 27, 0, 0), datetime.datetime(2018, 2, 28, 0, 0), datetime.datetime(2018, 3, 1, 0, 0), datetime.datetime(2018, 3, 2, 0, 0), datetime.datetime(2018, 3, 5, 0, 0), datetime.datetime(2018, 3, 6, 0, 0), datetime.datetime(2018, 3, 7, 0, 0), datetime.datetime(2018, 3, 8, 0, 0), datetime.datetime(2018, 3, 9, 0, 0), datetime.datetime(2018, 3, 12, 0, 0), datetime.datetime(2018, 3, 13, 0, 0), datetime.datetime(2018, 3, 14, 0, 0), datetime.datetime(2018, 3, 15, 0, 0), datetime.datetime(2018, 3, 16, 0, 0), datetime.datetime(2018, 3, 19, 0, 0), datetime.datetime(2018, 3, 20, 0, 0), datetime.datetime(2018, 3, 21, 0, 0), datetime.datetime(2018, 3, 22, 0, 0), datetime.datetime(2018, 3, 23, 0, 0), datetime.datetime(2018, 3, 26, 0, 0), datetime.datetime(2018, 3, 27, 0, 0), datetime.datetime(2018, 3, 28, 0, 0), datetime.datetime(2018, 3, 29, 0, 0), datetime.datetime(2018, 3, 30, 0, 0), datetime.datetime(2018, 4, 2, 0, 0), datetime.datetime(2018, 4, 3, 0, 0), datetime.datetime(2018, 4, 4, 0, 0), datetime.datetime(2018, 4, 5, 0, 0), datetime.datetime(2018, 4, 6, 0, 0), datetime.datetime(2018, 4, 9, 0, 0), datetime.datetime(2018, 4, 10, 0, 0), datetime.datetime(2018, 4, 11, 0, 0), datetime.datetime(2018, 4, 12, 0, 0), datetime.datetime(2018, 4, 13, 0, 0), datetime.datetime(2018, 4, 16, 0, 0), datetime.datetime(2018, 4, 17, 0, 0), datetime.datetime(2018, 4, 18, 0, 0), datetime.datetime(2018, 4, 19, 0, 0), datetime.datetime(2018, 4, 20, 0, 0), datetime.datetime(2018, 4, 23, 0, 0), datetime.datetime(2018, 4, 24, 0, 0), datetime.datetime(2018, 4, 25, 0, 0), datetime.datetime(2018, 4, 26, 0, 0), datetime.datetime(2018, 4, 27, 0, 0), datetime.datetime(2018, 4, 30, 0, 0), datetime.datetime(2018, 5, 1, 0, 0), datetime.datetime(2018, 5, 2, 0, 0), datetime.datetime(2018, 5, 3, 0, 0), datetime.datetime(2018, 5, 4, 0, 0), datetime.datetime(2018, 5, 7, 0, 0), datetime.datetime(2018, 5, 8, 0, 0), datetime.datetime(2018, 5, 9, 0, 0), datetime.datetime(2018, 5, 10, 0, 0), datetime.datetime(2018, 5, 11, 0, 0), datetime.datetime(2018, 5, 14, 0, 0), datetime.datetime(2018, 5, 15, 0, 0), datetime.datetime(2018, 5, 16, 0, 0), datetime.datetime(2018, 5, 17, 0, 0), datetime.datetime(2018, 5, 18, 0, 0), datetime.datetime(2018, 5, 21, 0, 0), datetime.datetime(2018, 5, 22, 0, 0), datetime.datetime(2018, 5, 23, 0, 0), datetime.datetime(2018, 5, 24, 0, 0), datetime.datetime(2018, 5, 25, 0, 0), datetime.datetime(2018, 5, 28, 0, 0), datetime.datetime(2018, 5, 29, 0, 0), datetime.datetime(2018, 5, 30, 0, 0), datetime.datetime(2018, 5, 31, 0, 0), datetime.datetime(2018, 6, 1, 0, 0), datetime.datetime(2018, 6, 4, 0, 0), datetime.datetime(2018, 6, 5, 0, 0), datetime.datetime(2018, 6, 6, 0, 0), datetime.datetime(2018, 6, 7, 0, 0), datetime.datetime(2018, 6, 8, 0, 0), datetime.datetime(2018, 6, 11, 0, 0), datetime.datetime(2018, 6, 12, 0, 0), datetime.datetime(2018, 6, 13, 0, 0), datetime.datetime(2018, 6, 14, 0, 0), datetime.datetime(2018, 6, 15, 0, 0), datetime.datetime(2018, 6, 18, 0, 0), datetime.datetime(2018, 6, 19, 0, 0), datetime.datetime(2018, 6, 20, 0, 0), datetime.datetime(2018, 6, 21, 0, 0), datetime.datetime(2018, 6, 22, 0, 0), datetime.datetime(2018, 6, 25, 0, 0), datetime.datetime(2018, 6, 26, 0, 0), datetime.datetime(2018, 6, 27, 0, 0), datetime.datetime(2018, 6, 28, 0, 0), datetime.datetime(2018, 6, 29, 0, 0), datetime.datetime(2018, 7, 2, 0, 0), datetime.datetime(2018, 7, 3, 0, 0), datetime.datetime(2018, 7, 4, 0, 0), datetime.datetime(2018, 7, 5, 0, 0), datetime.datetime(2018, 7, 6, 0, 0), datetime.datetime(2018, 7, 9, 0, 0), datetime.datetime(2018, 7, 10, 0, 0), datetime.datetime(2018, 7, 11, 0, 0), datetime.datetime(2018, 7, 12, 0, 0), datetime.datetime(2018, 7, 13, 0, 0), datetime.datetime(2018, 7, 16, 0, 0), datetime.datetime(2018, 7, 17, 0, 0), datetime.datetime(2018, 7, 18, 0, 0), datetime.datetime(2018, 7, 19, 0, 0), datetime.datetime(2018, 7, 20, 0, 0), datetime.datetime(2018, 7, 23, 0, 0), datetime.datetime(2018, 7, 24, 0, 0), datetime.datetime(2018, 7, 25, 0, 0), datetime.datetime(2018, 7, 26, 0, 0), datetime.datetime(2018, 7, 27, 0, 0), datetime.datetime(2018, 7, 30, 0, 0), datetime.datetime(2018, 7, 31, 0, 0), datetime.datetime(2018, 8, 1, 0, 0), datetime.datetime(2018, 8, 2, 0, 0), datetime.datetime(2018, 8, 3, 0, 0), datetime.datetime(2018, 8, 6, 0, 0), datetime.datetime(2018, 8, 7, 0, 0), datetime.datetime(2018, 8, 8, 0, 0), datetime.datetime(2018, 8, 9, 0, 0), datetime.datetime(2018, 8, 10, 0, 0), datetime.datetime(2018, 8, 13, 0, 0), datetime.datetime(2018, 8, 14, 0, 0), datetime.datetime(2018, 8, 15, 0, 0), datetime.datetime(2018, 8, 16, 0, 0), datetime.datetime(2018, 8, 17, 0, 0), datetime.datetime(2018, 8, 20, 0, 0), datetime.datetime(2018, 8, 21, 0, 0), datetime.datetime(2018, 8, 22, 0, 0), datetime.datetime(2018, 8, 23, 0, 0), datetime.datetime(2018, 8, 24, 0, 0), datetime.datetime(2018, 8, 27, 0, 0), datetime.datetime(2018, 8, 28, 0, 0), datetime.datetime(2018, 8, 29, 0, 0), datetime.datetime(2018, 8, 30, 0, 0), datetime.datetime(2018, 8, 31, 0, 0), datetime.datetime(2018, 9, 3, 0, 0), datetime.datetime(2018, 9, 4, 0, 0), datetime.datetime(2018, 9, 5, 0, 0), datetime.datetime(2018, 9, 6, 0, 0), datetime.datetime(2018, 9, 7, 0, 0), datetime.datetime(2018, 9, 10, 0, 0), datetime.datetime(2018, 9, 11, 0, 0), datetime.datetime(2018, 9, 12, 0, 0), datetime.datetime(2018, 9, 13, 0, 0), datetime.datetime(2018, 9, 14, 0, 0), datetime.datetime(2018, 9, 17, 0, 0), datetime.datetime(2018, 9, 18, 0, 0), datetime.datetime(2018, 9, 19, 0, 0), datetime.datetime(2018, 9, 20, 0, 0), datetime.datetime(2018, 9, 21, 0, 0), datetime.datetime(2018, 9, 24, 0, 0), datetime.datetime(2018, 9, 25, 0, 0), datetime.datetime(2018, 9, 26, 0, 0), datetime.datetime(2018, 9, 27, 0, 0), datetime.datetime(2018, 9, 28, 0, 0), datetime.datetime(2018, 10, 1, 0, 0), datetime.datetime(2018, 10, 2, 0, 0), datetime.datetime(2018, 10, 3, 0, 0), datetime.datetime(2018, 10, 4, 0, 0), datetime.datetime(2018, 10, 5, 0, 0), datetime.datetime(2018, 10, 8, 0, 0), datetime.datetime(2018, 10, 9, 0, 0), datetime.datetime(2018, 10, 10, 0, 0), datetime.datetime(2018, 10, 11, 0, 0), datetime.datetime(2018, 10, 12, 0, 0), datetime.datetime(2018, 10, 15, 0, 0), datetime.datetime(2018, 10, 16, 0, 0), datetime.datetime(2018, 10, 17, 0, 0), datetime.datetime(2018, 10, 18, 0, 0), datetime.datetime(2018, 10, 19, 0, 0), datetime.datetime(2018, 10, 22, 0, 0), datetime.datetime(2018, 10, 23, 0, 0), datetime.datetime(2018, 10, 24, 0, 0), datetime.datetime(2018, 10, 25, 0, 0), datetime.datetime(2018, 10, 26, 0, 0), datetime.datetime(2018, 10, 29, 0, 0), datetime.datetime(2018, 10, 30, 0, 0), datetime.datetime(2018, 10, 31, 0, 0), datetime.datetime(2018, 11, 1, 0, 0), datetime.datetime(2018, 11, 2, 0, 0), datetime.datetime(2018, 11, 5, 0, 0), datetime.datetime(2018, 11, 6, 0, 0), datetime.datetime(2018, 11, 7, 0, 0), datetime.datetime(2018, 11, 8, 0, 0), datetime.datetime(2018, 11, 9, 0, 0), datetime.datetime(2018, 11, 12, 0, 0), datetime.datetime(2018, 11, 13, 0, 0), datetime.datetime(2018, 11, 14, 0, 0), datetime.datetime(2018, 11, 15, 0, 0), datetime.datetime(2018, 11, 16, 0, 0), datetime.datetime(2018, 11, 19, 0, 0), datetime.datetime(2018, 11, 20, 0, 0), datetime.datetime(2018, 11, 21, 0, 0), datetime.datetime(2018, 11, 22, 0, 0), datetime.datetime(2018, 11, 23, 0, 0), datetime.datetime(2018, 11, 26, 0, 0), datetime.datetime(2018, 11, 27, 0, 0), datetime.datetime(2018, 11, 28, 0, 0), datetime.datetime(2018, 11, 29, 0, 0), datetime.datetime(2018, 11, 30, 0, 0), datetime.datetime(2018, 12, 3, 0, 0), datetime.datetime(2018, 12, 4, 0, 0), datetime.datetime(2018, 12, 5, 0, 0), datetime.datetime(2018, 12, 6, 0, 0), datetime.datetime(2018, 12, 7, 0, 0), datetime.datetime(2018, 12, 10, 0, 0), datetime.datetime(2018, 12, 11, 0, 0), datetime.datetime(2018, 12, 12, 0, 0), datetime.datetime(2018, 12, 13, 0, 0), datetime.datetime(2018, 12, 14, 0, 0), datetime.datetime(2018, 12, 17, 0, 0), datetime.datetime(2018, 12, 18, 0, 0), datetime.datetime(2018, 12, 19, 0, 0), datetime.datetime(2018, 12, 20, 0, 0), datetime.datetime(2018, 12, 21, 0, 0), datetime.datetime(2018, 12, 24, 0, 0), datetime.datetime(2018, 12, 25, 0, 0), datetime.datetime(2018, 12, 26, 0, 0), datetime.datetime(2018, 12, 27, 0, 0), datetime.datetime(2018, 12, 28, 0, 0), datetime.datetime(2018, 12, 31, 0, 0), datetime.datetime(2019, 1, 1, 0, 0), datetime.datetime(2019, 1, 2, 0, 0), datetime.datetime(2019, 1, 3, 0, 0), datetime.datetime(2019, 1, 4, 0, 0), datetime.datetime(2019, 1, 7, 0, 0), datetime.datetime(2019, 1, 8, 0, 0), datetime.datetime(2019, 1, 9, 0, 0), datetime.datetime(2019, 1, 10, 0, 0), datetime.datetime(2019, 1, 11, 0, 0), datetime.datetime(2019, 1, 14, 0, 0), datetime.datetime(2019, 1, 15, 0, 0), datetime.datetime(2019, 1, 16, 0, 0), datetime.datetime(2019, 1, 17, 0, 0), datetime.datetime(2019, 1, 18, 0, 0), datetime.datetime(2019, 1, 21, 0, 0), datetime.datetime(2019, 1, 22, 0, 0), datetime.datetime(2019, 1, 23, 0, 0), datetime.datetime(2019, 1, 24, 0, 0), datetime.datetime(2019, 1, 25, 0, 0), datetime.datetime(2019, 1, 28, 0, 0), datetime.datetime(2019, 1, 29, 0, 0), datetime.datetime(2019, 1, 30, 0, 0), datetime.datetime(2019, 1, 31, 0, 0), datetime.datetime(2019, 2, 1, 0, 0), datetime.datetime(2019, 2, 4, 0, 0), datetime.datetime(2019, 2, 5, 0, 0), datetime.datetime(2019, 2, 6, 0, 0), datetime.datetime(2019, 2, 7, 0, 0), datetime.datetime(2019, 2, 8, 0, 0), datetime.datetime(2019, 2, 11, 0, 0), datetime.datetime(2019, 2, 12, 0, 0), datetime.datetime(2019, 2, 13, 0, 0), datetime.datetime(2019, 2, 14, 0, 0), datetime.datetime(2019, 2, 15, 0, 0), datetime.datetime(2019, 2, 18, 0, 0), datetime.datetime(2019, 2, 19, 0, 0), datetime.datetime(2019, 2, 20, 0, 0), datetime.datetime(2019, 2, 21, 0, 0), datetime.datetime(2019, 2, 22, 0, 0), datetime.datetime(2019, 2, 25, 0, 0), datetime.datetime(2019, 2, 26, 0, 0), datetime.datetime(2019, 2, 27, 0, 0), datetime.datetime(2019, 2, 28, 0, 0), datetime.datetime(2019, 3, 1, 0, 0), datetime.datetime(2019, 3, 4, 0, 0), datetime.datetime(2019, 3, 5, 0, 0), datetime.datetime(2019, 3, 6, 0, 0), datetime.datetime(2019, 3, 7, 0, 0), datetime.datetime(2019, 3, 8, 0, 0), datetime.datetime(2019, 3, 11, 0, 0), datetime.datetime(2019, 3, 12, 0, 0), datetime.datetime(2019, 3, 13, 0, 0), datetime.datetime(2019, 3, 14, 0, 0), datetime.datetime(2019, 3, 15, 0, 0), datetime.datetime(2019, 3, 18, 0, 0), datetime.datetime(2019, 3, 19, 0, 0), datetime.datetime(2019, 3, 20, 0, 0), datetime.datetime(2019, 3, 21, 0, 0), datetime.datetime(2019, 3, 22, 0, 0), datetime.datetime(2019, 3, 25, 0, 0), datetime.datetime(2019, 3, 26, 0, 0), datetime.datetime(2019, 3, 27, 0, 0), datetime.datetime(2019, 3, 28, 0, 0), datetime.datetime(2019, 3, 29, 0, 0), datetime.datetime(2019, 4, 1, 0, 0), datetime.datetime(2019, 4, 2, 0, 0), datetime.datetime(2019, 4, 3, 0, 0), datetime.datetime(2019, 4, 4, 0, 0), datetime.datetime(2019, 4, 5, 0, 0), datetime.datetime(2019, 4, 8, 0, 0), datetime.datetime(2019, 4, 9, 0, 0), datetime.datetime(2019, 4, 10, 0, 0), datetime.datetime(2019, 4, 11, 0, 0), datetime.datetime(2019, 4, 12, 0, 0), datetime.datetime(2019, 4, 15, 0, 0), datetime.datetime(2019, 4, 16, 0, 0), datetime.datetime(2019, 4, 17, 0, 0), datetime.datetime(2019, 4, 18, 0, 0), datetime.datetime(2019, 4, 19, 0, 0), datetime.datetime(2019, 4, 22, 0, 0), datetime.datetime(2019, 4, 23, 0, 0), datetime.datetime(2019, 4, 24, 0, 0), datetime.datetime(2019, 4, 25, 0, 0), datetime.datetime(2019, 4, 26, 0, 0), datetime.datetime(2019, 4, 29, 0, 0), datetime.datetime(2019, 4, 30, 0, 0), datetime.datetime(2019, 5, 1, 0, 0), datetime.datetime(2019, 5, 2, 0, 0), datetime.datetime(2019, 5, 3, 0, 0), datetime.datetime(2019, 5, 6, 0, 0), datetime.datetime(2019, 5, 7, 0, 0), datetime.datetime(2019, 5, 8, 0, 0), datetime.datetime(2019, 5, 9, 0, 0), datetime.datetime(2019, 5, 10, 0, 0), datetime.datetime(2019, 5, 13, 0, 0), datetime.datetime(2019, 5, 14, 0, 0), datetime.datetime(2019, 5, 15, 0, 0), datetime.datetime(2019, 5, 16, 0, 0), datetime.datetime(2019, 5, 17, 0, 0), datetime.datetime(2019, 5, 20, 0, 0), datetime.datetime(2019, 5, 21, 0, 0), datetime.datetime(2019, 5, 22, 0, 0), datetime.datetime(2019, 5, 23, 0, 0), datetime.datetime(2019, 5, 24, 0, 0), datetime.datetime(2019, 5, 27, 0, 0), datetime.datetime(2019, 5, 28, 0, 0), datetime.datetime(2019, 5, 29, 0, 0), datetime.datetime(2019, 5, 30, 0, 0), datetime.datetime(2019, 5, 31, 0, 0), datetime.datetime(2019, 6, 3, 0, 0), datetime.datetime(2019, 6, 4, 0, 0), datetime.datetime(2019, 6, 5, 0, 0), datetime.datetime(2019, 6, 6, 0, 0), datetime.datetime(2019, 6, 7, 0, 0), datetime.datetime(2019, 6, 10, 0, 0), datetime.datetime(2019, 6, 11, 0, 0), datetime.datetime(2019, 6, 12, 0, 0), datetime.datetime(2019, 6, 13, 0, 0), datetime.datetime(2019, 6, 14, 0, 0), datetime.datetime(2019, 6, 17, 0, 0), datetime.datetime(2019, 6, 18, 0, 0), datetime.datetime(2019, 6, 19, 0, 0), datetime.datetime(2019, 6, 20, 0, 0), datetime.datetime(2019, 6, 21, 0, 0), datetime.datetime(2019, 6, 24, 0, 0), datetime.datetime(2019, 6, 25, 0, 0), datetime.datetime(2019, 6, 26, 0, 0), datetime.datetime(2019, 6, 27, 0, 0), datetime.datetime(2019, 6, 28, 0, 0), datetime.datetime(2019, 7, 1, 0, 0), datetime.datetime(2019, 7, 2, 0, 0), datetime.datetime(2019, 7, 3, 0, 0), datetime.datetime(2019, 7, 4, 0, 0), datetime.datetime(2019, 7, 5, 0, 0), datetime.datetime(2019, 7, 8, 0, 0), datetime.datetime(2019, 7, 9, 0, 0), datetime.datetime(2019, 7, 10, 0, 0), datetime.datetime(2019, 7, 11, 0, 0), datetime.datetime(2019, 7, 12, 0, 0), datetime.datetime(2019, 7, 15, 0, 0), datetime.datetime(2019, 7, 16, 0, 0), datetime.datetime(2019, 7, 17, 0, 0), datetime.datetime(2019, 7, 18, 0, 0), datetime.datetime(2019, 7, 19, 0, 0), datetime.datetime(2019, 7, 22, 0, 0), datetime.datetime(2019, 7, 23, 0, 0), datetime.datetime(2019, 7, 24, 0, 0), datetime.datetime(2019, 7, 25, 0, 0), datetime.datetime(2019, 7, 26, 0, 0), datetime.datetime(2019, 7, 29, 0, 0), datetime.datetime(2019, 7, 30, 0, 0), datetime.datetime(2019, 7, 31, 0, 0), datetime.datetime(2019, 8, 1, 0, 0), datetime.datetime(2019, 8, 2, 0, 0), datetime.datetime(2019, 8, 5, 0, 0), datetime.datetime(2019, 8, 6, 0, 0), datetime.datetime(2019, 8, 7, 0, 0), datetime.datetime(2019, 8, 8, 0, 0), datetime.datetime(2019, 8, 9, 0, 0), datetime.datetime(2019, 8, 12, 0, 0), datetime.datetime(2019, 8, 13, 0, 0), datetime.datetime(2019, 8, 14, 0, 0), datetime.datetime(2019, 8, 15, 0, 0), datetime.datetime(2019, 8, 16, 0, 0), datetime.datetime(2019, 8, 19, 0, 0), datetime.datetime(2019, 8, 20, 0, 0), datetime.datetime(2019, 8, 21, 0, 0), datetime.datetime(2019, 8, 22, 0, 0), datetime.datetime(2019, 8, 23, 0, 0), datetime.datetime(2019, 8, 26, 0, 0), datetime.datetime(2019, 8, 27, 0, 0), datetime.datetime(2019, 8, 28, 0, 0), datetime.datetime(2019, 8, 29, 0, 0), datetime.datetime(2019, 8, 30, 0, 0), datetime.datetime(2019, 9, 2, 0, 0), datetime.datetime(2019, 9, 3, 0, 0), datetime.datetime(2019, 9, 4, 0, 0), datetime.datetime(2019, 9, 5, 0, 0), datetime.datetime(2019, 9, 6, 0, 0), datetime.datetime(2019, 9, 9, 0, 0), datetime.datetime(2019, 9, 10, 0, 0), datetime.datetime(2019, 9, 11, 0, 0), datetime.datetime(2019, 9, 12, 0, 0), datetime.datetime(2019, 9, 13, 0, 0), datetime.datetime(2019, 9, 16, 0, 0), datetime.datetime(2019, 9, 17, 0, 0), datetime.datetime(2019, 9, 18, 0, 0), datetime.datetime(2019, 9, 19, 0, 0), datetime.datetime(2019, 9, 20, 0, 0), datetime.datetime(2019, 9, 23, 0, 0), datetime.datetime(2019, 9, 24, 0, 0), datetime.datetime(2019, 9, 25, 0, 0), datetime.datetime(2019, 9, 26, 0, 0), datetime.datetime(2019, 9, 27, 0, 0), datetime.datetime(2019, 9, 30, 0, 0), datetime.datetime(2019, 10, 1, 0, 0), datetime.datetime(2019, 10, 2, 0, 0), datetime.datetime(2019, 10, 3, 0, 0), datetime.datetime(2019, 10, 4, 0, 0), datetime.datetime(2019, 10, 7, 0, 0), datetime.datetime(2019, 10, 8, 0, 0), datetime.datetime(2019, 10, 9, 0, 0), datetime.datetime(2019, 10, 10, 0, 0), datetime.datetime(2019, 10, 11, 0, 0), datetime.datetime(2019, 10, 14, 0, 0), datetime.datetime(2019, 10, 15, 0, 0), datetime.datetime(2019, 10, 16, 0, 0), datetime.datetime(2019, 10, 17, 0, 0), datetime.datetime(2019, 10, 18, 0, 0), datetime.datetime(2019, 10, 21, 0, 0), datetime.datetime(2019, 10, 22, 0, 0), datetime.datetime(2019, 10, 23, 0, 0), datetime.datetime(2019, 10, 24, 0, 0), datetime.datetime(2019, 10, 25, 0, 0), datetime.datetime(2019, 10, 28, 0, 0), datetime.datetime(2019, 10, 29, 0, 0), datetime.datetime(2019, 10, 30, 0, 0), datetime.datetime(2019, 10, 31, 0, 0), datetime.datetime(2019, 11, 1, 0, 0), datetime.datetime(2019, 11, 4, 0, 0), datetime.datetime(2019, 11, 5, 0, 0), datetime.datetime(2019, 11, 6, 0, 0), datetime.datetime(2019, 11, 7, 0, 0), datetime.datetime(2019, 11, 8, 0, 0), datetime.datetime(2019, 11, 11, 0, 0), datetime.datetime(2019, 11, 12, 0, 0), datetime.datetime(2019, 11, 13, 0, 0), datetime.datetime(2019, 11, 14, 0, 0), datetime.datetime(2019, 11, 15, 0, 0), datetime.datetime(2019, 11, 18, 0, 0), datetime.datetime(2019, 11, 19, 0, 0), datetime.datetime(2019, 11, 20, 0, 0), datetime.datetime(2019, 11, 21, 0, 0), datetime.datetime(2019, 11, 22, 0, 0), datetime.datetime(2019, 11, 25, 0, 0), datetime.datetime(2019, 11, 26, 0, 0), datetime.datetime(2019, 11, 27, 0, 0), datetime.datetime(2019, 11, 28, 0, 0), datetime.datetime(2019, 11, 29, 0, 0), datetime.datetime(2019, 12, 2, 0, 0), datetime.datetime(2019, 12, 3, 0, 0), datetime.datetime(2019, 12, 4, 0, 0), datetime.datetime(2019, 12, 5, 0, 0), datetime.datetime(2019, 12, 6, 0, 0), datetime.datetime(2019, 12, 9, 0, 0), datetime.datetime(2019, 12, 10, 0, 0), datetime.datetime(2019, 12, 11, 0, 0), datetime.datetime(2019, 12, 12, 0, 0), datetime.datetime(2019, 12, 13, 0, 0), datetime.datetime(2019, 12, 16, 0, 0), datetime.datetime(2019, 12, 17, 0, 0), datetime.datetime(2019, 12, 18, 0, 0), datetime.datetime(2019, 12, 19, 0, 0), datetime.datetime(2019, 12, 20, 0, 0), datetime.datetime(2019, 12, 23, 0, 0), datetime.datetime(2019, 12, 24, 0, 0), datetime.datetime(2019, 12, 25, 0, 0), datetime.datetime(2019, 12, 26, 0, 0), datetime.datetime(2019, 12, 27, 0, 0), datetime.datetime(2019, 12, 30, 0, 0), datetime.datetime(2019, 12, 31, 0, 0), datetime.datetime(2020, 1, 1, 0, 0), datetime.datetime(2020, 1, 2, 0, 0), datetime.datetime(2020, 1, 3, 0, 0), datetime.datetime(2020, 1, 6, 0, 0), datetime.datetime(2020, 1, 7, 0, 0), datetime.datetime(2020, 1, 8, 0, 0), datetime.datetime(2020, 1, 9, 0, 0), datetime.datetime(2020, 1, 10, 0, 0), datetime.datetime(2020, 1, 13, 0, 0), datetime.datetime(2020, 1, 14, 0, 0), datetime.datetime(2020, 1, 15, 0, 0), datetime.datetime(2020, 1, 16, 0, 0), datetime.datetime(2020, 1, 17, 0, 0), datetime.datetime(2020, 1, 20, 0, 0), datetime.datetime(2020, 1, 21, 0, 0), datetime.datetime(2020, 1, 22, 0, 0), datetime.datetime(2020, 1, 23, 0, 0), datetime.datetime(2020, 1, 24, 0, 0), datetime.datetime(2020, 1, 27, 0, 0), datetime.datetime(2020, 1, 28, 0, 0), datetime.datetime(2020, 1, 29, 0, 0), datetime.datetime(2020, 1, 30, 0, 0), datetime.datetime(2020, 1, 31, 0, 0), datetime.datetime(2020, 2, 3, 0, 0), datetime.datetime(2020, 2, 4, 0, 0), datetime.datetime(2020, 2, 5, 0, 0), datetime.datetime(2020, 2, 6, 0, 0), datetime.datetime(2020, 2, 7, 0, 0), datetime.datetime(2020, 2, 10, 0, 0), datetime.datetime(2020, 2, 11, 0, 0), datetime.datetime(2020, 2, 12, 0, 0), datetime.datetime(2020, 2, 13, 0, 0), datetime.datetime(2020, 2, 14, 0, 0), datetime.datetime(2020, 2, 17, 0, 0), datetime.datetime(2020, 2, 18, 0, 0), datetime.datetime(2020, 2, 19, 0, 0), datetime.datetime(2020, 2, 20, 0, 0), datetime.datetime(2020, 2, 21, 0, 0), datetime.datetime(2020, 2, 24, 0, 0), datetime.datetime(2020, 2, 25, 0, 0), datetime.datetime(2020, 2, 26, 0, 0), datetime.datetime(2020, 2, 27, 0, 0), datetime.datetime(2020, 2, 28, 0, 0), datetime.datetime(2020, 3, 2, 0, 0), datetime.datetime(2020, 3, 3, 0, 0), datetime.datetime(2020, 3, 4, 0, 0), datetime.datetime(2020, 3, 5, 0, 0), datetime.datetime(2020, 3, 6, 0, 0), datetime.datetime(2020, 3, 9, 0, 0), datetime.datetime(2020, 3, 10, 0, 0), datetime.datetime(2020, 3, 11, 0, 0), datetime.datetime(2020, 3, 12, 0, 0), datetime.datetime(2020, 3, 13, 0, 0), datetime.datetime(2020, 3, 16, 0, 0), datetime.datetime(2020, 3, 17, 0, 0), datetime.datetime(2020, 3, 18, 0, 0), datetime.datetime(2020, 3, 19, 0, 0), datetime.datetime(2020, 3, 20, 0, 0), datetime.datetime(2020, 3, 23, 0, 0), datetime.datetime(2020, 3, 24, 0, 0), datetime.datetime(2020, 3, 25, 0, 0), datetime.datetime(2020, 3, 26, 0, 0), datetime.datetime(2020, 3, 27, 0, 0), datetime.datetime(2020, 3, 30, 0, 0), datetime.datetime(2020, 3, 31, 0, 0), datetime.datetime(2020, 4, 1, 0, 0), datetime.datetime(2020, 4, 2, 0, 0), datetime.datetime(2020, 4, 3, 0, 0), datetime.datetime(2020, 4, 6, 0, 0), datetime.datetime(2020, 4, 7, 0, 0), datetime.datetime(2020, 4, 8, 0, 0), datetime.datetime(2020, 4, 9, 0, 0), datetime.datetime(2020, 4, 10, 0, 0), datetime.datetime(2020, 4, 13, 0, 0), datetime.datetime(2020, 4, 14, 0, 0), datetime.datetime(2020, 4, 15, 0, 0), datetime.datetime(2020, 4, 16, 0, 0), datetime.datetime(2020, 4, 17, 0, 0), datetime.datetime(2020, 4, 20, 0, 0), datetime.datetime(2020, 4, 21, 0, 0), datetime.datetime(2020, 4, 22, 0, 0), datetime.datetime(2020, 4, 23, 0, 0), datetime.datetime(2020, 4, 24, 0, 0), datetime.datetime(2020, 4, 27, 0, 0), datetime.datetime(2020, 4, 28, 0, 0), datetime.datetime(2020, 4, 29, 0, 0), datetime.datetime(2020, 4, 30, 0, 0), datetime.datetime(2020, 5, 1, 0, 0), datetime.datetime(2020, 5, 4, 0, 0), datetime.datetime(2020, 5, 5, 0, 0), datetime.datetime(2020, 5, 6, 0, 0), datetime.datetime(2020, 5, 7, 0, 0), datetime.datetime(2020, 5, 8, 0, 0), datetime.datetime(2020, 5, 11, 0, 0), datetime.datetime(2020, 5, 12, 0, 0), datetime.datetime(2020, 5, 13, 0, 0), datetime.datetime(2020, 5, 14, 0, 0), datetime.datetime(2020, 5, 15, 0, 0), datetime.datetime(2020, 5, 18, 0, 0), datetime.datetime(2020, 5, 19, 0, 0), datetime.datetime(2020, 5, 20, 0, 0), datetime.datetime(2020, 5, 21, 0, 0), datetime.datetime(2020, 5, 22, 0, 0), datetime.datetime(2020, 5, 25, 0, 0), datetime.datetime(2020, 5, 26, 0, 0), datetime.datetime(2020, 5, 27, 0, 0), datetime.datetime(2020, 5, 28, 0, 0), datetime.datetime(2020, 5, 29, 0, 0), datetime.datetime(2020, 6, 1, 0, 0), datetime.datetime(2020, 6, 2, 0, 0), datetime.datetime(2020, 6, 3, 0, 0), datetime.datetime(2020, 6, 4, 0, 0), datetime.datetime(2020, 6, 5, 0, 0), datetime.datetime(2020, 6, 8, 0, 0), datetime.datetime(2020, 6, 9, 0, 0), datetime.datetime(2020, 6, 10, 0, 0), datetime.datetime(2020, 6, 11, 0, 0), datetime.datetime(2020, 6, 12, 0, 0), datetime.datetime(2020, 6, 15, 0, 0), datetime.datetime(2020, 6, 16, 0, 0), datetime.datetime(2020, 6, 17, 0, 0), datetime.datetime(2020, 6, 18, 0, 0), datetime.datetime(2020, 6, 19, 0, 0), datetime.datetime(2020, 6, 22, 0, 0), datetime.datetime(2020, 6, 23, 0, 0), datetime.datetime(2020, 6, 24, 0, 0), datetime.datetime(2020, 6, 25, 0, 0), datetime.datetime(2020, 6, 26, 0, 0), datetime.datetime(2020, 6, 29, 0, 0), datetime.datetime(2020, 6, 30, 0, 0), datetime.datetime(2020, 7, 1, 0, 0), datetime.datetime(2020, 7, 2, 0, 0), datetime.datetime(2020, 7, 3, 0, 0), datetime.datetime(2020, 7, 6, 0, 0), datetime.datetime(2020, 7, 7, 0, 0), datetime.datetime(2020, 7, 8, 0, 0), datetime.datetime(2020, 7, 9, 0, 0), datetime.datetime(2020, 7, 10, 0, 0), datetime.datetime(2020, 7, 13, 0, 0), datetime.datetime(2020, 7, 14, 0, 0), datetime.datetime(2020, 7, 15, 0, 0), datetime.datetime(2020, 7, 16, 0, 0), datetime.datetime(2020, 7, 17, 0, 0), datetime.datetime(2020, 7, 20, 0, 0), datetime.datetime(2020, 7, 21, 0, 0), datetime.datetime(2020, 7, 22, 0, 0), datetime.datetime(2020, 7, 23, 0, 0), datetime.datetime(2020, 7, 24, 0, 0), datetime.datetime(2020, 7, 27, 0, 0), datetime.datetime(2020, 7, 28, 0, 0), datetime.datetime(2020, 7, 29, 0, 0), datetime.datetime(2020, 7, 30, 0, 0), datetime.datetime(2020, 7, 31, 0, 0), datetime.datetime(2020, 8, 3, 0, 0), datetime.datetime(2020, 8, 4, 0, 0), datetime.datetime(2020, 8, 5, 0, 0), datetime.datetime(2020, 8, 6, 0, 0), datetime.datetime(2020, 8, 7, 0, 0), datetime.datetime(2020, 8, 10, 0, 0), datetime.datetime(2020, 8, 11, 0, 0), datetime.datetime(2020, 8, 12, 0, 0), datetime.datetime(2020, 8, 13, 0, 0), datetime.datetime(2020, 8, 14, 0, 0), datetime.datetime(2020, 8, 17, 0, 0), datetime.datetime(2020, 8, 18, 0, 0), datetime.datetime(2020, 8, 19, 0, 0), datetime.datetime(2020, 8, 20, 0, 0), datetime.datetime(2020, 8, 21, 0, 0), datetime.datetime(2020, 8, 24, 0, 0), datetime.datetime(2020, 8, 25, 0, 0), datetime.datetime(2020, 8, 26, 0, 0), datetime.datetime(2020, 8, 27, 0, 0), datetime.datetime(2020, 8, 28, 0, 0), datetime.datetime(2020, 8, 31, 0, 0), datetime.datetime(2020, 9, 1, 0, 0), datetime.datetime(2020, 9, 2, 0, 0), datetime.datetime(2020, 9, 3, 0, 0), datetime.datetime(2020, 9, 4, 0, 0), datetime.datetime(2020, 9, 7, 0, 0), datetime.datetime(2020, 9, 8, 0, 0), datetime.datetime(2020, 9, 9, 0, 0), datetime.datetime(2020, 9, 10, 0, 0), datetime.datetime(2020, 9, 11, 0, 0), datetime.datetime(2020, 9, 14, 0, 0), datetime.datetime(2020, 9, 15, 0, 0), datetime.datetime(2020, 9, 16, 0, 0), datetime.datetime(2020, 9, 17, 0, 0), datetime.datetime(2020, 9, 18, 0, 0), datetime.datetime(2020, 9, 21, 0, 0), datetime.datetime(2020, 9, 22, 0, 0), datetime.datetime(2020, 9, 23, 0, 0), datetime.datetime(2020, 9, 24, 0, 0), datetime.datetime(2020, 9, 25, 0, 0), datetime.datetime(2020, 9, 28, 0, 0), datetime.datetime(2020, 9, 29, 0, 0), datetime.datetime(2020, 9, 30, 0, 0), datetime.datetime(2020, 10, 1, 0, 0), datetime.datetime(2020, 10, 2, 0, 0), datetime.datetime(2020, 10, 5, 0, 0), datetime.datetime(2020, 10, 6, 0, 0), datetime.datetime(2020, 10, 7, 0, 0), datetime.datetime(2020, 10, 8, 0, 0), datetime.datetime(2020, 10, 9, 0, 0), datetime.datetime(2020, 10, 12, 0, 0), datetime.datetime(2020, 10, 13, 0, 0), datetime.datetime(2020, 10, 14, 0, 0), datetime.datetime(2020, 10, 15, 0, 0), datetime.datetime(2020, 10, 16, 0, 0), datetime.datetime(2020, 10, 19, 0, 0), datetime.datetime(2020, 10, 20, 0, 0), datetime.datetime(2020, 10, 21, 0, 0), datetime.datetime(2020, 10, 22, 0, 0), datetime.datetime(2020, 10, 23, 0, 0), datetime.datetime(2020, 10, 26, 0, 0), datetime.datetime(2020, 10, 27, 0, 0), datetime.datetime(2020, 10, 28, 0, 0), datetime.datetime(2020, 10, 29, 0, 0), datetime.datetime(2020, 10, 30, 0, 0), datetime.datetime(2020, 11, 2, 0, 0), datetime.datetime(2020, 11, 3, 0, 0), datetime.datetime(2020, 11, 4, 0, 0), datetime.datetime(2020, 11, 5, 0, 0), datetime.datetime(2020, 11, 6, 0, 0), datetime.datetime(2020, 11, 9, 0, 0), datetime.datetime(2020, 11, 10, 0, 0), datetime.datetime(2020, 11, 11, 0, 0), datetime.datetime(2020, 11, 12, 0, 0), datetime.datetime(2020, 11, 13, 0, 0), datetime.datetime(2020, 11, 16, 0, 0), datetime.datetime(2020, 11, 17, 0, 0), datetime.datetime(2020, 11, 18, 0, 0), datetime.datetime(2020, 11, 19, 0, 0), datetime.datetime(2020, 11, 20, 0, 0), datetime.datetime(2020, 11, 23, 0, 0), datetime.datetime(2020, 11, 24, 0, 0), datetime.datetime(2020, 11, 25, 0, 0), datetime.datetime(2020, 11, 26, 0, 0), datetime.datetime(2020, 11, 27, 0, 0), datetime.datetime(2020, 11, 30, 0, 0), datetime.datetime(2020, 12, 1, 0, 0), datetime.datetime(2020, 12, 2, 0, 0), datetime.datetime(2020, 12, 3, 0, 0), datetime.datetime(2020, 12, 4, 0, 0), datetime.datetime(2020, 12, 7, 0, 0), datetime.datetime(2020, 12, 8, 0, 0), datetime.datetime(2020, 12, 9, 0, 0), datetime.datetime(2020, 12, 10, 0, 0), datetime.datetime(2020, 12, 11, 0, 0), datetime.datetime(2020, 12, 14, 0, 0), datetime.datetime(2020, 12, 15, 0, 0), datetime.datetime(2020, 12, 16, 0, 0), datetime.datetime(2020, 12, 17, 0, 0), datetime.datetime(2020, 12, 18, 0, 0), datetime.datetime(2020, 12, 21, 0, 0), datetime.datetime(2020, 12, 22, 0, 0), datetime.datetime(2020, 12, 23, 0, 0), datetime.datetime(2020, 12, 24, 0, 0), datetime.datetime(2020, 12, 25, 0, 0), datetime.datetime(2020, 12, 28, 0, 0), datetime.datetime(2020, 12, 29, 0, 0), datetime.datetime(2020, 12, 30, 0, 0), datetime.datetime(2020, 12, 31, 0, 0), datetime.datetime(2021, 1, 1, 0, 0), datetime.datetime(2021, 1, 4, 0, 0), datetime.datetime(2021, 1, 5, 0, 0), datetime.datetime(2021, 1, 6, 0, 0), datetime.datetime(2021, 1, 7, 0, 0), datetime.datetime(2021, 1, 8, 0, 0), datetime.datetime(2021, 1, 11, 0, 0), datetime.datetime(2021, 1, 12, 0, 0), datetime.datetime(2021, 1, 13, 0, 0), datetime.datetime(2021, 1, 14, 0, 0), datetime.datetime(2021, 1, 15, 0, 0), datetime.datetime(2021, 1, 18, 0, 0), datetime.datetime(2021, 1, 19, 0, 0), datetime.datetime(2021, 1, 20, 0, 0), datetime.datetime(2021, 1, 21, 0, 0), datetime.datetime(2021, 1, 22, 0, 0), datetime.datetime(2021, 1, 25, 0, 0), datetime.datetime(2021, 1, 26, 0, 0), datetime.datetime(2021, 1, 27, 0, 0), datetime.datetime(2021, 1, 28, 0, 0), datetime.datetime(2021, 1, 29, 0, 0), datetime.datetime(2021, 2, 1, 0, 0), datetime.datetime(2021, 2, 2, 0, 0), datetime.datetime(2021, 2, 3, 0, 0), datetime.datetime(2021, 2, 4, 0, 0), datetime.datetime(2021, 2, 5, 0, 0), datetime.datetime(2021, 2, 8, 0, 0), datetime.datetime(2021, 2, 9, 0, 0), datetime.datetime(2021, 2, 10, 0, 0), datetime.datetime(2021, 2, 11, 0, 0), datetime.datetime(2021, 2, 12, 0, 0), datetime.datetime(2021, 2, 15, 0, 0), datetime.datetime(2021, 2, 16, 0, 0), datetime.datetime(2021, 2, 17, 0, 0), datetime.datetime(2021, 2, 18, 0, 0), datetime.datetime(2021, 2, 19, 0, 0), datetime.datetime(2021, 2, 22, 0, 0), datetime.datetime(2021, 2, 23, 0, 0), datetime.datetime(2021, 2, 24, 0, 0), datetime.datetime(2021, 2, 25, 0, 0), datetime.datetime(2021, 2, 26, 0, 0), datetime.datetime(2021, 3, 1, 0, 0), datetime.datetime(2021, 3, 2, 0, 0), datetime.datetime(2021, 3, 3, 0, 0), datetime.datetime(2021, 3, 4, 0, 0), datetime.datetime(2021, 3, 5, 0, 0), datetime.datetime(2021, 3, 8, 0, 0), datetime.datetime(2021, 3, 9, 0, 0), datetime.datetime(2021, 3, 10, 0, 0), datetime.datetime(2021, 3, 11, 0, 0), datetime.datetime(2021, 3, 12, 0, 0), datetime.datetime(2021, 3, 15, 0, 0)]\n",
            "824\n"
          ],
          "name": "stdout"
        }
      ]
    },
    {
      "cell_type": "code",
      "metadata": {
        "id": "mdsLQlNbKwtW"
      },
      "source": [
        "#list out all indices of stock data \n",
        "s=list(googl_df.index)"
      ],
      "execution_count": null,
      "outputs": []
    },
    {
      "cell_type": "code",
      "metadata": {
        "id": "Gw4oYbzSKwtX"
      },
      "source": [
        "#convert each element into string in s\n",
        "s=[str(i) for i in s]"
      ],
      "execution_count": null,
      "outputs": []
    },
    {
      "cell_type": "code",
      "metadata": {
        "id": "5EoAZ84SKwtX"
      },
      "source": [
        "#assign the s values to stock data indices\n",
        "googl_df.index=s"
      ],
      "execution_count": null,
      "outputs": []
    },
    {
      "cell_type": "code",
      "metadata": {
        "colab": {
          "base_uri": "https://localhost:8080/"
        },
        "id": "NDOiG9twKwtY",
        "outputId": "abd7676e-5fdd-4cda-b697-a42605e195de"
      },
      "source": [
        "googl_df.index"
      ],
      "execution_count": null,
      "outputs": [
        {
          "output_type": "execute_result",
          "data": {
            "text/plain": [
              "Index(['2012-05-18 00:00:00', '2012-05-21 00:00:00', '2012-05-22 00:00:00',\n",
              "       '2012-05-23 00:00:00', '2012-05-24 00:00:00', '2012-05-25 00:00:00',\n",
              "       '2012-05-29 00:00:00', '2012-05-30 00:00:00', '2012-05-31 00:00:00',\n",
              "       '2012-06-01 00:00:00',\n",
              "       ...\n",
              "       '2021-03-09 00:00:00', '2021-03-10 00:00:00', '2021-03-11 00:00:00',\n",
              "       '2021-03-12 00:00:00', '2021-03-15 00:00:00', '2021-03-16 00:00:00',\n",
              "       '2021-03-17 00:00:00', '2021-03-18 00:00:00', '2021-03-19 00:00:00',\n",
              "       '2021-03-22 00:00:00'],\n",
              "      dtype='object', length=2224)"
            ]
          },
          "metadata": {
            "tags": []
          },
          "execution_count": 98
        }
      ]
    },
    {
      "cell_type": "code",
      "metadata": {
        "id": "r9F-G_dzKwtZ"
      },
      "source": [
        "#store the dates of the posts in dates list and convert into string\n",
        "dates=[str(i) for i in dates_]"
      ],
      "execution_count": null,
      "outputs": []
    },
    {
      "cell_type": "code",
      "metadata": {
        "colab": {
          "base_uri": "https://localhost:8080/"
        },
        "id": "I22KLx-sKwtZ",
        "outputId": "a249a2df-a2f4-4142-902e-f6a5ac23636a"
      },
      "source": [
        "googl_df.loc[dates[0]]"
      ],
      "execution_count": null,
      "outputs": [
        {
          "output_type": "execute_result",
          "data": {
            "text/plain": [
              "Open            1.792600e+02\n",
              "High            1.793200e+02\n",
              "Low             1.758000e+02\n",
              "Close           1.776000e+02\n",
              "Volume          2.799240e+07\n",
              "Dividends       0.000000e+00\n",
              "Stock Splits    0.000000e+00\n",
              "Name: 2018-01-17 00:00:00, dtype: float64"
            ]
          },
          "metadata": {
            "tags": []
          },
          "execution_count": 100
        }
      ]
    },
    {
      "cell_type": "code",
      "metadata": {
        "id": "K4aneJgsKwta"
      },
      "source": [
        "#copy the posts list in num_pos1\n",
        "num_pos1=num_posts.copy()"
      ],
      "execution_count": null,
      "outputs": []
    },
    {
      "cell_type": "code",
      "metadata": {
        "colab": {
          "base_uri": "https://localhost:8080/",
          "height": 37
        },
        "id": "psPYS1mIKwtb",
        "outputId": "40fc67a1-2277-41d3-8bee-b949c6a27924"
      },
      "source": [
        "s[0]"
      ],
      "execution_count": null,
      "outputs": [
        {
          "output_type": "execute_result",
          "data": {
            "application/vnd.google.colaboratory.intrinsic+json": {
              "type": "string"
            },
            "text/plain": [
              "'2012-05-18 00:00:00'"
            ]
          },
          "metadata": {
            "tags": []
          },
          "execution_count": 102
        }
      ]
    },
    {
      "cell_type": "code",
      "metadata": {
        "colab": {
          "base_uri": "https://localhost:8080/"
        },
        "id": "pzVpGrGWKwtc",
        "outputId": "ac7fe76e-42d1-4892-ef91-34cdfbcd5695"
      },
      "source": [
        "len(dates)"
      ],
      "execution_count": null,
      "outputs": [
        {
          "output_type": "execute_result",
          "data": {
            "text/plain": [
              "824"
            ]
          },
          "metadata": {
            "tags": []
          },
          "execution_count": 103
        }
      ]
    },
    {
      "cell_type": "code",
      "metadata": {
        "colab": {
          "base_uri": "https://localhost:8080/"
        },
        "id": "2-1A_glPKwtc",
        "outputId": "f8bc4a49-0009-46ac-8132-e06f85c8ffa8"
      },
      "source": [
        "googl_df.columns"
      ],
      "execution_count": null,
      "outputs": [
        {
          "output_type": "execute_result",
          "data": {
            "text/plain": [
              "Index(['Open', 'High', 'Low', 'Close', 'Volume', 'Dividends', 'Stock Splits'], dtype='object')"
            ]
          },
          "metadata": {
            "tags": []
          },
          "execution_count": 104
        }
      ]
    },
    {
      "cell_type": "markdown",
      "metadata": {
        "id": "er8P5yiiKwtd"
      },
      "source": [
        "## Access the stock price of particular date on which post is posted and also next day prediction:"
      ]
    },
    {
      "cell_type": "code",
      "metadata": {
        "id": "V0JSBeVjKwtd"
      },
      "source": [
        "lis_data=[]\n",
        "while(1):\n",
        "    \n",
        "    k=[]\n",
        "    try:\n",
        "        ind=num_pos1.index(1)\n",
        "    except:\n",
        "        break\n",
        "    num_pos1[ind]=-1\n",
        "    if dates[ind] not in s:\n",
        "        continue\n",
        "    a=s.index(dates[ind])\n",
        "    b=s[a+1]\n",
        "    k.extend(googl_df.loc[dates[ind]].values[:4])\n",
        "    k.append(scores_[ind])\n",
        "    k.append(googl_df.loc[b].values[3])  \n",
        "    lis_data.append(k)"
      ],
      "execution_count": null,
      "outputs": []
    },
    {
      "cell_type": "code",
      "metadata": {
        "colab": {
          "base_uri": "https://localhost:8080/"
        },
        "id": "1Klh5dEJKwtd",
        "outputId": "e1ae4bcb-b510-4da7-c8ee-48f1ee6cf0c8"
      },
      "source": [
        "len(lis_data)"
      ],
      "execution_count": null,
      "outputs": [
        {
          "output_type": "execute_result",
          "data": {
            "text/plain": [
              "103"
            ]
          },
          "metadata": {
            "tags": []
          },
          "execution_count": 106
        }
      ]
    },
    {
      "cell_type": "code",
      "metadata": {
        "id": "V-jo890JKwte"
      },
      "source": [
        "cols=list(googl_df.columns[:4])"
      ],
      "execution_count": null,
      "outputs": []
    },
    {
      "cell_type": "code",
      "metadata": {
        "id": "uuYxMD2IKwte"
      },
      "source": [
        "cols.extend(['score','output'])"
      ],
      "execution_count": null,
      "outputs": []
    },
    {
      "cell_type": "markdown",
      "metadata": {
        "id": "QhaXz1N1Kwtf"
      },
      "source": [
        "## store the values into dataframe to store score,today stock price information and next day prediction:"
      ]
    },
    {
      "cell_type": "code",
      "metadata": {
        "id": "5g6Av1cqKwtf"
      },
      "source": [
        "df=pd.DataFrame(lis_data,columns=cols)"
      ],
      "execution_count": null,
      "outputs": []
    },
    {
      "cell_type": "code",
      "metadata": {
        "colab": {
          "base_uri": "https://localhost:8080/",
          "height": 419
        },
        "id": "BTqx8eP0Kwtf",
        "outputId": "f785d0c2-5ead-4842-ca33-f2e25d324dcb"
      },
      "source": [
        "df"
      ],
      "execution_count": null,
      "outputs": [
        {
          "output_type": "execute_result",
          "data": {
            "text/html": [
              "<div>\n",
              "<style scoped>\n",
              "    .dataframe tbody tr th:only-of-type {\n",
              "        vertical-align: middle;\n",
              "    }\n",
              "\n",
              "    .dataframe tbody tr th {\n",
              "        vertical-align: top;\n",
              "    }\n",
              "\n",
              "    .dataframe thead th {\n",
              "        text-align: right;\n",
              "    }\n",
              "</style>\n",
              "<table border=\"1\" class=\"dataframe\">\n",
              "  <thead>\n",
              "    <tr style=\"text-align: right;\">\n",
              "      <th></th>\n",
              "      <th>Open</th>\n",
              "      <th>High</th>\n",
              "      <th>Low</th>\n",
              "      <th>Close</th>\n",
              "      <th>score</th>\n",
              "      <th>output</th>\n",
              "    </tr>\n",
              "  </thead>\n",
              "  <tbody>\n",
              "    <tr>\n",
              "      <th>0</th>\n",
              "      <td>179.259995</td>\n",
              "      <td>179.320007</td>\n",
              "      <td>175.800003</td>\n",
              "      <td>177.600006</td>\n",
              "      <td>0.0000</td>\n",
              "      <td>179.800003</td>\n",
              "    </tr>\n",
              "    <tr>\n",
              "      <th>1</th>\n",
              "      <td>175.770004</td>\n",
              "      <td>177.949997</td>\n",
              "      <td>175.110001</td>\n",
              "      <td>176.009995</td>\n",
              "      <td>0.0000</td>\n",
              "      <td>177.910004</td>\n",
              "    </tr>\n",
              "    <tr>\n",
              "      <th>2</th>\n",
              "      <td>177.009995</td>\n",
              "      <td>177.169998</td>\n",
              "      <td>170.059998</td>\n",
              "      <td>172.559998</td>\n",
              "      <td>0.0000</td>\n",
              "      <td>168.149994</td>\n",
              "    </tr>\n",
              "    <tr>\n",
              "      <th>3</th>\n",
              "      <td>160.820007</td>\n",
              "      <td>161.100006</td>\n",
              "      <td>149.020004</td>\n",
              "      <td>160.059998</td>\n",
              "      <td>-0.3182</td>\n",
              "      <td>152.220001</td>\n",
              "    </tr>\n",
              "    <tr>\n",
              "      <th>4</th>\n",
              "      <td>156.309998</td>\n",
              "      <td>162.850006</td>\n",
              "      <td>150.750000</td>\n",
              "      <td>152.220001</td>\n",
              "      <td>0.0000</td>\n",
              "      <td>153.029999</td>\n",
              "    </tr>\n",
              "    <tr>\n",
              "      <th>...</th>\n",
              "      <td>...</td>\n",
              "      <td>...</td>\n",
              "      <td>...</td>\n",
              "      <td>...</td>\n",
              "      <td>...</td>\n",
              "      <td>...</td>\n",
              "    </tr>\n",
              "    <tr>\n",
              "      <th>98</th>\n",
              "      <td>269.859985</td>\n",
              "      <td>270.269989</td>\n",
              "      <td>260.149994</td>\n",
              "      <td>261.559998</td>\n",
              "      <td>0.0000</td>\n",
              "      <td>260.329987</td>\n",
              "    </tr>\n",
              "    <tr>\n",
              "      <th>99</th>\n",
              "      <td>259.500000</td>\n",
              "      <td>267.459991</td>\n",
              "      <td>254.960007</td>\n",
              "      <td>265.859985</td>\n",
              "      <td>0.0000</td>\n",
              "      <td>264.309998</td>\n",
              "    </tr>\n",
              "    <tr>\n",
              "      <th>100</th>\n",
              "      <td>265.549988</td>\n",
              "      <td>265.579987</td>\n",
              "      <td>255.050003</td>\n",
              "      <td>255.309998</td>\n",
              "      <td>0.0000</td>\n",
              "      <td>265.739990</td>\n",
              "    </tr>\n",
              "    <tr>\n",
              "      <th>101</th>\n",
              "      <td>268.640015</td>\n",
              "      <td>268.970001</td>\n",
              "      <td>262.869995</td>\n",
              "      <td>264.899994</td>\n",
              "      <td>0.0000</td>\n",
              "      <td>273.880005</td>\n",
              "    </tr>\n",
              "    <tr>\n",
              "      <th>102</th>\n",
              "      <td>269.079987</td>\n",
              "      <td>275.959991</td>\n",
              "      <td>268.500000</td>\n",
              "      <td>273.750000</td>\n",
              "      <td>0.0000</td>\n",
              "      <td>279.279999</td>\n",
              "    </tr>\n",
              "  </tbody>\n",
              "</table>\n",
              "<p>103 rows × 6 columns</p>\n",
              "</div>"
            ],
            "text/plain": [
              "           Open        High         Low       Close   score      output\n",
              "0    179.259995  179.320007  175.800003  177.600006  0.0000  179.800003\n",
              "1    175.770004  177.949997  175.110001  176.009995  0.0000  177.910004\n",
              "2    177.009995  177.169998  170.059998  172.559998  0.0000  168.149994\n",
              "3    160.820007  161.100006  149.020004  160.059998 -0.3182  152.220001\n",
              "4    156.309998  162.850006  150.750000  152.220001  0.0000  153.029999\n",
              "..          ...         ...         ...         ...     ...         ...\n",
              "98   269.859985  270.269989  260.149994  261.559998  0.0000  260.329987\n",
              "99   259.500000  267.459991  254.960007  265.859985  0.0000  264.309998\n",
              "100  265.549988  265.579987  255.050003  255.309998  0.0000  265.739990\n",
              "101  268.640015  268.970001  262.869995  264.899994  0.0000  273.880005\n",
              "102  269.079987  275.959991  268.500000  273.750000  0.0000  279.279999\n",
              "\n",
              "[103 rows x 6 columns]"
            ]
          },
          "metadata": {
            "tags": []
          },
          "execution_count": 110
        }
      ]
    },
    {
      "cell_type": "code",
      "metadata": {
        "id": "-WOSqSg2Kwtg"
      },
      "source": [
        "x,y=df[df.columns[:-1]].values,df[df.columns[-1]].values"
      ],
      "execution_count": null,
      "outputs": []
    },
    {
      "cell_type": "code",
      "metadata": {
        "colab": {
          "base_uri": "https://localhost:8080/"
        },
        "id": "tvqO_-MTKwtg",
        "outputId": "f983bcaa-cf94-42b3-a0e2-6b31fd7ae1ed"
      },
      "source": [
        "x.shape"
      ],
      "execution_count": null,
      "outputs": [
        {
          "output_type": "execute_result",
          "data": {
            "text/plain": [
              "(103, 5)"
            ]
          },
          "metadata": {
            "tags": []
          },
          "execution_count": 112
        }
      ]
    },
    {
      "cell_type": "code",
      "metadata": {
        "colab": {
          "base_uri": "https://localhost:8080/"
        },
        "id": "JytNplIYKwth",
        "outputId": "97fc608a-6d4c-4946-86e5-2c4f2a6ec99c"
      },
      "source": [
        "y.shape"
      ],
      "execution_count": null,
      "outputs": [
        {
          "output_type": "execute_result",
          "data": {
            "text/plain": [
              "(103,)"
            ]
          },
          "metadata": {
            "tags": []
          },
          "execution_count": 113
        }
      ]
    },
    {
      "cell_type": "code",
      "metadata": {
        "colab": {
          "base_uri": "https://localhost:8080/"
        },
        "id": "zQ3dD2tPKwth",
        "outputId": "fd802258-c3b3-40ef-d58b-df8ef5a9266f"
      },
      "source": [
        "x.shape"
      ],
      "execution_count": null,
      "outputs": [
        {
          "output_type": "execute_result",
          "data": {
            "text/plain": [
              "(103, 5)"
            ]
          },
          "metadata": {
            "tags": []
          },
          "execution_count": 114
        }
      ]
    },
    {
      "cell_type": "markdown",
      "metadata": {
        "id": "N3xOE-ntKwth"
      },
      "source": [
        "## Normalize the data:"
      ]
    },
    {
      "cell_type": "code",
      "metadata": {
        "id": "2O18c_P2Kwti"
      },
      "source": [
        "from sklearn.preprocessing import Normalizer\n",
        "\n",
        "tr=Normalizer().fit(x) \n",
        "\n",
        "x11=tr.transform(x)"
      ],
      "execution_count": null,
      "outputs": []
    },
    {
      "cell_type": "markdown",
      "metadata": {
        "id": "3YFdPe5oKwti"
      },
      "source": [
        "## split the data into train and test:"
      ]
    },
    {
      "cell_type": "code",
      "metadata": {
        "id": "JeHMz4YNKwtj"
      },
      "source": [
        "from sklearn.model_selection import train_test_split\n",
        "\n",
        "x_train,x_test,y_train,y_test=train_test_split(x11,y,test_size=0.2,random_state=42)"
      ],
      "execution_count": null,
      "outputs": []
    },
    {
      "cell_type": "code",
      "metadata": {
        "id": "APkC7zCoKwtj"
      },
      "source": [
        "import math"
      ],
      "execution_count": null,
      "outputs": []
    },
    {
      "cell_type": "markdown",
      "metadata": {
        "id": "oeEViTEEKwtj"
      },
      "source": [
        "## Machine Learning Model:"
      ]
    },
    {
      "cell_type": "code",
      "metadata": {
        "colab": {
          "base_uri": "https://localhost:8080/"
        },
        "id": "F59LMBS1Kwtj",
        "outputId": "4a4707a2-6586-44c7-8f3b-f771801d1ffe"
      },
      "source": [
        "from sklearn.linear_model import LinearRegression\n",
        "\n",
        "from sklearn.metrics import mean_squared_error\n",
        "\n",
        "reg = LinearRegression().fit(x_train, y_train)\n",
        "\n",
        "y_pred=reg.predict(x_test)\n",
        "\n",
        "math.sqrt(mean_squared_error(y_test,y_pred))"
      ],
      "execution_count": null,
      "outputs": [
        {
          "output_type": "execute_result",
          "data": {
            "text/plain": [
              "50.90028608082014"
            ]
          },
          "metadata": {
            "tags": []
          },
          "execution_count": 118
        }
      ]
    },
    {
      "cell_type": "markdown",
      "metadata": {
        "id": "4VJdYsEYKwtk"
      },
      "source": [
        "## Apply prediction one test_data:"
      ]
    },
    {
      "cell_type": "code",
      "metadata": {
        "colab": {
          "base_uri": "https://localhost:8080/",
          "height": 419
        },
        "id": "ViOYy2FCKwtk",
        "outputId": "570e613f-9814-4e56-9117-b81fa17299c6"
      },
      "source": [
        "x1=tr.transform(x)\n",
        "y_pre=reg.predict(x1)\n",
        "y_te=y\n",
        "df2=df\n",
        "df2['predicted']=y_pre\n",
        "error=[abs(y_te[i]-y_pre[i]) for i in range(y_pre.shape[0])]\n",
        "df['error']=error\n",
        "ep=[(error[i]*100)/y_te[i] for i in range(len(error))]\n",
        "df2['error_precentage']=ep\n",
        "df2.head(y_pre.shape[0])\n",
        "#df2 = df2[df2['score']>0]\n",
        "#df2"
      ],
      "execution_count": null,
      "outputs": [
        {
          "output_type": "execute_result",
          "data": {
            "text/html": [
              "<div>\n",
              "<style scoped>\n",
              "    .dataframe tbody tr th:only-of-type {\n",
              "        vertical-align: middle;\n",
              "    }\n",
              "\n",
              "    .dataframe tbody tr th {\n",
              "        vertical-align: top;\n",
              "    }\n",
              "\n",
              "    .dataframe thead th {\n",
              "        text-align: right;\n",
              "    }\n",
              "</style>\n",
              "<table border=\"1\" class=\"dataframe\">\n",
              "  <thead>\n",
              "    <tr style=\"text-align: right;\">\n",
              "      <th></th>\n",
              "      <th>Open</th>\n",
              "      <th>High</th>\n",
              "      <th>Low</th>\n",
              "      <th>Close</th>\n",
              "      <th>score</th>\n",
              "      <th>output</th>\n",
              "      <th>predicted</th>\n",
              "      <th>error</th>\n",
              "      <th>error_precentage</th>\n",
              "    </tr>\n",
              "  </thead>\n",
              "  <tbody>\n",
              "    <tr>\n",
              "      <th>0</th>\n",
              "      <td>179.259995</td>\n",
              "      <td>179.320007</td>\n",
              "      <td>175.800003</td>\n",
              "      <td>177.600006</td>\n",
              "      <td>0.0000</td>\n",
              "      <td>179.800003</td>\n",
              "      <td>218.666679</td>\n",
              "      <td>38.866676</td>\n",
              "      <td>21.616616</td>\n",
              "    </tr>\n",
              "    <tr>\n",
              "      <th>1</th>\n",
              "      <td>175.770004</td>\n",
              "      <td>177.949997</td>\n",
              "      <td>175.110001</td>\n",
              "      <td>176.009995</td>\n",
              "      <td>0.0000</td>\n",
              "      <td>177.910004</td>\n",
              "      <td>236.764643</td>\n",
              "      <td>58.854639</td>\n",
              "      <td>33.081130</td>\n",
              "    </tr>\n",
              "    <tr>\n",
              "      <th>2</th>\n",
              "      <td>177.009995</td>\n",
              "      <td>177.169998</td>\n",
              "      <td>170.059998</td>\n",
              "      <td>172.559998</td>\n",
              "      <td>0.0000</td>\n",
              "      <td>168.149994</td>\n",
              "      <td>217.258950</td>\n",
              "      <td>49.108956</td>\n",
              "      <td>29.205446</td>\n",
              "    </tr>\n",
              "    <tr>\n",
              "      <th>3</th>\n",
              "      <td>160.820007</td>\n",
              "      <td>161.100006</td>\n",
              "      <td>149.020004</td>\n",
              "      <td>160.059998</td>\n",
              "      <td>-0.3182</td>\n",
              "      <td>152.220001</td>\n",
              "      <td>163.378931</td>\n",
              "      <td>11.158930</td>\n",
              "      <td>7.330791</td>\n",
              "    </tr>\n",
              "    <tr>\n",
              "      <th>4</th>\n",
              "      <td>156.309998</td>\n",
              "      <td>162.850006</td>\n",
              "      <td>150.750000</td>\n",
              "      <td>152.220001</td>\n",
              "      <td>0.0000</td>\n",
              "      <td>153.029999</td>\n",
              "      <td>267.895020</td>\n",
              "      <td>114.865021</td>\n",
              "      <td>75.060460</td>\n",
              "    </tr>\n",
              "    <tr>\n",
              "      <th>...</th>\n",
              "      <td>...</td>\n",
              "      <td>...</td>\n",
              "      <td>...</td>\n",
              "      <td>...</td>\n",
              "      <td>...</td>\n",
              "      <td>...</td>\n",
              "      <td>...</td>\n",
              "      <td>...</td>\n",
              "      <td>...</td>\n",
              "    </tr>\n",
              "    <tr>\n",
              "      <th>98</th>\n",
              "      <td>269.859985</td>\n",
              "      <td>270.269989</td>\n",
              "      <td>260.149994</td>\n",
              "      <td>261.559998</td>\n",
              "      <td>0.0000</td>\n",
              "      <td>260.329987</td>\n",
              "      <td>224.787843</td>\n",
              "      <td>35.542143</td>\n",
              "      <td>13.652727</td>\n",
              "    </tr>\n",
              "    <tr>\n",
              "      <th>99</th>\n",
              "      <td>259.500000</td>\n",
              "      <td>267.459991</td>\n",
              "      <td>254.960007</td>\n",
              "      <td>265.859985</td>\n",
              "      <td>0.0000</td>\n",
              "      <td>264.309998</td>\n",
              "      <td>229.247251</td>\n",
              "      <td>35.062747</td>\n",
              "      <td>13.265766</td>\n",
              "    </tr>\n",
              "    <tr>\n",
              "      <th>100</th>\n",
              "      <td>265.549988</td>\n",
              "      <td>265.579987</td>\n",
              "      <td>255.050003</td>\n",
              "      <td>255.309998</td>\n",
              "      <td>0.0000</td>\n",
              "      <td>265.739990</td>\n",
              "      <td>225.199888</td>\n",
              "      <td>40.540102</td>\n",
              "      <td>15.255552</td>\n",
              "    </tr>\n",
              "    <tr>\n",
              "      <th>101</th>\n",
              "      <td>268.640015</td>\n",
              "      <td>268.970001</td>\n",
              "      <td>262.869995</td>\n",
              "      <td>264.899994</td>\n",
              "      <td>0.0000</td>\n",
              "      <td>273.880005</td>\n",
              "      <td>222.380240</td>\n",
              "      <td>51.499765</td>\n",
              "      <td>18.803770</td>\n",
              "    </tr>\n",
              "    <tr>\n",
              "      <th>102</th>\n",
              "      <td>269.079987</td>\n",
              "      <td>275.959991</td>\n",
              "      <td>268.500000</td>\n",
              "      <td>273.750000</td>\n",
              "      <td>0.0000</td>\n",
              "      <td>279.279999</td>\n",
              "      <td>241.367444</td>\n",
              "      <td>37.912555</td>\n",
              "      <td>13.575106</td>\n",
              "    </tr>\n",
              "  </tbody>\n",
              "</table>\n",
              "<p>103 rows × 9 columns</p>\n",
              "</div>"
            ],
            "text/plain": [
              "           Open        High  ...       error  error_precentage\n",
              "0    179.259995  179.320007  ...   38.866676         21.616616\n",
              "1    175.770004  177.949997  ...   58.854639         33.081130\n",
              "2    177.009995  177.169998  ...   49.108956         29.205446\n",
              "3    160.820007  161.100006  ...   11.158930          7.330791\n",
              "4    156.309998  162.850006  ...  114.865021         75.060460\n",
              "..          ...         ...  ...         ...               ...\n",
              "98   269.859985  270.269989  ...   35.542143         13.652727\n",
              "99   259.500000  267.459991  ...   35.062747         13.265766\n",
              "100  265.549988  265.579987  ...   40.540102         15.255552\n",
              "101  268.640015  268.970001  ...   51.499765         18.803770\n",
              "102  269.079987  275.959991  ...   37.912555         13.575106\n",
              "\n",
              "[103 rows x 9 columns]"
            ]
          },
          "metadata": {
            "tags": []
          },
          "execution_count": 119
        }
      ]
    },
    {
      "cell_type": "markdown",
      "metadata": {
        "id": "bsQNVZnbKwtl"
      },
      "source": [
        "## provide the input of stock information,score and apply predcition on it:"
      ]
    },
    {
      "cell_type": "code",
      "metadata": {
        "colab": {
          "base_uri": "https://localhost:8080/",
          "height": 528
        },
        "id": "sitFlLVpKwtl",
        "outputId": "63a4b2d5-7a45-46d4-c1a6-0646071f35f5"
      },
      "source": [
        "open =float(input('enter the open value : '))\n",
        "high =float(input('enter the high value : '))\n",
        "low =float(input('enter the low value : '))\n",
        "close=float(input('enter the close value : '))\n",
        "score=float(input('enter the score : '))\n",
        "a=tr.transform([[open,high,low,close,score]])\n",
        "print('predicted value is : '+str(reg.predict(a)[0]))"
      ],
      "execution_count": null,
      "outputs": [
        {
          "output_type": "error",
          "ename": "KeyboardInterrupt",
          "evalue": "ignored",
          "traceback": [
            "\u001b[0;31m---------------------------------------------------------------------------\u001b[0m",
            "\u001b[0;31mKeyboardInterrupt\u001b[0m                         Traceback (most recent call last)",
            "\u001b[0;32m/usr/local/lib/python3.7/dist-packages/ipykernel/kernelbase.py\u001b[0m in \u001b[0;36m_input_request\u001b[0;34m(self, prompt, ident, parent, password)\u001b[0m\n\u001b[1;32m    728\u001b[0m             \u001b[0;32mtry\u001b[0m\u001b[0;34m:\u001b[0m\u001b[0;34m\u001b[0m\u001b[0;34m\u001b[0m\u001b[0m\n\u001b[0;32m--> 729\u001b[0;31m                 \u001b[0mident\u001b[0m\u001b[0;34m,\u001b[0m \u001b[0mreply\u001b[0m \u001b[0;34m=\u001b[0m \u001b[0mself\u001b[0m\u001b[0;34m.\u001b[0m\u001b[0msession\u001b[0m\u001b[0;34m.\u001b[0m\u001b[0mrecv\u001b[0m\u001b[0;34m(\u001b[0m\u001b[0mself\u001b[0m\u001b[0;34m.\u001b[0m\u001b[0mstdin_socket\u001b[0m\u001b[0;34m,\u001b[0m \u001b[0;36m0\u001b[0m\u001b[0;34m)\u001b[0m\u001b[0;34m\u001b[0m\u001b[0;34m\u001b[0m\u001b[0m\n\u001b[0m\u001b[1;32m    730\u001b[0m             \u001b[0;32mexcept\u001b[0m \u001b[0mException\u001b[0m\u001b[0;34m:\u001b[0m\u001b[0;34m\u001b[0m\u001b[0;34m\u001b[0m\u001b[0m\n",
            "\u001b[0;32m/usr/local/lib/python3.7/dist-packages/jupyter_client/session.py\u001b[0m in \u001b[0;36mrecv\u001b[0;34m(self, socket, mode, content, copy)\u001b[0m\n\u001b[1;32m    802\u001b[0m         \u001b[0;32mtry\u001b[0m\u001b[0;34m:\u001b[0m\u001b[0;34m\u001b[0m\u001b[0;34m\u001b[0m\u001b[0m\n\u001b[0;32m--> 803\u001b[0;31m             \u001b[0mmsg_list\u001b[0m \u001b[0;34m=\u001b[0m \u001b[0msocket\u001b[0m\u001b[0;34m.\u001b[0m\u001b[0mrecv_multipart\u001b[0m\u001b[0;34m(\u001b[0m\u001b[0mmode\u001b[0m\u001b[0;34m,\u001b[0m \u001b[0mcopy\u001b[0m\u001b[0;34m=\u001b[0m\u001b[0mcopy\u001b[0m\u001b[0;34m)\u001b[0m\u001b[0;34m\u001b[0m\u001b[0;34m\u001b[0m\u001b[0m\n\u001b[0m\u001b[1;32m    804\u001b[0m         \u001b[0;32mexcept\u001b[0m \u001b[0mzmq\u001b[0m\u001b[0;34m.\u001b[0m\u001b[0mZMQError\u001b[0m \u001b[0;32mas\u001b[0m \u001b[0me\u001b[0m\u001b[0;34m:\u001b[0m\u001b[0;34m\u001b[0m\u001b[0;34m\u001b[0m\u001b[0m\n",
            "\u001b[0;32m/usr/local/lib/python3.7/dist-packages/zmq/sugar/socket.py\u001b[0m in \u001b[0;36mrecv_multipart\u001b[0;34m(self, flags, copy, track)\u001b[0m\n\u001b[1;32m    582\u001b[0m         \"\"\"\n\u001b[0;32m--> 583\u001b[0;31m         \u001b[0mparts\u001b[0m \u001b[0;34m=\u001b[0m \u001b[0;34m[\u001b[0m\u001b[0mself\u001b[0m\u001b[0;34m.\u001b[0m\u001b[0mrecv\u001b[0m\u001b[0;34m(\u001b[0m\u001b[0mflags\u001b[0m\u001b[0;34m,\u001b[0m \u001b[0mcopy\u001b[0m\u001b[0;34m=\u001b[0m\u001b[0mcopy\u001b[0m\u001b[0;34m,\u001b[0m \u001b[0mtrack\u001b[0m\u001b[0;34m=\u001b[0m\u001b[0mtrack\u001b[0m\u001b[0;34m)\u001b[0m\u001b[0;34m]\u001b[0m\u001b[0;34m\u001b[0m\u001b[0;34m\u001b[0m\u001b[0m\n\u001b[0m\u001b[1;32m    584\u001b[0m         \u001b[0;31m# have first part already, only loop while more to receive\u001b[0m\u001b[0;34m\u001b[0m\u001b[0;34m\u001b[0m\u001b[0;34m\u001b[0m\u001b[0m\n",
            "\u001b[0;32mzmq/backend/cython/socket.pyx\u001b[0m in \u001b[0;36mzmq.backend.cython.socket.Socket.recv\u001b[0;34m()\u001b[0m\n",
            "\u001b[0;32mzmq/backend/cython/socket.pyx\u001b[0m in \u001b[0;36mzmq.backend.cython.socket.Socket.recv\u001b[0;34m()\u001b[0m\n",
            "\u001b[0;32mzmq/backend/cython/socket.pyx\u001b[0m in \u001b[0;36mzmq.backend.cython.socket._recv_copy\u001b[0;34m()\u001b[0m\n",
            "\u001b[0;32m/usr/local/lib/python3.7/dist-packages/zmq/backend/cython/checkrc.pxd\u001b[0m in \u001b[0;36mzmq.backend.cython.checkrc._check_rc\u001b[0;34m()\u001b[0m\n",
            "\u001b[0;31mKeyboardInterrupt\u001b[0m: ",
            "\nDuring handling of the above exception, another exception occurred:\n",
            "\u001b[0;31mKeyboardInterrupt\u001b[0m                         Traceback (most recent call last)",
            "\u001b[0;32m<ipython-input-120-cce4deda1aa5>\u001b[0m in \u001b[0;36m<module>\u001b[0;34m()\u001b[0m\n\u001b[0;32m----> 1\u001b[0;31m \u001b[0mopen\u001b[0m \u001b[0;34m=\u001b[0m\u001b[0mfloat\u001b[0m\u001b[0;34m(\u001b[0m\u001b[0minput\u001b[0m\u001b[0;34m(\u001b[0m\u001b[0;34m'enter the open value : '\u001b[0m\u001b[0;34m)\u001b[0m\u001b[0;34m)\u001b[0m\u001b[0;34m\u001b[0m\u001b[0;34m\u001b[0m\u001b[0m\n\u001b[0m\u001b[1;32m      2\u001b[0m \u001b[0mhigh\u001b[0m \u001b[0;34m=\u001b[0m\u001b[0mfloat\u001b[0m\u001b[0;34m(\u001b[0m\u001b[0minput\u001b[0m\u001b[0;34m(\u001b[0m\u001b[0;34m'enter the high value : '\u001b[0m\u001b[0;34m)\u001b[0m\u001b[0;34m)\u001b[0m\u001b[0;34m\u001b[0m\u001b[0;34m\u001b[0m\u001b[0m\n\u001b[1;32m      3\u001b[0m \u001b[0mlow\u001b[0m \u001b[0;34m=\u001b[0m\u001b[0mfloat\u001b[0m\u001b[0;34m(\u001b[0m\u001b[0minput\u001b[0m\u001b[0;34m(\u001b[0m\u001b[0;34m'enter the low value : '\u001b[0m\u001b[0;34m)\u001b[0m\u001b[0;34m)\u001b[0m\u001b[0;34m\u001b[0m\u001b[0;34m\u001b[0m\u001b[0m\n\u001b[1;32m      4\u001b[0m \u001b[0mclose\u001b[0m\u001b[0;34m=\u001b[0m\u001b[0mfloat\u001b[0m\u001b[0;34m(\u001b[0m\u001b[0minput\u001b[0m\u001b[0;34m(\u001b[0m\u001b[0;34m'enter the close value : '\u001b[0m\u001b[0;34m)\u001b[0m\u001b[0;34m)\u001b[0m\u001b[0;34m\u001b[0m\u001b[0;34m\u001b[0m\u001b[0m\n\u001b[1;32m      5\u001b[0m \u001b[0mscore\u001b[0m\u001b[0;34m=\u001b[0m\u001b[0mfloat\u001b[0m\u001b[0;34m(\u001b[0m\u001b[0minput\u001b[0m\u001b[0;34m(\u001b[0m\u001b[0;34m'enter the score : '\u001b[0m\u001b[0;34m)\u001b[0m\u001b[0;34m)\u001b[0m\u001b[0;34m\u001b[0m\u001b[0;34m\u001b[0m\u001b[0m\n",
            "\u001b[0;32m/usr/local/lib/python3.7/dist-packages/ipykernel/kernelbase.py\u001b[0m in \u001b[0;36mraw_input\u001b[0;34m(self, prompt)\u001b[0m\n\u001b[1;32m    702\u001b[0m             \u001b[0mself\u001b[0m\u001b[0;34m.\u001b[0m\u001b[0m_parent_ident\u001b[0m\u001b[0;34m,\u001b[0m\u001b[0;34m\u001b[0m\u001b[0;34m\u001b[0m\u001b[0m\n\u001b[1;32m    703\u001b[0m             \u001b[0mself\u001b[0m\u001b[0;34m.\u001b[0m\u001b[0m_parent_header\u001b[0m\u001b[0;34m,\u001b[0m\u001b[0;34m\u001b[0m\u001b[0;34m\u001b[0m\u001b[0m\n\u001b[0;32m--> 704\u001b[0;31m             \u001b[0mpassword\u001b[0m\u001b[0;34m=\u001b[0m\u001b[0;32mFalse\u001b[0m\u001b[0;34m,\u001b[0m\u001b[0;34m\u001b[0m\u001b[0;34m\u001b[0m\u001b[0m\n\u001b[0m\u001b[1;32m    705\u001b[0m         )\n\u001b[1;32m    706\u001b[0m \u001b[0;34m\u001b[0m\u001b[0m\n",
            "\u001b[0;32m/usr/local/lib/python3.7/dist-packages/ipykernel/kernelbase.py\u001b[0m in \u001b[0;36m_input_request\u001b[0;34m(self, prompt, ident, parent, password)\u001b[0m\n\u001b[1;32m    732\u001b[0m             \u001b[0;32mexcept\u001b[0m \u001b[0mKeyboardInterrupt\u001b[0m\u001b[0;34m:\u001b[0m\u001b[0;34m\u001b[0m\u001b[0;34m\u001b[0m\u001b[0m\n\u001b[1;32m    733\u001b[0m                 \u001b[0;31m# re-raise KeyboardInterrupt, to truncate traceback\u001b[0m\u001b[0;34m\u001b[0m\u001b[0;34m\u001b[0m\u001b[0;34m\u001b[0m\u001b[0m\n\u001b[0;32m--> 734\u001b[0;31m                 \u001b[0;32mraise\u001b[0m \u001b[0mKeyboardInterrupt\u001b[0m\u001b[0;34m\u001b[0m\u001b[0;34m\u001b[0m\u001b[0m\n\u001b[0m\u001b[1;32m    735\u001b[0m             \u001b[0;32melse\u001b[0m\u001b[0;34m:\u001b[0m\u001b[0;34m\u001b[0m\u001b[0;34m\u001b[0m\u001b[0m\n\u001b[1;32m    736\u001b[0m                 \u001b[0;32mbreak\u001b[0m\u001b[0;34m\u001b[0m\u001b[0;34m\u001b[0m\u001b[0m\n",
            "\u001b[0;31mKeyboardInterrupt\u001b[0m: "
          ]
        }
      ]
    }
  ]
}